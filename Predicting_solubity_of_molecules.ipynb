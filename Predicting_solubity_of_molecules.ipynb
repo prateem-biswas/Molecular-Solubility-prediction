{
  "cells": [
    {
      "cell_type": "markdown",
      "metadata": {
        "id": "view-in-github",
        "colab_type": "text"
      },
      "source": [
        "<a href=\"https://colab.research.google.com/github/prateem-biswas/Molecular-Solubility-prediction/blob/main/Predicting_solubity_of_molecules.ipynb\" target=\"_parent\"><img src=\"https://colab.research.google.com/assets/colab-badge.svg\" alt=\"Open In Colab\"/></a>"
      ]
    },
    {
      "cell_type": "markdown",
      "metadata": {
        "id": "o_1U98pWOq7X"
      },
      "source": [
        "# **Cheminformatics Project - Predicting Solubility of Molecules**\n",
        "\n",
        "\n",
        "The solubility of drugs is an important property in Drug discovery, design and development . The aim of this project is to apply machine learning for predicting the solubility of various molecules.\n",
        "\n",
        "This idea for this notebook was inspired by the excellent blog post by Pat Walters  where he reproduced the linear regression model with similar degree of performance as that of Delaney."
      ]
    },
    {
      "cell_type": "markdown",
      "source": [
        "## **Importing important libraries**"
      ],
      "metadata": {
        "id": "9kwetLWT0Ksv"
      }
    },
    {
      "cell_type": "code",
      "source": [
        "import pandas as pd\n",
        "import numpy as np\n",
        "import matplotlib.pyplot as plt\n",
        "import seaborn as sns\n",
        "%matplotlib inline"
      ],
      "metadata": {
        "id": "oVlhpoyKz9XA"
      },
      "execution_count": 6,
      "outputs": []
    },
    {
      "cell_type": "markdown",
      "metadata": {
        "id": "23aX3gAoOsyG"
      },
      "source": [
        "## **Installing rdkit**"
      ]
    },
    {
      "cell_type": "code",
      "execution_count": 7,
      "metadata": {
        "id": "BwKCzFCjN8p4",
        "colab": {
          "base_uri": "https://localhost:8080/"
        },
        "outputId": "08833969-9a36-4ef8-ed9f-dd2553011f19"
      },
      "outputs": [
        {
          "output_type": "stream",
          "name": "stdout",
          "text": [
            "--2022-08-24 19:36:10--  https://repo.anaconda.com/miniconda/Miniconda3-py37_4.8.2-Linux-x86_64.sh\n",
            "Resolving repo.anaconda.com (repo.anaconda.com)... 104.16.130.3, 104.16.131.3, 2606:4700::6810:8203, ...\n",
            "Connecting to repo.anaconda.com (repo.anaconda.com)|104.16.130.3|:443... connected.\n",
            "HTTP request sent, awaiting response... 200 OK\n",
            "Length: 85055499 (81M) [application/x-sh]\n",
            "Saving to: ‘Miniconda3-py37_4.8.2-Linux-x86_64.sh.2’\n",
            "\n",
            "Miniconda3-py37_4.8 100%[===================>]  81.12M   132MB/s    in 0.6s    \n",
            "\n",
            "2022-08-24 19:36:11 (132 MB/s) - ‘Miniconda3-py37_4.8.2-Linux-x86_64.sh.2’ saved [85055499/85055499]\n",
            "\n",
            "PREFIX=/usr/local\n",
            "Unpacking payload ...\n",
            "Collecting package metadata (current_repodata.json): - \b\b\\ \b\bdone\n",
            "Solving environment: / \b\b- \b\b\\ \b\b| \b\b/ \b\b- \b\b\\ \b\b| \b\b/ \b\b- \b\b\\ \b\b| \b\b/ \b\b- \b\bfailed with initial frozen solve. Retrying with flexible solve.\n",
            "Solving environment: | \b\b/ \b\b- \b\b\\ \b\b| \b\b/ \b\b- \b\b\\ \b\bfailed with repodata from current_repodata.json, will retry with next repodata source.\n",
            "Collecting package metadata (repodata.json): / \b\bdone\n",
            "Solving environment: \\ \b\b| \b\b/ \b\b- \b\b\\ \b\b| \b\b/ \b\b- \b\b\\ \b\b| \b\b/ \b\b- \b\b\\ \b\bfailed with initial frozen solve. Retrying with flexible solve.\n",
            "Solving environment: / \b\b- \b\b\\ \b\b| \b\b/ \b\b- \b\b\\ \b\b| \b\b/ \n",
            "Found conflicts! Looking for incompatible packages.\n",
            "This can take several minutes.  Press CTRL-C to abort.\n",
            "\b\b/ \b\bfailed\n",
            "\n",
            "UnsatisfiableError: The following specifications were found to be incompatible with each other:\n",
            "\n",
            "Output in format: Requested package -> Available versions\n",
            "\n",
            "Package ld_impl_linux-64 conflicts for:\n",
            "rdkit -> python[version='>=3.7,<3.8.0a0'] -> ld_impl_linux-64\n",
            "numexpr -> python[version='>=3.7,<3.8.0a0'] -> ld_impl_linux-64\n",
            "chardet==3.0.4=py37_1003 -> python[version='>=3.7,<3.8.0a0'] -> ld_impl_linux-64\n",
            "conda==4.8.2=py37_0 -> python[version='>=3.7,<3.8.0a0'] -> ld_impl_linux-64\n",
            "python-dateutil -> python -> ld_impl_linux-64\n",
            "mkl-service -> python[version='>=3.7,<3.8.0a0'] -> ld_impl_linux-64\n",
            "requests==2.22.0=py37_1 -> python[version='>=3.7,<3.8.0a0'] -> ld_impl_linux-64\n",
            "setuptools==45.2.0=py37_0 -> python[version='>=3.7,<3.8.0a0'] -> ld_impl_linux-64\n",
            "pip==20.0.2=py37_1 -> python[version='>=3.7,<3.8.0a0'] -> ld_impl_linux-64\n",
            "certifi==2019.11.28=py37_0 -> python[version='>=3.7,<3.8.0a0'] -> ld_impl_linux-64\n",
            "pyparsing -> python[version='>=3.6'] -> ld_impl_linux-64\n",
            "packaging -> python[version='>=3.6'] -> ld_impl_linux-64\n",
            "mkl_random -> python[version='>=3.7,<3.8.0a0'] -> ld_impl_linux-64\n",
            "ruamel_yaml==0.15.87=py37h7b6447c_0 -> python[version='>=3.7,<3.8.0a0'] -> ld_impl_linux-64\n",
            "cffi==1.14.0=py37h2e261b9_0 -> python[version='>=3.7,<3.8.0a0'] -> ld_impl_linux-64\n",
            "ld_impl_linux-64==2.33.1=h53a641e_7\n",
            "pysocks==1.7.1=py37_0 -> python[version='>=3.7,<3.8.0a0'] -> ld_impl_linux-64\n",
            "urllib3==1.25.8=py37_0 -> python[version='>=3.7,<3.8.0a0'] -> ld_impl_linux-64\n",
            "pyopenssl==19.1.0=py37_0 -> python[version='>=3.7,<3.8.0a0'] -> ld_impl_linux-64\n",
            "mkl_fft -> python[version='>=3.7,<3.8.0a0'] -> ld_impl_linux-64\n",
            "pycosat==0.6.3=py37h7b6447c_0 -> python[version='>=3.7,<3.8.0a0'] -> ld_impl_linux-64\n",
            "pycparser==2.19=py37_0 -> python[version='>=3.7,<3.8.0a0'] -> ld_impl_linux-64\n",
            "py-boost -> python[version='>=3.7,<3.8.0a0'] -> ld_impl_linux-64\n",
            "numpy -> python[version='>=3.7,<3.8.0a0'] -> ld_impl_linux-64\n",
            "idna==2.8=py37_0 -> python[version='>=3.7,<3.8.0a0'] -> ld_impl_linux-64\n",
            "cytoolz -> python[version='>=3.7,<3.8.0a0'] -> ld_impl_linux-64\n",
            "tqdm==4.42.1=py_0 -> python -> ld_impl_linux-64\n",
            "pillow -> python[version='>=3.7,<3.8.0a0'] -> ld_impl_linux-64\n",
            "cryptography==2.8=py37h1ba5d50_0 -> python[version='>=3.7,<3.8.0a0'] -> ld_impl_linux-64\n",
            "conda-package-handling==1.6.0=py37h7b6447c_0 -> python[version='>=3.7,<3.8.0a0'] -> ld_impl_linux-64\n",
            "toolz -> python[version='>=3.5'] -> ld_impl_linux-64\n",
            "pandas -> python[version='>=3.7,<3.8.0a0'] -> ld_impl_linux-64\n",
            "bottleneck -> python[version='>=3.7,<3.8.0a0'] -> ld_impl_linux-64\n",
            "wheel==0.34.2=py37_0 -> python[version='>=3.7,<3.8.0a0'] -> ld_impl_linux-64\n",
            "asn1crypto==1.3.0=py37_0 -> python[version='>=3.7,<3.8.0a0'] -> ld_impl_linux-64\n",
            "python==3.7.6=h0371630_2 -> ld_impl_linux-64\n",
            "six==1.14.0=py37_0 -> python[version='>=3.7,<3.8.0a0'] -> ld_impl_linux-64\n",
            "pytz -> python[version='>=3.7,<3.8.0a0'] -> ld_impl_linux-64\n",
            "numpy-base -> python[version='>=3.7,<3.8.0a0'] -> ld_impl_linux-64\n",
            "\n",
            "Package xz conflicts for:\n",
            "pycparser==2.19=py37_0 -> python[version='>=3.7,<3.8.0a0'] -> xz[version='>=5.2.4,<6.0a0']\n",
            "py-boost -> libboost[version='>=1.73.0,<1.73.1.0a0',build=h3ff78a5_11] -> xz[version='>=5.2.4,<6.0a0|>=5.2.5,<6.0a0']\n",
            "xz==5.2.4=h14c3975_4\n",
            "requests==2.22.0=py37_1 -> python[version='>=3.7,<3.8.0a0'] -> xz[version='>=5.2.4,<6.0a0']\n",
            "pysocks==1.7.1=py37_0 -> python[version='>=3.7,<3.8.0a0'] -> xz[version='>=5.2.4,<6.0a0']\n",
            "libwebp -> libtiff[version='>=4.1.0,<5.0a0'] -> xz[version='>=5.2.5,<6.0a0']\n",
            "lcms2 -> libtiff[version='>=4.1.0,<5.0a0'] -> xz[version='>=5.2.5,<6.0a0']\n",
            "pillow -> libtiff[version='>=4.1.0,<5.0a0'] -> xz[version='>=5.2.4,<6.0a0|>=5.2.5,<6.0a0']\n",
            "libtiff -> xz[version='>=5.2.5,<6.0a0']\n",
            "libboost -> xz[version='>=5.2.5,<6.0a0']\n",
            "python-dateutil -> python -> xz[version='>=5.2.4,<6.0a0']\n",
            "mkl-service -> python[version='>=3.7,<3.8.0a0'] -> xz[version='>=5.2.4,<6.0a0']\n",
            "chardet==3.0.4=py37_1003 -> python[version='>=3.7,<3.8.0a0'] -> xz[version='>=5.2.4,<6.0a0']\n",
            "libxml2 -> xz[version='>=5.2.5,<6.0a0']\n",
            "numpy -> python[version='>=3.7,<3.8.0a0'] -> xz[version='>=5.2.4,<6.0a0']\n",
            "numexpr -> python[version='>=3.7,<3.8.0a0'] -> xz[version='>=5.2.4,<6.0a0']\n",
            "fontconfig -> libxml2[version='>=2.9.10,<2.10.0a0'] -> xz[version='>=5.2.5,<6.0a0']\n",
            "wheel==0.34.2=py37_0 -> python[version='>=3.7,<3.8.0a0'] -> xz[version='>=5.2.4,<6.0a0']\n",
            "asn1crypto==1.3.0=py37_0 -> python[version='>=3.7,<3.8.0a0'] -> xz[version='>=5.2.4,<6.0a0']\n",
            "cryptography==2.8=py37h1ba5d50_0 -> python[version='>=3.7,<3.8.0a0'] -> xz[version='>=5.2.4,<6.0a0']\n",
            "cffi==1.14.0=py37h2e261b9_0 -> python[version='>=3.7,<3.8.0a0'] -> xz[version='>=5.2.4,<6.0a0']\n",
            "conda==4.8.2=py37_0 -> python[version='>=3.7,<3.8.0a0'] -> xz[version='>=5.2.4,<6.0a0']\n",
            "pyparsing -> python[version='>=3.6'] -> xz[version='>=5.2.4,<6.0a0']\n",
            "mkl_fft -> python[version='>=3.7,<3.8.0a0'] -> xz[version='>=5.2.4,<6.0a0']\n",
            "pandas -> python[version='>=3.7,<3.8.0a0'] -> xz[version='>=5.2.4,<6.0a0']\n",
            "urllib3==1.25.8=py37_0 -> python[version='>=3.7,<3.8.0a0'] -> xz[version='>=5.2.4,<6.0a0']\n",
            "six==1.14.0=py37_0 -> python[version='>=3.7,<3.8.0a0'] -> xz[version='>=5.2.4,<6.0a0']\n",
            "tqdm==4.42.1=py_0 -> python -> xz[version='>=5.2.4,<6.0a0']\n",
            "ruamel_yaml==0.15.87=py37h7b6447c_0 -> python[version='>=3.7,<3.8.0a0'] -> xz[version='>=5.2.4,<6.0a0']\n",
            "certifi==2019.11.28=py37_0 -> python[version='>=3.7,<3.8.0a0'] -> xz[version='>=5.2.4,<6.0a0']\n",
            "pyopenssl==19.1.0=py37_0 -> python[version='>=3.7,<3.8.0a0'] -> xz[version='>=5.2.4,<6.0a0']\n",
            "pip==20.0.2=py37_1 -> python[version='>=3.7,<3.8.0a0'] -> xz[version='>=5.2.4,<6.0a0']\n",
            "numpy-base -> python[version='>=3.7,<3.8.0a0'] -> xz[version='>=5.2.4,<6.0a0']\n",
            "bottleneck -> python[version='>=3.7,<3.8.0a0'] -> xz[version='>=5.2.4,<6.0a0']\n",
            "python==3.7.6=h0371630_2 -> xz[version='>=5.2.4,<6.0a0']\n",
            "packaging -> python[version='>=3.6'] -> xz[version='>=5.2.4,<6.0a0']\n",
            "cytoolz -> python[version='>=3.7,<3.8.0a0'] -> xz[version='>=5.2.4,<6.0a0']\n",
            "pycosat==0.6.3=py37h7b6447c_0 -> python[version='>=3.7,<3.8.0a0'] -> xz[version='>=5.2.4,<6.0a0']\n",
            "zstd -> xz[version='>=5.2.5,<6.0a0']\n",
            "idna==2.8=py37_0 -> python[version='>=3.7,<3.8.0a0'] -> xz[version='>=5.2.4,<6.0a0']\n",
            "mkl_random -> python[version='>=3.7,<3.8.0a0'] -> xz[version='>=5.2.4,<6.0a0']\n",
            "setuptools==45.2.0=py37_0 -> python[version='>=3.7,<3.8.0a0'] -> xz[version='>=5.2.4,<6.0a0']\n",
            "pytz -> python[version='>=3.7,<3.8.0a0'] -> xz[version='>=5.2.4,<6.0a0']\n",
            "toolz -> python[version='>=3.5'] -> xz[version='>=5.2.4,<6.0a0']\n",
            "conda-package-handling==1.6.0=py37h7b6447c_0 -> python[version='>=3.7,<3.8.0a0'] -> xz[version='>=5.2.4,<6.0a0']\n",
            "rdkit -> libboost[version='>=1.73.0,<1.74.0a0'] -> xz[version='>=5.2.4,<6.0a0|>=5.2.5,<6.0a0']\n",
            "\n",
            "Package pycosat conflicts for:\n",
            "conda==4.8.2=py37_0 -> pycosat[version='>=0.6.3']\n",
            "pycosat==0.6.3=py37h7b6447c_0\n",
            "\n",
            "Package libtiff conflicts for:\n",
            "lcms2 -> libtiff[version='>=4.1.0,<5.0a0']\n",
            "rdkit -> pillow -> libtiff[version='>=4.1.0,<5.0a0']\n",
            "libwebp -> libtiff[version='>=4.1.0,<5.0a0']\n",
            "pillow -> libtiff[version='>=4.1.0,<5.0a0']\n",
            "libtiff\n",
            "\n",
            "Package six conflicts for:\n",
            "conda-package-handling==1.6.0=py37h7b6447c_0 -> six\n",
            "mkl-service -> six\n",
            "mkl_random -> mkl-service[version='>=2.3.0,<3.0a0'] -> six\n",
            "six==1.14.0=py37_0\n",
            "urllib3==1.25.8=py37_0 -> cryptography[version='>=1.3.4'] -> six[version='>=1.4.1|>=1.5.2']\n",
            "mkl_fft -> mkl-service[version='>=2.3.0,<3.0a0'] -> six\n",
            "pyopenssl==19.1.0=py37_0 -> six[version='>=1.5.2']\n",
            "numpy -> mkl-service[version='>=2.3.0,<3.0a0'] -> six\n",
            "python-dateutil -> six[version='>=1.5']\n",
            "pyopenssl==19.1.0=py37_0 -> cryptography[version='>=2.8'] -> six[version='>=1.4.1']\n",
            "numpy-base -> mkl-service[version='>=2.3.0,<3.0a0'] -> six\n",
            "cryptography==2.8=py37h1ba5d50_0 -> six[version='>=1.4.1']\n",
            "conda==4.8.2=py37_0 -> conda-package-handling[version='>=1.3.0'] -> six[version='>=1.5.2']\n",
            "numexpr -> mkl-service[version='>=2.3.0,<3.0a0'] -> six\n",
            "pandas -> python-dateutil[version='>=2.7.3'] -> six[version='>=1.5']\n",
            "\n",
            "Package python-dateutil conflicts for:\n",
            "python-dateutil\n",
            "pandas -> python-dateutil[version='>=2.7.3']\n",
            "rdkit -> pandas -> python-dateutil[version='>=2.7.3']\n",
            "\n",
            "Package readline conflicts for:\n",
            "python-dateutil -> python -> readline[version='>=7.0,<8.0a0']\n",
            "tqdm==4.42.1=py_0 -> python -> readline[version='>=7.0,<8.0a0']\n",
            "rdkit -> python[version='>=3.7,<3.8.0a0'] -> readline[version='>=7.0,<8.0a0']\n",
            "numpy-base -> python[version='>=3.7,<3.8.0a0'] -> readline[version='>=7.0,<8.0a0']\n",
            "urllib3==1.25.8=py37_0 -> python[version='>=3.7,<3.8.0a0'] -> readline[version='>=7.0,<8.0a0']\n",
            "pyopenssl==19.1.0=py37_0 -> python[version='>=3.7,<3.8.0a0'] -> readline[version='>=7.0,<8.0a0']\n",
            "conda-package-handling==1.6.0=py37h7b6447c_0 -> python[version='>=3.7,<3.8.0a0'] -> readline[version='>=7.0,<8.0a0']\n",
            "pysocks==1.7.1=py37_0 -> python[version='>=3.7,<3.8.0a0'] -> readline[version='>=7.0,<8.0a0']\n",
            "cryptography==2.8=py37h1ba5d50_0 -> python[version='>=3.7,<3.8.0a0'] -> readline[version='>=7.0,<8.0a0']\n",
            "chardet==3.0.4=py37_1003 -> python[version='>=3.7,<3.8.0a0'] -> readline[version='>=7.0,<8.0a0']\n",
            "pillow -> python[version='>=3.7,<3.8.0a0'] -> readline[version='>=7.0,<8.0a0']\n",
            "pycparser==2.19=py37_0 -> python[version='>=3.7,<3.8.0a0'] -> readline[version='>=7.0,<8.0a0']\n",
            "conda==4.8.2=py37_0 -> python[version='>=3.7,<3.8.0a0'] -> readline[version='>=7.0,<8.0a0']\n",
            "numpy -> python[version='>=3.7,<3.8.0a0'] -> readline[version='>=7.0,<8.0a0']\n",
            "wheel==0.34.2=py37_0 -> python[version='>=3.7,<3.8.0a0'] -> readline[version='>=7.0,<8.0a0']\n",
            "bottleneck -> python[version='>=3.7,<3.8.0a0'] -> readline[version='>=7.0,<8.0a0']\n",
            "mkl_random -> python[version='>=3.7,<3.8.0a0'] -> readline[version='>=7.0,<8.0a0']\n",
            "cffi==1.14.0=py37h2e261b9_0 -> python[version='>=3.7,<3.8.0a0'] -> readline[version='>=7.0,<8.0a0']\n",
            "pandas -> python[version='>=3.7,<3.8.0a0'] -> readline[version='>=7.0,<8.0a0']\n",
            "setuptools==45.2.0=py37_0 -> python[version='>=3.7,<3.8.0a0'] -> readline[version='>=7.0,<8.0a0']\n",
            "pycosat==0.6.3=py37h7b6447c_0 -> python[version='>=3.7,<3.8.0a0'] -> readline[version='>=7.0,<8.0a0']\n",
            "six==1.14.0=py37_0 -> python[version='>=3.7,<3.8.0a0'] -> readline[version='>=7.0,<8.0a0']\n",
            "packaging -> python[version='>=3.6'] -> readline[version='>=7.0,<8.0a0']\n",
            "pytz -> python[version='>=3.7,<3.8.0a0'] -> readline[version='>=7.0,<8.0a0']\n",
            "toolz -> python[version='>=3.5'] -> readline[version='>=7.0,<8.0a0']\n",
            "idna==2.8=py37_0 -> python[version='>=3.7,<3.8.0a0'] -> readline[version='>=7.0,<8.0a0']\n",
            "ruamel_yaml==0.15.87=py37h7b6447c_0 -> python[version='>=3.7,<3.8.0a0'] -> readline[version='>=7.0,<8.0a0']\n",
            "certifi==2019.11.28=py37_0 -> python[version='>=3.7,<3.8.0a0'] -> readline[version='>=7.0,<8.0a0']\n",
            "mkl_fft -> python[version='>=3.7,<3.8.0a0'] -> readline[version='>=7.0,<8.0a0']\n",
            "pyparsing -> python[version='>=3.6'] -> readline[version='>=7.0,<8.0a0']\n",
            "cytoolz -> python[version='>=3.7,<3.8.0a0'] -> readline[version='>=7.0,<8.0a0']\n",
            "numexpr -> python[version='>=3.7,<3.8.0a0'] -> readline[version='>=7.0,<8.0a0']\n",
            "pip==20.0.2=py37_1 -> python[version='>=3.7,<3.8.0a0'] -> readline[version='>=7.0,<8.0a0']\n",
            "readline==7.0=h7b6447c_5\n",
            "py-boost -> python[version='>=3.7,<3.8.0a0'] -> readline[version='>=7.0,<8.0a0']\n",
            "asn1crypto==1.3.0=py37_0 -> python[version='>=3.7,<3.8.0a0'] -> readline[version='>=7.0,<8.0a0']\n",
            "mkl-service -> python[version='>=3.7,<3.8.0a0'] -> readline[version='>=7.0,<8.0a0']\n",
            "requests==2.22.0=py37_1 -> python[version='>=3.7,<3.8.0a0'] -> readline[version='>=7.0,<8.0a0']\n",
            "python==3.7.6=h0371630_2 -> readline[version='>=7.0,<8.0a0']\n",
            "\n",
            "Package _openmp_mutex conflicts for:\n",
            "pycosat==0.6.3=py37h7b6447c_0 -> libgcc-ng[version='>=7.3.0'] -> _openmp_mutex\n",
            "zstd -> libgcc-ng[version='>=7.3.0'] -> _openmp_mutex\n",
            "pixman -> libgcc-ng[version='>=7.5.0'] -> _openmp_mutex\n",
            "openssl==1.1.1d=h7b6447c_4 -> libgcc-ng[version='>=7.3.0'] -> _openmp_mutex\n",
            "libwebp -> libgcc-ng[version='>=7.5.0'] -> _openmp_mutex\n",
            "giflib -> libgcc-ng[version='>=7.3.0'] -> _openmp_mutex\n",
            "zlib==1.2.11=h7b6447c_3 -> libgcc-ng[version='>=7.3.0'] -> _openmp_mutex\n",
            "libxml2 -> libgcc-ng[version='>=9.3.0'] -> _openmp_mutex\n",
            "libtiff -> libgcc-ng[version='>=7.3.0'] -> _openmp_mutex\n",
            "lz4-c -> libgcc-ng[version='>=7.5.0'] -> _openmp_mutex\n",
            "ruamel_yaml==0.15.87=py37h7b6447c_0 -> libgcc-ng[version='>=7.3.0'] -> _openmp_mutex\n",
            "mkl-service -> libgcc-ng[version='>=7.5.0'] -> _openmp_mutex\n",
            "cairo -> libgcc-ng[version='>=7.3.0'] -> _openmp_mutex\n",
            "mkl_fft -> libgcc-ng[version='>=7.5.0'] -> _openmp_mutex\n",
            "bzip2 -> libgcc-ng[version='>=7.3.0'] -> _openmp_mutex\n",
            "numpy -> libgcc-ng[version='>=7.5.0'] -> _openmp_mutex\n",
            "xz==5.2.4=h14c3975_4 -> libgcc-ng[version='>=7.2.0'] -> _openmp_mutex\n",
            "numpy-base -> libgcc-ng[version='>=7.5.0'] -> _openmp_mutex\n",
            "tk==8.6.8=hbc83047_0 -> libgcc-ng[version='>=7.3.0'] -> _openmp_mutex\n",
            "pcre -> libgcc-ng[version='>=7.5.0'] -> _openmp_mutex\n",
            "bottleneck -> libgcc-ng[version='>=11.2.0'] -> _openmp_mutex\n",
            "libboost -> libgcc-ng[version='>=7.3.0'] -> _openmp_mutex\n",
            "pandas -> libgcc-ng[version='>=7.5.0'] -> _openmp_mutex\n",
            "mkl_random -> libgcc-ng[version='>=7.5.0'] -> _openmp_mutex\n",
            "ncurses==6.2=he6710b0_0 -> libgcc-ng[version='>=7.3.0'] -> _openmp_mutex\n",
            "pillow -> libgcc-ng[version='>=7.5.0'] -> _openmp_mutex\n",
            "numexpr -> libgcc-ng[version='>=7.5.0'] -> _openmp_mutex\n",
            "libwebp-base -> libgcc-ng[version='>=7.5.0'] -> _openmp_mutex\n",
            "jpeg -> libgcc-ng[version='>=7.5.0'] -> _openmp_mutex\n",
            "python==3.7.6=h0371630_2 -> libgcc-ng[version='>=7.3.0'] -> _openmp_mutex\n",
            "icu -> libgcc-ng[version='>=7.3.0'] -> _openmp_mutex\n",
            "libxcb -> libgcc-ng[version='>=7.5.0'] -> _openmp_mutex\n",
            "py-boost -> libgcc-ng[version='>=7.3.0'] -> _openmp_mutex\n",
            "yaml==0.1.7=had09818_2 -> libgcc-ng[version='>=7.2.0'] -> _openmp_mutex\n",
            "cffi==1.14.0=py37h2e261b9_0 -> libgcc-ng[version='>=7.3.0'] -> _openmp_mutex\n",
            "fontconfig -> libgcc-ng[version='>=7.3.0'] -> _openmp_mutex\n",
            "conda-package-handling==1.6.0=py37h7b6447c_0 -> libgcc-ng[version='>=7.3.0'] -> _openmp_mutex\n",
            "lcms2 -> libgcc-ng[version='>=7.3.0'] -> _openmp_mutex\n",
            "sqlite==3.31.1=h7b6447c_0 -> libgcc-ng[version='>=7.3.0'] -> _openmp_mutex\n",
            "libuuid -> libgcc-ng[version='>=7.5.0'] -> _openmp_mutex\n",
            "rdkit -> libgcc-ng[version='>=7.3.0'] -> _openmp_mutex\n",
            "glib -> libgcc-ng[version='>=7.5.0'] -> _openmp_mutex\n",
            "cytoolz -> libgcc-ng[version='>=7.3.0'] -> _openmp_mutex\n",
            "freetype -> libgcc-ng[version='>=7.5.0'] -> _openmp_mutex\n",
            "_openmp_mutex\n",
            "cryptography==2.8=py37h1ba5d50_0 -> libgcc-ng[version='>=7.3.0'] -> _openmp_mutex\n",
            "readline==7.0=h7b6447c_5 -> libgcc-ng[version='>=7.3.0'] -> _openmp_mutex\n",
            "libffi==3.2.1=hd88cf55_4 -> libgcc-ng[version='>=7.2.0'] -> _openmp_mutex\n",
            "libpng -> libgcc-ng[version='>=7.3.0'] -> _openmp_mutex\n",
            "\n",
            "Package python conflicts for:\n",
            "py-boost -> python[version='>=3.7,<3.8.0a0']\n",
            "idna==2.8=py37_0 -> python[version='>=3.7,<3.8.0a0']\n",
            "packaging -> python[version='>=3.6']\n",
            "rdkit -> python[version='>=3.7,<3.8.0a0']\n",
            "conda-package-handling==1.6.0=py37h7b6447c_0 -> tqdm -> python\n",
            "numexpr -> packaging -> python[version='>=3.6']\n",
            "toolz -> python[version='>=3.5']\n",
            "conda-package-handling==1.6.0=py37h7b6447c_0 -> python[version='>=3.7,<3.8.0a0']\n",
            "pysocks==1.7.1=py37_0 -> python[version='>=3.7,<3.8.0a0']\n",
            "ruamel_yaml==0.15.87=py37h7b6447c_0 -> python[version='>=3.7,<3.8.0a0']\n",
            "python-dateutil -> six[version='>=1.5'] -> python[version='>=3.7,<3.8.0a0']\n",
            "mkl-service -> python[version='>=3.7,<3.8.0a0']\n",
            "pandas -> python-dateutil[version='>=2.7.3'] -> python\n",
            "asn1crypto==1.3.0=py37_0 -> python[version='>=3.7,<3.8.0a0']\n",
            "pycosat==0.6.3=py37h7b6447c_0 -> python[version='>=3.7,<3.8.0a0']\n",
            "cytoolz -> python[version='>=3.7,<3.8.0a0']\n",
            "setuptools==45.2.0=py37_0 -> python[version='>=3.7,<3.8.0a0']\n",
            "numpy-base -> python[version='>=3.7,<3.8.0a0']\n",
            "numexpr -> python[version='>=3.7,<3.8.0a0']\n",
            "pyparsing -> python[version='>=3.6']\n",
            "conda==4.8.2=py37_0 -> python[version='>=3.7,<3.8.0a0']\n",
            "six==1.14.0=py37_0 -> python[version='>=3.7,<3.8.0a0']\n",
            "certifi==2019.11.28=py37_0 -> python[version='>=3.7,<3.8.0a0']\n",
            "pycparser==2.19=py37_0 -> python[version='>=3.7,<3.8.0a0']\n",
            "mkl_fft -> python[version='>=3.7,<3.8.0a0']\n",
            "pip==20.0.2=py37_1 -> python[version='>=3.7,<3.8.0a0']\n",
            "mkl_random -> python[version='>=3.7,<3.8.0a0']\n",
            "requests==2.22.0=py37_1 -> python[version='>=3.7,<3.8.0a0']\n",
            "pyopenssl==19.1.0=py37_0 -> python[version='>=3.7,<3.8.0a0']\n",
            "pillow -> python[version='>=3.7,<3.8.0a0']\n",
            "chardet==3.0.4=py37_1003 -> python[version='>=3.7,<3.8.0a0']\n",
            "pytz -> python[version='>=3.7,<3.8.0a0']\n",
            "urllib3==1.25.8=py37_0 -> python[version='>=3.7,<3.8.0a0']\n",
            "python-dateutil -> python\n",
            "cryptography==2.8=py37h1ba5d50_0 -> python[version='>=3.7,<3.8.0a0']\n",
            "pandas -> python[version='>=3.7,<3.8.0a0']\n",
            "bottleneck -> python[version='>=3.7,<3.8.0a0']\n",
            "cytoolz -> toolz[version='>=0.10.0'] -> python[version='>=3.5']\n",
            "cffi==1.14.0=py37h2e261b9_0 -> python[version='>=3.7,<3.8.0a0']\n",
            "numpy -> python[version='>=3.7,<3.8.0a0']\n",
            "tqdm==4.42.1=py_0 -> python\n",
            "wheel==0.34.2=py37_0 -> python[version='>=3.7,<3.8.0a0']\n",
            "python==3.7.6=h0371630_2\n",
            "\n",
            "Package zstd conflicts for:\n",
            "libboost -> zstd[version='>=1.4.5,<1.5.0a0']\n",
            "zstd\n",
            "libwebp -> libtiff[version='>=4.1.0,<5.0a0'] -> zstd[version='>=1.4.5,<1.5.0a0']\n",
            "libtiff -> zstd[version='>=1.4.5,<1.5.0a0']\n",
            "py-boost -> libboost[version='>=1.73.0,<1.73.1.0a0',build=h3ff78a5_11] -> zstd[version='>=1.4.5,<1.5.0a0']\n",
            "rdkit -> libboost[version='>=1.73.0,<1.74.0a0'] -> zstd[version='>=1.4.5,<1.5.0a0']\n",
            "lcms2 -> libtiff[version='>=4.1.0,<5.0a0'] -> zstd[version='>=1.4.5,<1.5.0a0']\n",
            "pillow -> libtiff[version='>=4.1.0,<5.0a0'] -> zstd[version='>=1.4.5,<1.5.0a0']\n",
            "\n",
            "Package setuptools conflicts for:\n",
            "pip==20.0.2=py37_1 -> setuptools\n",
            "setuptools==45.2.0=py37_0\n",
            "conda==4.8.2=py37_0 -> setuptools[version='>=31.0.1']\n",
            "wheel==0.34.2=py37_0 -> setuptools\n",
            "\n",
            "Package ncurses conflicts for:\n",
            "mkl_fft -> python[version='>=3.7,<3.8.0a0'] -> ncurses[version='>=6.1,<7.0a0']\n",
            "conda==4.8.2=py37_0 -> python[version='>=3.7,<3.8.0a0'] -> ncurses[version='>=6.1,<7.0a0']\n",
            "numpy -> python[version='>=3.7,<3.8.0a0'] -> ncurses[version='>=6.1,<7.0a0']\n",
            "cffi==1.14.0=py37h2e261b9_0 -> python[version='>=3.7,<3.8.0a0'] -> ncurses[version='>=6.1,<7.0a0']\n",
            "mkl-service -> python[version='>=3.7,<3.8.0a0'] -> ncurses[version='>=6.1,<7.0a0']\n",
            "mkl_random -> python[version='>=3.7,<3.8.0a0'] -> ncurses[version='>=6.1,<7.0a0']\n",
            "pyparsing -> python[version='>=3.6'] -> ncurses[version='>=6.1,<7.0a0']\n",
            "numexpr -> python[version='>=3.7,<3.8.0a0'] -> ncurses[version='>=6.1,<7.0a0']\n",
            "certifi==2019.11.28=py37_0 -> python[version='>=3.7,<3.8.0a0'] -> ncurses[version='>=6.1,<7.0a0']\n",
            "wheel==0.34.2=py37_0 -> python[version='>=3.7,<3.8.0a0'] -> ncurses[version='>=6.1,<7.0a0']\n",
            "toolz -> python[version='>=3.5'] -> ncurses[version='>=6.1,<7.0a0']\n",
            "pandas -> python[version='>=3.7,<3.8.0a0'] -> ncurses[version='>=6.1,<7.0a0']\n",
            "setuptools==45.2.0=py37_0 -> python[version='>=3.7,<3.8.0a0'] -> ncurses[version='>=6.1,<7.0a0']\n",
            "asn1crypto==1.3.0=py37_0 -> python[version='>=3.7,<3.8.0a0'] -> ncurses[version='>=6.1,<7.0a0']\n",
            "sqlite==3.31.1=h7b6447c_0 -> libedit[version='>=3.1.20181209,<3.2.0a0'] -> ncurses[version='>=6.1,<7.0a0']\n",
            "pycparser==2.19=py37_0 -> python[version='>=3.7,<3.8.0a0'] -> ncurses[version='>=6.1,<7.0a0']\n",
            "idna==2.8=py37_0 -> python[version='>=3.7,<3.8.0a0'] -> ncurses[version='>=6.1,<7.0a0']\n",
            "requests==2.22.0=py37_1 -> python[version='>=3.7,<3.8.0a0'] -> ncurses[version='>=6.1,<7.0a0']\n",
            "pytz -> python[version='>=3.7,<3.8.0a0'] -> ncurses[version='>=6.1,<7.0a0']\n",
            "py-boost -> python[version='>=3.7,<3.8.0a0'] -> ncurses[version='>=6.1,<7.0a0']\n",
            "pyopenssl==19.1.0=py37_0 -> python[version='>=3.7,<3.8.0a0'] -> ncurses[version='>=6.1,<7.0a0']\n",
            "python-dateutil -> python -> ncurses[version='>=6.1,<7.0a0']\n",
            "bottleneck -> python[version='>=3.7,<3.8.0a0'] -> ncurses[version='>=6.1,<7.0a0']\n",
            "cryptography==2.8=py37h1ba5d50_0 -> python[version='>=3.7,<3.8.0a0'] -> ncurses[version='>=6.1,<7.0a0']\n",
            "pip==20.0.2=py37_1 -> python[version='>=3.7,<3.8.0a0'] -> ncurses[version='>=6.1,<7.0a0']\n",
            "readline==7.0=h7b6447c_5 -> ncurses[version='>=6.1,<7.0a0']\n",
            "rdkit -> python[version='>=3.7,<3.8.0a0'] -> ncurses[version='>=6.1,<7.0a0']\n",
            "ncurses==6.2=he6710b0_0\n",
            "cytoolz -> python[version='>=3.7,<3.8.0a0'] -> ncurses[version='>=6.1,<7.0a0']\n",
            "pycosat==0.6.3=py37h7b6447c_0 -> python[version='>=3.7,<3.8.0a0'] -> ncurses[version='>=6.1,<7.0a0']\n",
            "ruamel_yaml==0.15.87=py37h7b6447c_0 -> python[version='>=3.7,<3.8.0a0'] -> ncurses[version='>=6.1,<7.0a0']\n",
            "tqdm==4.42.1=py_0 -> python -> ncurses[version='>=6.1,<7.0a0']\n",
            "pillow -> python[version='>=3.7,<3.8.0a0'] -> ncurses[version='>=6.1,<7.0a0']\n",
            "chardet==3.0.4=py37_1003 -> python[version='>=3.7,<3.8.0a0'] -> ncurses[version='>=6.1,<7.0a0']\n",
            "numpy-base -> python[version='>=3.7,<3.8.0a0'] -> ncurses[version='>=6.1,<7.0a0']\n",
            "packaging -> python[version='>=3.6'] -> ncurses[version='>=6.1,<7.0a0']\n",
            "pysocks==1.7.1=py37_0 -> python[version='>=3.7,<3.8.0a0'] -> ncurses[version='>=6.1,<7.0a0']\n",
            "conda-package-handling==1.6.0=py37h7b6447c_0 -> python[version='>=3.7,<3.8.0a0'] -> ncurses[version='>=6.1,<7.0a0']\n",
            "urllib3==1.25.8=py37_0 -> python[version='>=3.7,<3.8.0a0'] -> ncurses[version='>=6.1,<7.0a0']\n",
            "python==3.7.6=h0371630_2 -> ncurses[version='>=6.1,<7.0a0']\n",
            "six==1.14.0=py37_0 -> python[version='>=3.7,<3.8.0a0'] -> ncurses[version='>=6.1,<7.0a0']\n",
            "\n",
            "Package sqlite conflicts for:\n",
            "numpy -> python[version='>=3.7,<3.8.0a0'] -> sqlite[version='>=3.30.1,<4.0a0']\n",
            "bottleneck -> python[version='>=3.7,<3.8.0a0'] -> sqlite[version='>=3.30.1,<4.0a0']\n",
            "pyparsing -> python[version='>=3.6'] -> sqlite[version='>=3.30.1,<4.0a0']\n",
            "chardet==3.0.4=py37_1003 -> python[version='>=3.7,<3.8.0a0'] -> sqlite[version='>=3.30.1,<4.0a0']\n",
            "certifi==2019.11.28=py37_0 -> python[version='>=3.7,<3.8.0a0'] -> sqlite[version='>=3.30.1,<4.0a0']\n",
            "toolz -> python[version='>=3.5'] -> sqlite[version='>=3.30.1,<4.0a0']\n",
            "rdkit -> python[version='>=3.7,<3.8.0a0'] -> sqlite[version='>=3.30.1,<4.0a0']\n",
            "pandas -> python[version='>=3.7,<3.8.0a0'] -> sqlite[version='>=3.30.1,<4.0a0']\n",
            "six==1.14.0=py37_0 -> python[version='>=3.7,<3.8.0a0'] -> sqlite[version='>=3.30.1,<4.0a0']\n",
            "urllib3==1.25.8=py37_0 -> python[version='>=3.7,<3.8.0a0'] -> sqlite[version='>=3.30.1,<4.0a0']\n",
            "mkl_random -> python[version='>=3.7,<3.8.0a0'] -> sqlite[version='>=3.30.1,<4.0a0']\n",
            "tqdm==4.42.1=py_0 -> python -> sqlite[version='>=3.30.1,<4.0a0']\n",
            "setuptools==45.2.0=py37_0 -> python[version='>=3.7,<3.8.0a0'] -> sqlite[version='>=3.30.1,<4.0a0']\n",
            "pillow -> python[version='>=3.7,<3.8.0a0'] -> sqlite[version='>=3.30.1,<4.0a0']\n",
            "numpy-base -> python[version='>=3.7,<3.8.0a0'] -> sqlite[version='>=3.30.1,<4.0a0']\n",
            "cytoolz -> python[version='>=3.7,<3.8.0a0'] -> sqlite[version='>=3.30.1,<4.0a0']\n",
            "pysocks==1.7.1=py37_0 -> python[version='>=3.7,<3.8.0a0'] -> sqlite[version='>=3.30.1,<4.0a0']\n",
            "pytz -> python[version='>=3.7,<3.8.0a0'] -> sqlite[version='>=3.30.1,<4.0a0']\n",
            "numexpr -> python[version='>=3.7,<3.8.0a0'] -> sqlite[version='>=3.30.1,<4.0a0']\n",
            "python-dateutil -> python -> sqlite[version='>=3.30.1,<4.0a0']\n",
            "pycparser==2.19=py37_0 -> python[version='>=3.7,<3.8.0a0'] -> sqlite[version='>=3.30.1,<4.0a0']\n",
            "py-boost -> python[version='>=3.7,<3.8.0a0'] -> sqlite[version='>=3.30.1,<4.0a0']\n",
            "mkl-service -> python[version='>=3.7,<3.8.0a0'] -> sqlite[version='>=3.30.1,<4.0a0']\n",
            "conda-package-handling==1.6.0=py37h7b6447c_0 -> python[version='>=3.7,<3.8.0a0'] -> sqlite[version='>=3.30.1,<4.0a0']\n",
            "pip==20.0.2=py37_1 -> python[version='>=3.7,<3.8.0a0'] -> sqlite[version='>=3.30.1,<4.0a0']\n",
            "cffi==1.14.0=py37h2e261b9_0 -> python[version='>=3.7,<3.8.0a0'] -> sqlite[version='>=3.30.1,<4.0a0']\n",
            "sqlite==3.31.1=h7b6447c_0\n",
            "asn1crypto==1.3.0=py37_0 -> python[version='>=3.7,<3.8.0a0'] -> sqlite[version='>=3.30.1,<4.0a0']\n",
            "cryptography==2.8=py37h1ba5d50_0 -> python[version='>=3.7,<3.8.0a0'] -> sqlite[version='>=3.30.1,<4.0a0']\n",
            "packaging -> python[version='>=3.6'] -> sqlite[version='>=3.30.1,<4.0a0']\n",
            "mkl_fft -> python[version='>=3.7,<3.8.0a0'] -> sqlite[version='>=3.30.1,<4.0a0']\n",
            "requests==2.22.0=py37_1 -> python[version='>=3.7,<3.8.0a0'] -> sqlite[version='>=3.30.1,<4.0a0']\n",
            "python==3.7.6=h0371630_2 -> sqlite[version='>=3.30.1,<4.0a0']\n",
            "idna==2.8=py37_0 -> python[version='>=3.7,<3.8.0a0'] -> sqlite[version='>=3.30.1,<4.0a0']\n",
            "pyopenssl==19.1.0=py37_0 -> python[version='>=3.7,<3.8.0a0'] -> sqlite[version='>=3.30.1,<4.0a0']\n",
            "pycosat==0.6.3=py37h7b6447c_0 -> python[version='>=3.7,<3.8.0a0'] -> sqlite[version='>=3.30.1,<4.0a0']\n",
            "ruamel_yaml==0.15.87=py37h7b6447c_0 -> python[version='>=3.7,<3.8.0a0'] -> sqlite[version='>=3.30.1,<4.0a0']\n",
            "conda==4.8.2=py37_0 -> python[version='>=3.7,<3.8.0a0'] -> sqlite[version='>=3.30.1,<4.0a0']\n",
            "wheel==0.34.2=py37_0 -> python[version='>=3.7,<3.8.0a0'] -> sqlite[version='>=3.30.1,<4.0a0']\n",
            "\n",
            "Package tk conflicts for:\n",
            "urllib3==1.25.8=py37_0 -> python[version='>=3.7,<3.8.0a0'] -> tk[version='>=8.6.8,<8.7.0a0']\n",
            "pillow -> tk\n",
            "ruamel_yaml==0.15.87=py37h7b6447c_0 -> python[version='>=3.7,<3.8.0a0'] -> tk[version='>=8.6.8,<8.7.0a0']\n",
            "certifi==2019.11.28=py37_0 -> python[version='>=3.7,<3.8.0a0'] -> tk[version='>=8.6.8,<8.7.0a0']\n",
            "pysocks==1.7.1=py37_0 -> python[version='>=3.7,<3.8.0a0'] -> tk[version='>=8.6.8,<8.7.0a0']\n",
            "conda==4.8.2=py37_0 -> python[version='>=3.7,<3.8.0a0'] -> tk[version='>=8.6.8,<8.7.0a0']\n",
            "numexpr -> python[version='>=3.7,<3.8.0a0'] -> tk[version='>=8.6.8,<8.7.0a0']\n",
            "pycparser==2.19=py37_0 -> python[version='>=3.7,<3.8.0a0'] -> tk[version='>=8.6.8,<8.7.0a0']\n",
            "mkl_random -> python[version='>=3.7,<3.8.0a0'] -> tk[version='>=8.6.8,<8.7.0a0']\n",
            "six==1.14.0=py37_0 -> python[version='>=3.7,<3.8.0a0'] -> tk[version='>=8.6.8,<8.7.0a0']\n",
            "cffi==1.14.0=py37h2e261b9_0 -> python[version='>=3.7,<3.8.0a0'] -> tk[version='>=8.6.8,<8.7.0a0']\n",
            "py-boost -> python[version='>=3.7,<3.8.0a0'] -> tk[version='>=8.6.8,<8.7.0a0']\n",
            "mkl_fft -> python[version='>=3.7,<3.8.0a0'] -> tk[version='>=8.6.8,<8.7.0a0']\n",
            "python==3.7.6=h0371630_2 -> tk[version='>=8.6.8,<8.7.0a0']\n",
            "setuptools==45.2.0=py37_0 -> python[version='>=3.7,<3.8.0a0'] -> tk[version='>=8.6.8,<8.7.0a0']\n",
            "pyparsing -> python[version='>=3.6'] -> tk[version='>=8.6.8,<8.7.0a0']\n",
            "bottleneck -> python[version='>=3.7,<3.8.0a0'] -> tk[version='>=8.6.8,<8.7.0a0']\n",
            "pillow -> python[version='>=3.7,<3.8.0a0'] -> tk[version='>=8.6.8,<8.7.0a0']\n",
            "asn1crypto==1.3.0=py37_0 -> python[version='>=3.7,<3.8.0a0'] -> tk[version='>=8.6.8,<8.7.0a0']\n",
            "cytoolz -> python[version='>=3.7,<3.8.0a0'] -> tk[version='>=8.6.8,<8.7.0a0']\n",
            "conda-package-handling==1.6.0=py37h7b6447c_0 -> python[version='>=3.7,<3.8.0a0'] -> tk[version='>=8.6.8,<8.7.0a0']\n",
            "pytz -> python[version='>=3.7,<3.8.0a0'] -> tk[version='>=8.6.8,<8.7.0a0']\n",
            "mkl-service -> python[version='>=3.7,<3.8.0a0'] -> tk[version='>=8.6.8,<8.7.0a0']\n",
            "idna==2.8=py37_0 -> python[version='>=3.7,<3.8.0a0'] -> tk[version='>=8.6.8,<8.7.0a0']\n",
            "packaging -> python[version='>=3.6'] -> tk[version='>=8.6.8,<8.7.0a0']\n",
            "pyopenssl==19.1.0=py37_0 -> python[version='>=3.7,<3.8.0a0'] -> tk[version='>=8.6.8,<8.7.0a0']\n",
            "pandas -> python[version='>=3.7,<3.8.0a0'] -> tk[version='>=8.6.8,<8.7.0a0']\n",
            "pycosat==0.6.3=py37h7b6447c_0 -> python[version='>=3.7,<3.8.0a0'] -> tk[version='>=8.6.8,<8.7.0a0']\n",
            "numpy -> python[version='>=3.7,<3.8.0a0'] -> tk[version='>=8.6.8,<8.7.0a0']\n",
            "toolz -> python[version='>=3.5'] -> tk[version='>=8.6.8,<8.7.0a0']\n",
            "numpy-base -> python[version='>=3.7,<3.8.0a0'] -> tk[version='>=8.6.8,<8.7.0a0']\n",
            "requests==2.22.0=py37_1 -> python[version='>=3.7,<3.8.0a0'] -> tk[version='>=8.6.8,<8.7.0a0']\n",
            "rdkit -> pillow -> tk[version='>=8.6.8,<8.7.0a0']\n",
            "tk==8.6.8=hbc83047_0\n",
            "python-dateutil -> python -> tk[version='>=8.6.8,<8.7.0a0']\n",
            "chardet==3.0.4=py37_1003 -> python[version='>=3.7,<3.8.0a0'] -> tk[version='>=8.6.8,<8.7.0a0']\n",
            "tqdm==4.42.1=py_0 -> python -> tk[version='>=8.6.8,<8.7.0a0']\n",
            "pip==20.0.2=py37_1 -> python[version='>=3.7,<3.8.0a0'] -> tk[version='>=8.6.8,<8.7.0a0']\n",
            "wheel==0.34.2=py37_0 -> python[version='>=3.7,<3.8.0a0'] -> tk[version='>=8.6.8,<8.7.0a0']\n",
            "cryptography==2.8=py37h1ba5d50_0 -> python[version='>=3.7,<3.8.0a0'] -> tk[version='>=8.6.8,<8.7.0a0']\n",
            "\n",
            "Package _libgcc_mutex conflicts for:\n",
            "bottleneck -> libgcc-ng[version='>=11.2.0'] -> _libgcc_mutex[version='*|0.1',build=main]\n",
            "icu -> libgcc-ng[version='>=7.3.0'] -> _libgcc_mutex[version='*|0.1',build=main]\n",
            "mkl_fft -> libgcc-ng[version='>=7.5.0'] -> _libgcc_mutex[version='*|0.1',build=main]\n",
            "libxml2 -> libgcc-ng[version='>=9.3.0'] -> _libgcc_mutex[version='*|0.1',build=main]\n",
            "conda-package-handling==1.6.0=py37h7b6447c_0 -> libgcc-ng[version='>=7.3.0'] -> _libgcc_mutex[version='*|0.1',build=main]\n",
            "cffi==1.14.0=py37h2e261b9_0 -> libgcc-ng[version='>=7.3.0'] -> _libgcc_mutex[version='*|0.1',build=main]\n",
            "zlib==1.2.11=h7b6447c_3 -> libgcc-ng[version='>=7.3.0'] -> _libgcc_mutex[version='*|0.1',build=main]\n",
            "cryptography==2.8=py37h1ba5d50_0 -> libgcc-ng[version='>=7.3.0'] -> _libgcc_mutex[version='*|0.1',build=main]\n",
            "ruamel_yaml==0.15.87=py37h7b6447c_0 -> libgcc-ng[version='>=7.3.0'] -> _libgcc_mutex[version='*|0.1',build=main]\n",
            "tk==8.6.8=hbc83047_0 -> libgcc-ng[version='>=7.3.0'] -> _libgcc_mutex[version='*|0.1',build=main]\n",
            "fontconfig -> libgcc-ng[version='>=7.3.0'] -> _libgcc_mutex[version='*|0.1',build=main]\n",
            "numexpr -> libgcc-ng[version='>=7.5.0'] -> _libgcc_mutex[version='*|0.1',build=main]\n",
            "pycosat==0.6.3=py37h7b6447c_0 -> libgcc-ng[version='>=7.3.0'] -> _libgcc_mutex[version='*|0.1',build=main]\n",
            "pillow -> libgcc-ng[version='>=7.5.0'] -> _libgcc_mutex[version='*|0.1',build=main]\n",
            "libboost -> libgcc-ng[version='>=7.3.0'] -> _libgcc_mutex[version='*|0.1',build=main]\n",
            "openssl==1.1.1d=h7b6447c_4 -> libgcc-ng[version='>=7.3.0'] -> _libgcc_mutex[version='*|0.1',build=main]\n",
            "mkl_random -> libgcc-ng[version='>=7.5.0'] -> _libgcc_mutex[version='*|0.1',build=main]\n",
            "yaml==0.1.7=had09818_2 -> libgcc-ng[version='>=7.2.0'] -> _libgcc_mutex[version='*|0.1',build=main]\n",
            "cytoolz -> libgcc-ng[version='>=7.3.0'] -> _libgcc_mutex[version='*|0.1',build=main]\n",
            "pixman -> libgcc-ng[version='>=7.5.0'] -> _libgcc_mutex[version='*|0.1',build=main]\n",
            "numpy-base -> libgcc-ng[version='>=7.5.0'] -> _libgcc_mutex[version='*|0.1',build=main]\n",
            "libuuid -> libgcc-ng[version='>=7.5.0'] -> _libgcc_mutex[version='*|0.1',build=main]\n",
            "_openmp_mutex -> _libgcc_mutex==0.1=main\n",
            "lz4-c -> libgcc-ng[version='>=7.5.0'] -> _libgcc_mutex[version='*|0.1',build=main]\n",
            "numpy -> libgcc-ng[version='>=7.5.0'] -> _libgcc_mutex[version='*|0.1',build=main]\n",
            "lcms2 -> libgcc-ng[version='>=7.3.0'] -> _libgcc_mutex[version='*|0.1',build=main]\n",
            "pandas -> libgcc-ng[version='>=7.5.0'] -> _libgcc_mutex[version='*|0.1',build=main]\n",
            "libwebp -> libgcc-ng[version='>=7.5.0'] -> _libgcc_mutex[version='*|0.1',build=main]\n",
            "pcre -> libgcc-ng[version='>=7.5.0'] -> _libgcc_mutex[version='*|0.1',build=main]\n",
            "py-boost -> libgcc-ng[version='>=7.3.0'] -> _libgcc_mutex[version='*|0.1',build=main]\n",
            "readline==7.0=h7b6447c_5 -> libgcc-ng[version='>=7.3.0'] -> _libgcc_mutex[version='*|0.1',build=main]\n",
            "ncurses==6.2=he6710b0_0 -> libgcc-ng[version='>=7.3.0'] -> _libgcc_mutex[version='*|0.1',build=main]\n",
            "_libgcc_mutex==0.1=main\n",
            "libgcc-ng==9.1.0=hdf63c60_0 -> _libgcc_mutex=[build=main]\n",
            "cairo -> libgcc-ng[version='>=7.3.0'] -> _libgcc_mutex[version='*|0.1',build=main]\n",
            "xz==5.2.4=h14c3975_4 -> libgcc-ng[version='>=7.2.0'] -> _libgcc_mutex[version='*|0.1',build=main]\n",
            "sqlite==3.31.1=h7b6447c_0 -> libgcc-ng[version='>=7.3.0'] -> _libgcc_mutex[version='*|0.1',build=main]\n",
            "libgomp -> _libgcc_mutex==0.1=main\n",
            "glib -> libgcc-ng[version='>=7.5.0'] -> _libgcc_mutex[version='*|0.1',build=main]\n",
            "python==3.7.6=h0371630_2 -> libgcc-ng[version='>=7.3.0'] -> _libgcc_mutex[version='*|0.1',build=main]\n",
            "libxcb -> libgcc-ng[version='>=7.5.0'] -> _libgcc_mutex[version='*|0.1',build=main]\n",
            "bzip2 -> libgcc-ng[version='>=7.3.0'] -> _libgcc_mutex[version='*|0.1',build=main]\n",
            "libwebp-base -> libgcc-ng[version='>=7.5.0'] -> _libgcc_mutex[version='*|0.1',build=main]\n",
            "libpng -> libgcc-ng[version='>=7.3.0'] -> _libgcc_mutex[version='*|0.1',build=main]\n",
            "libtiff -> libgcc-ng[version='>=7.3.0'] -> _libgcc_mutex[version='*|0.1',build=main]\n",
            "mkl-service -> libgcc-ng[version='>=7.5.0'] -> _libgcc_mutex[version='*|0.1',build=main]\n",
            "rdkit -> libgcc-ng[version='>=7.3.0'] -> _libgcc_mutex[version='*|0.1',build=main]\n",
            "giflib -> libgcc-ng[version='>=7.3.0'] -> _libgcc_mutex[version='*|0.1',build=main]\n",
            "libffi==3.2.1=hd88cf55_4 -> libgcc-ng[version='>=7.2.0'] -> _libgcc_mutex[version='*|0.1',build=main]\n",
            "freetype -> libgcc-ng[version='>=7.5.0'] -> _libgcc_mutex[version='*|0.1',build=main]\n",
            "jpeg -> libgcc-ng[version='>=7.5.0'] -> _libgcc_mutex[version='*|0.1',build=main]\n",
            "zstd -> libgcc-ng[version='>=7.3.0'] -> _libgcc_mutex[version='*|0.1',build=main]\n",
            "\n",
            "Package openssl conflicts for:\n",
            "numpy-base -> python[version='>=3.7,<3.8.0a0'] -> openssl[version='>=1.1.1d,<1.1.2a']\n",
            "cffi==1.14.0=py37h2e261b9_0 -> python[version='>=3.7,<3.8.0a0'] -> openssl[version='>=1.1.1d,<1.1.2a']\n",
            "rdkit -> python[version='>=3.7,<3.8.0a0'] -> openssl[version='>=1.1.1d,<1.1.2a']\n",
            "mkl-service -> python[version='>=3.7,<3.8.0a0'] -> openssl[version='>=1.1.1d,<1.1.2a']\n",
            "packaging -> python[version='>=3.6'] -> openssl[version='>=1.1.1d,<1.1.2a']\n",
            "tqdm==4.42.1=py_0 -> python -> openssl[version='>=1.1.1d,<1.1.2a']\n",
            "wheel==0.34.2=py37_0 -> python[version='>=3.7,<3.8.0a0'] -> openssl[version='>=1.1.1d,<1.1.2a']\n",
            "conda-package-handling==1.6.0=py37h7b6447c_0 -> python[version='>=3.7,<3.8.0a0'] -> openssl[version='>=1.1.1d,<1.1.2a']\n",
            "pysocks==1.7.1=py37_0 -> python[version='>=3.7,<3.8.0a0'] -> openssl[version='>=1.1.1d,<1.1.2a']\n",
            "python==3.7.6=h0371630_2 -> openssl[version='>=1.1.1d,<1.1.2a']\n",
            "requests==2.22.0=py37_1 -> python[version='>=3.7,<3.8.0a0'] -> openssl[version='>=1.1.1d,<1.1.2a']\n",
            "pandas -> python[version='>=3.7,<3.8.0a0'] -> openssl[version='>=1.1.1d,<1.1.2a']\n",
            "cryptography==2.8=py37h1ba5d50_0 -> openssl[version='>=1.1.1d,<1.1.2a']\n",
            "setuptools==45.2.0=py37_0 -> python[version='>=3.7,<3.8.0a0'] -> openssl[version='>=1.1.1d,<1.1.2a']\n",
            "urllib3==1.25.8=py37_0 -> cryptography[version='>=1.3.4'] -> openssl[version='>=1.1.1d,<1.1.2a']\n",
            "toolz -> python[version='>=3.5'] -> openssl[version='>=1.1.1d,<1.1.2a']\n",
            "pip==20.0.2=py37_1 -> python[version='>=3.7,<3.8.0a0'] -> openssl[version='>=1.1.1d,<1.1.2a']\n",
            "pyopenssl==19.1.0=py37_0 -> cryptography[version='>=2.8'] -> openssl[version='>=1.1.1d,<1.1.2a']\n",
            "numexpr -> python[version='>=3.7,<3.8.0a0'] -> openssl[version='>=1.1.1d,<1.1.2a']\n",
            "pytz -> python[version='>=3.7,<3.8.0a0'] -> openssl[version='>=1.1.1d,<1.1.2a']\n",
            "six==1.14.0=py37_0 -> python[version='>=3.7,<3.8.0a0'] -> openssl[version='>=1.1.1d,<1.1.2a']\n",
            "numpy -> python[version='>=3.7,<3.8.0a0'] -> openssl[version='>=1.1.1d,<1.1.2a']\n",
            "mkl_random -> python[version='>=3.7,<3.8.0a0'] -> openssl[version='>=1.1.1d,<1.1.2a']\n",
            "mkl_fft -> python[version='>=3.7,<3.8.0a0'] -> openssl[version='>=1.1.1d,<1.1.2a']\n",
            "py-boost -> python[version='>=3.7,<3.8.0a0'] -> openssl[version='>=1.1.1d,<1.1.2a']\n",
            "chardet==3.0.4=py37_1003 -> python[version='>=3.7,<3.8.0a0'] -> openssl[version='>=1.1.1d,<1.1.2a']\n",
            "pycosat==0.6.3=py37h7b6447c_0 -> python[version='>=3.7,<3.8.0a0'] -> openssl[version='>=1.1.1d,<1.1.2a']\n",
            "conda==4.8.2=py37_0 -> python[version='>=3.7,<3.8.0a0'] -> openssl[version='>=1.1.1d,<1.1.2a']\n",
            "idna==2.8=py37_0 -> python[version='>=3.7,<3.8.0a0'] -> openssl[version='>=1.1.1d,<1.1.2a']\n",
            "asn1crypto==1.3.0=py37_0 -> python[version='>=3.7,<3.8.0a0'] -> openssl[version='>=1.1.1d,<1.1.2a']\n",
            "bottleneck -> python[version='>=3.7,<3.8.0a0'] -> openssl[version='>=1.1.1d,<1.1.2a']\n",
            "pillow -> python[version='>=3.7,<3.8.0a0'] -> openssl[version='>=1.1.1d,<1.1.2a']\n",
            "certifi==2019.11.28=py37_0 -> python[version='>=3.7,<3.8.0a0'] -> openssl[version='>=1.1.1d,<1.1.2a']\n",
            "pyparsing -> python[version='>=3.6'] -> openssl[version='>=1.1.1d,<1.1.2a']\n",
            "cytoolz -> python[version='>=3.7,<3.8.0a0'] -> openssl[version='>=1.1.1d,<1.1.2a']\n",
            "openssl==1.1.1d=h7b6447c_4\n",
            "ruamel_yaml==0.15.87=py37h7b6447c_0 -> python[version='>=3.7,<3.8.0a0'] -> openssl[version='>=1.1.1d,<1.1.2a']\n",
            "pycparser==2.19=py37_0 -> python[version='>=3.7,<3.8.0a0'] -> openssl[version='>=1.1.1d,<1.1.2a']\n",
            "python-dateutil -> python -> openssl[version='>=1.1.1d,<1.1.2a']\n",
            "\n",
            "Package intel-openmp conflicts for:\n",
            "mkl -> intel-openmp=2021\n",
            "mkl_random -> mkl[version='>=2021.2.0,<2022.0a0'] -> intel-openmp=2021\n",
            "numexpr -> mkl[version='>=2021.4.0,<2022.0a0'] -> intel-openmp=2021\n",
            "numpy -> mkl[version='>=2021.4.0,<2022.0a0'] -> intel-openmp=2021\n",
            "intel-openmp\n",
            "mkl_fft -> mkl[version='>=2021.3.0,<2022.0a0'] -> intel-openmp=2021\n",
            "mkl-service -> mkl[version='>=2021.2.0,<2022.0a0'] -> intel-openmp=2021\n",
            "numpy-base -> mkl[version='>=2021.4.0,<2022.0a0'] -> intel-openmp=2021\n",
            "\n",
            "Package ca-certificates conflicts for:\n",
            "ca-certificates==2020.1.1=0\n",
            "cryptography==2.8=py37h1ba5d50_0 -> openssl[version='>=1.1.1d,<1.1.2a'] -> ca-certificates\n",
            "openssl==1.1.1d=h7b6447c_4 -> ca-certificates\n",
            "python==3.7.6=h0371630_2 -> openssl[version='>=1.1.1d,<1.1.2a'] -> ca-certificates\n",
            "\n",
            "Package libedit conflicts for:\n",
            "python==3.7.6=h0371630_2 -> sqlite[version='>=3.30.1,<4.0a0'] -> libedit[version='>=3.1.20181209,<3.2.0a0']\n",
            "libedit==3.1.20181209=hc058e9b_0\n",
            "sqlite==3.31.1=h7b6447c_0 -> libedit[version='>=3.1.20181209,<3.2.0a0']\n",
            "\n",
            "Package libboost conflicts for:\n",
            "rdkit -> py-boost -> libboost[version='>=1.73.0,<1.73.1.0a0',build=h3ff78a5_11]\n",
            "py-boost -> libboost[version='>=1.73.0,<1.73.1.0a0',build=h3ff78a5_11]\n",
            "libboost\n",
            "rdkit -> libboost[version='>=1.73.0,<1.74.0a0']\n",
            "\n",
            "Package libgcc-ng conflicts for:\n",
            "pyparsing -> python[version='>=3.6'] -> libgcc-ng[version='>=7.3.0']\n",
            "ruamel_yaml==0.15.87=py37h7b6447c_0 -> libgcc-ng[version='>=7.3.0']\n",
            "ncurses==6.2=he6710b0_0 -> libgcc-ng[version='>=7.3.0']\n",
            "python==3.7.6=h0371630_2 -> libgcc-ng[version='>=7.3.0']\n",
            "zlib==1.2.11=h7b6447c_3 -> libgcc-ng[version='>=7.3.0']\n",
            "pip==20.0.2=py37_1 -> python[version='>=3.7,<3.8.0a0'] -> libgcc-ng[version='>=7.3.0']\n",
            "fontconfig -> freetype[version='>=2.10.4,<3.0a0'] -> libgcc-ng[version='>=7.5.0|>=9.3.0']\n",
            "cairo -> freetype[version='>=2.10.4,<3.0a0'] -> libgcc-ng[version='>=7.5.0']\n",
            "six==1.14.0=py37_0 -> python[version='>=3.7,<3.8.0a0'] -> libgcc-ng[version='>=7.3.0']\n",
            "tqdm==4.42.1=py_0 -> python -> libgcc-ng[version='>=7.3.0']\n",
            "mkl_fft -> python[version='>=3.7,<3.8.0a0'] -> libgcc-ng[version='>=7.3.0']\n",
            "lz4-c -> libgcc-ng[version='>=7.5.0']\n",
            "zstd -> libgcc-ng[version='>=7.3.0']\n",
            "cryptography==2.8=py37h1ba5d50_0 -> openssl[version='>=1.1.1d,<1.1.2a'] -> libgcc-ng[version='>=7.5.0']\n",
            "python-dateutil -> python -> libgcc-ng[version='>=7.3.0']\n",
            "idna==2.8=py37_0 -> python[version='>=3.7,<3.8.0a0'] -> libgcc-ng[version='>=7.3.0']\n",
            "mkl_random -> libgcc-ng[version='>=7.5.0']\n",
            "certifi==2019.11.28=py37_0 -> python[version='>=3.7,<3.8.0a0'] -> libgcc-ng[version='>=7.3.0']\n",
            "cairo -> libgcc-ng[version='>=7.3.0']\n",
            "numexpr -> python[version='>=3.7,<3.8.0a0'] -> libgcc-ng[version='>=7.3.0']\n",
            "libxml2 -> icu[version='>=58.2,<59.0a0'] -> libgcc-ng[version='>=7.3.0|>=7.5.0']\n",
            "numexpr -> libgcc-ng[version='>=7.5.0']\n",
            "pandas -> libgcc-ng[version='>=7.5.0']\n",
            "python==3.7.6=h0371630_2 -> libffi[version='>=3.2.1,<4.0a0'] -> libgcc-ng[version='>=7.2.0|>=7.5.0']\n",
            "pcre -> libgcc-ng[version='>=7.5.0']\n",
            "lcms2 -> jpeg[version='>=9b,<10a'] -> libgcc-ng[version='>=7.5.0']\n",
            "libxml2 -> libgcc-ng[version='>=9.3.0']\n",
            "cffi==1.14.0=py37h2e261b9_0 -> libffi[version='>=3.2.1,<4.0a0'] -> libgcc-ng[version='>=7.2.0']\n",
            "cryptography==2.8=py37h1ba5d50_0 -> libgcc-ng[version='>=7.3.0']\n",
            "pillow -> lcms2[version='>=2.12,<3.0a0'] -> libgcc-ng[version='>=7.3.0']\n",
            "mkl_random -> python[version='>=3.7,<3.8.0a0'] -> libgcc-ng[version='>=7.3.0']\n",
            "setuptools==45.2.0=py37_0 -> python[version='>=3.7,<3.8.0a0'] -> libgcc-ng[version='>=7.3.0']\n",
            "libffi==3.2.1=hd88cf55_4 -> libgcc-ng[version='>=7.2.0']\n",
            "pycparser==2.19=py37_0 -> python[version='>=3.7,<3.8.0a0'] -> libgcc-ng[version='>=7.3.0']\n",
            "cytoolz -> libgcc-ng[version='>=7.3.0']\n",
            "conda==4.8.2=py37_0 -> conda-package-handling[version='>=1.3.0'] -> libgcc-ng[version='>=7.3.0']\n",
            "rdkit -> libgcc-ng[version='>=7.3.0']\n",
            "zstd -> lz4-c[version='>=1.9.3,<1.10.0a0'] -> libgcc-ng[version='>=7.5.0']\n",
            "numpy-base -> libgcc-ng[version='>=7.5.0']\n",
            "pyopenssl==19.1.0=py37_0 -> cryptography[version='>=2.8'] -> libgcc-ng[version='>=7.3.0']\n",
            "libboost -> xz[version='>=5.2.5,<6.0a0'] -> libgcc-ng[version='>=7.5.0']\n",
            "icu -> libgcc-ng[version='>=7.3.0']\n",
            "bzip2 -> libgcc-ng[version='>=7.3.0']\n",
            "freetype -> libgcc-ng[version='>=7.5.0']\n",
            "libuuid -> libgcc-ng[version='>=7.5.0']\n",
            "xz==5.2.4=h14c3975_4 -> libgcc-ng[version='>=7.2.0']\n",
            "glib -> libgcc-ng[version='>=7.5.0']\n",
            "cffi==1.14.0=py37h2e261b9_0 -> libgcc-ng[version='>=7.3.0']\n",
            "readline==7.0=h7b6447c_5 -> libgcc-ng[version='>=7.3.0']\n",
            "glib -> libffi[version='>=3.3'] -> libgcc-ng[version='>=7.3.0']\n",
            "libboost -> libgcc-ng[version='>=7.3.0']\n",
            "pandas -> bottleneck[version='>=1.2.1'] -> libgcc-ng[version='>=11.2.0|>=7.3.0']\n",
            "tk==8.6.8=hbc83047_0 -> libgcc-ng[version='>=7.3.0']\n",
            "libpng -> libgcc-ng[version='>=7.3.0']\n",
            "rdkit -> freetype[version='>=2.10.3,<3.0a0'] -> libgcc-ng[version='>=7.5.0']\n",
            "numpy -> python[version='>=3.7,<3.8.0a0'] -> libgcc-ng[version='>=7.3.0']\n",
            "numpy-base -> python[version='>=3.7,<3.8.0a0'] -> libgcc-ng[version='>=7.3.0']\n",
            "chardet==3.0.4=py37_1003 -> python[version='>=3.7,<3.8.0a0'] -> libgcc-ng[version='>=7.3.0']\n",
            "libtiff -> jpeg[version='>=9b,<10a'] -> libgcc-ng[version='>=7.5.0']\n",
            "libtiff -> libgcc-ng[version='>=7.3.0']\n",
            "pillow -> libgcc-ng[version='>=7.5.0']\n",
            "packaging -> python[version='>=3.6'] -> libgcc-ng[version='>=7.3.0']\n",
            "wheel==0.34.2=py37_0 -> python[version='>=3.7,<3.8.0a0'] -> libgcc-ng[version='>=7.3.0']\n",
            "conda-package-handling==1.6.0=py37h7b6447c_0 -> libgcc-ng[version='>=7.3.0']\n",
            "libgcc-ng==9.1.0=hdf63c60_0\n",
            "requests==2.22.0=py37_1 -> python[version='>=3.7,<3.8.0a0'] -> libgcc-ng[version='>=7.3.0']\n",
            "asn1crypto==1.3.0=py37_0 -> python[version='>=3.7,<3.8.0a0'] -> libgcc-ng[version='>=7.3.0']\n",
            "lcms2 -> libgcc-ng[version='>=7.3.0']\n",
            "pysocks==1.7.1=py37_0 -> python[version='>=3.7,<3.8.0a0'] -> libgcc-ng[version='>=7.3.0']\n",
            "pycosat==0.6.3=py37h7b6447c_0 -> libgcc-ng[version='>=7.3.0']\n",
            "jpeg -> libgcc-ng[version='>=7.5.0']\n",
            "sqlite==3.31.1=h7b6447c_0 -> libgcc-ng[version='>=7.3.0']\n",
            "py-boost -> libgcc-ng[version='>=7.3.0']\n",
            "pytz -> python[version='>=3.7,<3.8.0a0'] -> libgcc-ng[version='>=7.3.0']\n",
            "bottleneck -> libgcc-ng[version='>=11.2.0']\n",
            "mkl-service -> python[version='>=3.7,<3.8.0a0'] -> libgcc-ng[version='>=7.3.0']\n",
            "numpy -> libgcc-ng[version='>=7.5.0']\n",
            "fontconfig -> libgcc-ng[version='>=7.3.0']\n",
            "toolz -> python[version='>=3.5'] -> libgcc-ng[version='>=7.3.0']\n",
            "bottleneck -> numpy[version='>=1.16.6,<2.0a0'] -> libgcc-ng[version='>=7.3.0|>=7.5.0']\n",
            "urllib3==1.25.8=py37_0 -> cryptography[version='>=1.3.4'] -> libgcc-ng[version='>=7.3.0']\n",
            "mkl-service -> libgcc-ng[version='>=7.5.0']\n",
            "mkl_fft -> libgcc-ng[version='>=7.5.0']\n",
            "pixman -> libgcc-ng[version='>=7.5.0']\n",
            "freetype -> libpng[version='>=1.6.37,<1.7.0a0'] -> libgcc-ng[version='>=7.3.0']\n",
            "libwebp -> giflib[version='>=5.2.1,<5.3.0a0'] -> libgcc-ng[version='>=7.3.0']\n",
            "openssl==1.1.1d=h7b6447c_4 -> libgcc-ng[version='>=7.3.0']\n",
            "giflib -> libgcc-ng[version='>=7.3.0']\n",
            "libxcb -> libgcc-ng[version='>=7.5.0']\n",
            "libwebp -> libgcc-ng[version='>=7.5.0']\n",
            "ruamel_yaml==0.15.87=py37h7b6447c_0 -> yaml[version='>=0.1.7,<0.2.0a0'] -> libgcc-ng[version='>=7.2.0']\n",
            "libwebp-base -> libgcc-ng[version='>=7.5.0']\n",
            "yaml==0.1.7=had09818_2 -> libgcc-ng[version='>=7.2.0']\n",
            "\n",
            "Package zlib conflicts for:\n",
            "zstd -> zlib[version='>=1.2.11,<1.3.0a0']\n",
            "bottleneck -> python[version='>=3.7,<3.8.0a0'] -> zlib[version='>=1.2.11,<1.3.0a0']\n",
            "requests==2.22.0=py37_1 -> python[version='>=3.7,<3.8.0a0'] -> zlib[version='>=1.2.11,<1.3.0a0']\n",
            "lcms2 -> libtiff[version='>=4.1.0,<5.0a0'] -> zlib[version='>=1.2.11,<1.3.0a0']\n",
            "pycosat==0.6.3=py37h7b6447c_0 -> python[version='>=3.7,<3.8.0a0'] -> zlib[version='>=1.2.11,<1.3.0a0']\n",
            "conda-package-handling==1.6.0=py37h7b6447c_0 -> python[version='>=3.7,<3.8.0a0'] -> zlib[version='>=1.2.11,<1.3.0a0']\n",
            "chardet==3.0.4=py37_1003 -> python[version='>=3.7,<3.8.0a0'] -> zlib[version='>=1.2.11,<1.3.0a0']\n",
            "urllib3==1.25.8=py37_0 -> python[version='>=3.7,<3.8.0a0'] -> zlib[version='>=1.2.11,<1.3.0a0']\n",
            "pyopenssl==19.1.0=py37_0 -> python[version='>=3.7,<3.8.0a0'] -> zlib[version='>=1.2.11,<1.3.0a0']\n",
            "pillow -> zlib[version='>=1.2.11,<1.3.0a0']\n",
            "libtiff -> zlib[version='>=1.2.11,<1.3.0a0']\n",
            "python-dateutil -> python -> zlib[version='>=1.2.11,<1.3.0a0']\n",
            "pycparser==2.19=py37_0 -> python[version='>=3.7,<3.8.0a0'] -> zlib[version='>=1.2.11,<1.3.0a0']\n",
            "ruamel_yaml==0.15.87=py37h7b6447c_0 -> python[version='>=3.7,<3.8.0a0'] -> zlib[version='>=1.2.11,<1.3.0a0']\n",
            "libpng -> zlib[version='>=1.2.11,<1.3.0a0']\n",
            "pyparsing -> python[version='>=3.6'] -> zlib[version='>=1.2.11,<1.3.0a0']\n",
            "mkl_fft -> python[version='>=3.7,<3.8.0a0'] -> zlib[version='>=1.2.11,<1.3.0a0']\n",
            "numpy-base -> python[version='>=3.7,<3.8.0a0'] -> zlib[version='>=1.2.11,<1.3.0a0']\n",
            "numexpr -> python[version='>=3.7,<3.8.0a0'] -> zlib[version='>=1.2.11,<1.3.0a0']\n",
            "cryptography==2.8=py37h1ba5d50_0 -> python[version='>=3.7,<3.8.0a0'] -> zlib[version='>=1.2.11,<1.3.0a0']\n",
            "mkl_random -> python[version='>=3.7,<3.8.0a0'] -> zlib[version='>=1.2.11,<1.3.0a0']\n",
            "six==1.14.0=py37_0 -> python[version='>=3.7,<3.8.0a0'] -> zlib[version='>=1.2.11,<1.3.0a0']\n",
            "py-boost -> libboost[version='>=1.73.0,<1.73.1.0a0',build=h3ff78a5_11] -> zlib[version='>=1.2.11,<1.3.0a0']\n",
            "toolz -> python[version='>=3.5'] -> zlib[version='>=1.2.11,<1.3.0a0']\n",
            "packaging -> python[version='>=3.6'] -> zlib[version='>=1.2.11,<1.3.0a0']\n",
            "asn1crypto==1.3.0=py37_0 -> python[version='>=3.7,<3.8.0a0'] -> zlib[version='>=1.2.11,<1.3.0a0']\n",
            "cytoolz -> python[version='>=3.7,<3.8.0a0'] -> zlib[version='>=1.2.11,<1.3.0a0']\n",
            "mkl-service -> python[version='>=3.7,<3.8.0a0'] -> zlib[version='>=1.2.11,<1.3.0a0']\n",
            "cairo -> zlib[version='>=1.2.11,<1.3.0a0']\n",
            "zlib==1.2.11=h7b6447c_3\n",
            "rdkit -> cairo[version='>=1.14.12,<2.0a0'] -> zlib[version='>=1.2.11,<1.3.0a0']\n",
            "libxml2 -> zlib[version='>=1.2.11,<1.3.0a0']\n",
            "pandas -> python[version='>=3.7,<3.8.0a0'] -> zlib[version='>=1.2.11,<1.3.0a0']\n",
            "libwebp -> libpng[version='>=1.6.37,<1.7.0a0'] -> zlib[version='>=1.2.11,<1.3.0a0']\n",
            "glib -> zlib[version='>=1.2.11,<1.3.0a0']\n",
            "conda==4.8.2=py37_0 -> python[version='>=3.7,<3.8.0a0'] -> zlib[version='>=1.2.11,<1.3.0a0']\n",
            "tqdm==4.42.1=py_0 -> python -> zlib[version='>=1.2.11,<1.3.0a0']\n",
            "pip==20.0.2=py37_1 -> python[version='>=3.7,<3.8.0a0'] -> zlib[version='>=1.2.11,<1.3.0a0']\n",
            "python==3.7.6=h0371630_2 -> zlib[version='>=1.2.11,<1.3.0a0']\n",
            "numpy -> python[version='>=3.7,<3.8.0a0'] -> zlib[version='>=1.2.11,<1.3.0a0']\n",
            "certifi==2019.11.28=py37_0 -> python[version='>=3.7,<3.8.0a0'] -> zlib[version='>=1.2.11,<1.3.0a0']\n",
            "idna==2.8=py37_0 -> python[version='>=3.7,<3.8.0a0'] -> zlib[version='>=1.2.11,<1.3.0a0']\n",
            "cffi==1.14.0=py37h2e261b9_0 -> python[version='>=3.7,<3.8.0a0'] -> zlib[version='>=1.2.11,<1.3.0a0']\n",
            "setuptools==45.2.0=py37_0 -> python[version='>=3.7,<3.8.0a0'] -> zlib[version='>=1.2.11,<1.3.0a0']\n",
            "wheel==0.34.2=py37_0 -> python[version='>=3.7,<3.8.0a0'] -> zlib[version='>=1.2.11,<1.3.0a0']\n",
            "pytz -> python[version='>=3.7,<3.8.0a0'] -> zlib[version='>=1.2.11,<1.3.0a0']\n",
            "pysocks==1.7.1=py37_0 -> python[version='>=3.7,<3.8.0a0'] -> zlib[version='>=1.2.11,<1.3.0a0']\n",
            "tk==8.6.8=hbc83047_0 -> zlib[version='>=1.2.11,<1.3.0a0']\n",
            "fontconfig -> freetype[version='>=2.10.4,<3.0a0'] -> zlib[version='>=1.2.11,<1.3.0a0']\n",
            "libboost -> zlib[version='>=1.2.11,<1.3.0a0']\n",
            "freetype -> zlib[version='>=1.2.11,<1.3.0a0']\n",
            "\n",
            "Package jpeg conflicts for:\n",
            "libwebp -> jpeg[version='>=9d,<10a']\n",
            "rdkit -> pillow -> jpeg\n",
            "lcms2 -> jpeg[version='>=9b,<10a']\n",
            "jpeg\n",
            "libwebp -> libtiff[version='>=4.1.0,<5.0a0'] -> jpeg[version='>=9b,<10a']\n",
            "pillow -> lcms2[version='>=2.12,<3.0a0'] -> jpeg[version='>=9b,<10a|>=9d,<10a']\n",
            "pillow -> jpeg\n",
            "libtiff -> jpeg[version='>=9b,<10a']\n",
            "\n",
            "Package icu conflicts for:\n",
            "fontconfig -> libxml2[version='>=2.9.10,<2.10.0a0'] -> icu[version='>=58.2,<59.0a0']\n",
            "libboost -> icu[version='>=58.2,<59.0a0']\n",
            "rdkit -> libboost[version='>=1.73.0,<1.74.0a0'] -> icu[version='>=58.2,<59.0a0']\n",
            "icu\n",
            "py-boost -> libboost[version='>=1.73.0,<1.73.1.0a0',build=h3ff78a5_11] -> icu[version='>=58.2,<59.0a0']\n",
            "libxml2 -> icu[version='>=58.2,<59.0a0']\n",
            "\n",
            "Package pyopenssl conflicts for:\n",
            "requests==2.22.0=py37_1 -> urllib3[version='>=1.21.1,<1.26,!=1.25.0,!=1.25.1'] -> pyopenssl[version='>=0.14']\n",
            "urllib3==1.25.8=py37_0 -> pyopenssl[version='>=0.14']\n",
            "pyopenssl==19.1.0=py37_0\n",
            "conda==4.8.2=py37_0 -> pyopenssl[version='>=16.2.0']\n",
            "\n",
            "Package blas conflicts for:\n",
            "numpy -> mkl_random -> blas=[build=mkl]\n",
            "blas\n",
            "bottleneck -> numpy[version='>=1.16.6,<2.0a0'] -> blas==1.0=mkl\n",
            "pandas -> numexpr[version='>=2.7.0'] -> blas==1.0=mkl\n",
            "mkl_random -> numpy[version='>=1.16,<2.0a0'] -> blas==1.0=mkl\n",
            "numexpr -> blas==1.0=mkl\n",
            "mkl_random -> blas=[build=mkl]\n",
            "mkl_fft -> blas==1.0=mkl\n",
            "rdkit -> numpy[version='>=1.12'] -> blas==1.0=mkl\n",
            "numpy -> blas==1.0=mkl\n",
            "numpy-base -> blas==1.0=mkl\n",
            "\n",
            "Package tqdm conflicts for:\n",
            "conda==4.8.2=py37_0 -> conda-package-handling[version='>=1.3.0'] -> tqdm\n",
            "conda-package-handling==1.6.0=py37h7b6447c_0 -> tqdm\n",
            "tqdm==4.42.1=py_0\n",
            "\n",
            "Package libxml2 conflicts for:\n",
            "fontconfig -> libxml2[version='>=2.9.10,<2.10.0a0']\n",
            "cairo -> fontconfig[version='>=2.13.1,<3.0a0'] -> libxml2[version='>=2.9.10,<2.10.0a0']\n",
            "libxml2\n",
            "\n",
            "Package mkl-service conflicts for:\n",
            "bottleneck -> numpy[version='>=1.16.6,<2.0a0'] -> mkl-service[version='>=2.3.0,<3.0a0']\n",
            "rdkit -> numpy[version='>=1.12'] -> mkl-service[version='>=2.3.0,<3.0a0']\n",
            "numpy -> mkl-service[version='>=2.3.0,<3.0a0']\n",
            "numpy-base -> mkl-service[version='>=2.3.0,<3.0a0']\n",
            "mkl-service\n",
            "pandas -> numexpr[version='>=2.7.0'] -> mkl-service[version='>=2.3.0,<3.0a0']\n",
            "mkl_random -> mkl-service[version='>=2.3.0,<3.0a0']\n",
            "numexpr -> mkl-service[version='>=2.3.0,<3.0a0']\n",
            "mkl_fft -> mkl-service[version='>=2.3.0,<3.0a0']\n",
            "\n",
            "Package libstdcxx-ng conflicts for:\n",
            "rdkit -> numpy[version='>=1.12'] -> libstdcxx-ng[version='>=7.5.0']\n",
            "packaging -> python[version='>=3.6'] -> libstdcxx-ng[version='>=7.3.0']\n",
            "cryptography==2.8=py37h1ba5d50_0 -> python[version='>=3.7,<3.8.0a0'] -> libstdcxx-ng[version='>=7.3.0']\n",
            "libboost -> libstdcxx-ng[version='>=7.3.0']\n",
            "urllib3==1.25.8=py37_0 -> python[version='>=3.7,<3.8.0a0'] -> libstdcxx-ng[version='>=7.3.0']\n",
            "mkl_fft -> python[version='>=3.7,<3.8.0a0'] -> libstdcxx-ng[version='>=7.3.0']\n",
            "py-boost -> libstdcxx-ng[version='>=7.3.0']\n",
            "python==3.7.6=h0371630_2 -> libffi[version='>=3.2.1,<4.0a0'] -> libstdcxx-ng[version='>=7.2.0']\n",
            "zstd -> libstdcxx-ng[version='>=7.3.0']\n",
            "chardet==3.0.4=py37_1003 -> python[version='>=3.7,<3.8.0a0'] -> libstdcxx-ng[version='>=7.3.0']\n",
            "cffi==1.14.0=py37h2e261b9_0 -> libffi[version='>=3.2.1,<4.0a0'] -> libstdcxx-ng[version='>=7.2.0|>=7.3.0']\n",
            "pysocks==1.7.1=py37_0 -> python[version='>=3.7,<3.8.0a0'] -> libstdcxx-ng[version='>=7.3.0']\n",
            "rdkit -> libstdcxx-ng[version='>=7.3.0']\n",
            "pyopenssl==19.1.0=py37_0 -> python[version='>=3.7,<3.8.0a0'] -> libstdcxx-ng[version='>=7.3.0']\n",
            "glib -> libffi[version='>=3.3'] -> libstdcxx-ng[version='>=7.3.0']\n",
            "libffi==3.2.1=hd88cf55_4 -> libstdcxx-ng[version='>=7.2.0']\n",
            "six==1.14.0=py37_0 -> python[version='>=3.7,<3.8.0a0'] -> libstdcxx-ng[version='>=7.3.0']\n",
            "libxml2 -> icu[version='>=58.2,<59.0a0'] -> libstdcxx-ng[version='>=7.3.0']\n",
            "numpy-base -> python[version='>=3.7,<3.8.0a0'] -> libstdcxx-ng[version='>=7.3.0']\n",
            "numpy-base -> libstdcxx-ng[version='>=7.5.0']\n",
            "requests==2.22.0=py37_1 -> python[version='>=3.7,<3.8.0a0'] -> libstdcxx-ng[version='>=7.3.0']\n",
            "pip==20.0.2=py37_1 -> python[version='>=3.7,<3.8.0a0'] -> libstdcxx-ng[version='>=7.3.0']\n",
            "pytz -> python[version='>=3.7,<3.8.0a0'] -> libstdcxx-ng[version='>=7.3.0']\n",
            "ruamel_yaml==0.15.87=py37h7b6447c_0 -> python[version='>=3.7,<3.8.0a0'] -> libstdcxx-ng[version='>=7.3.0']\n",
            "mkl_fft -> libstdcxx-ng[version='>=7.5.0']\n",
            "cairo -> glib[version='>=2.67.4,<3.0a0'] -> libstdcxx-ng[version='>=7.5.0']\n",
            "numexpr -> python[version='>=3.7,<3.8.0a0'] -> libstdcxx-ng[version='>=7.3.0']\n",
            "conda==4.8.2=py37_0 -> python[version='>=3.7,<3.8.0a0'] -> libstdcxx-ng[version='>=7.3.0']\n",
            "mkl_random -> python[version='>=3.7,<3.8.0a0'] -> libstdcxx-ng[version='>=7.3.0']\n",
            "readline==7.0=h7b6447c_5 -> ncurses[version='>=6.1,<7.0a0'] -> libstdcxx-ng[version='>=7.3.0']\n",
            "pycparser==2.19=py37_0 -> python[version='>=3.7,<3.8.0a0'] -> libstdcxx-ng[version='>=7.3.0']\n",
            "ncurses==6.2=he6710b0_0 -> libstdcxx-ng[version='>=7.3.0']\n",
            "pillow -> libtiff[version='>=4.1.0,<5.0a0'] -> libstdcxx-ng[version='>=7.3.0']\n",
            "idna==2.8=py37_0 -> python[version='>=3.7,<3.8.0a0'] -> libstdcxx-ng[version='>=7.3.0']\n",
            "libtiff -> libstdcxx-ng[version='>=7.3.0']\n",
            "numpy -> libstdcxx-ng[version='>=7.5.0']\n",
            "pcre -> libstdcxx-ng[version='>=7.5.0']\n",
            "setuptools==45.2.0=py37_0 -> python[version='>=3.7,<3.8.0a0'] -> libstdcxx-ng[version='>=7.3.0']\n",
            "libstdcxx-ng==9.1.0=hdf63c60_0\n",
            "numexpr -> libstdcxx-ng[version='>=7.5.0']\n",
            "pillow -> libstdcxx-ng[version='>=7.5.0']\n",
            "mkl_random -> libstdcxx-ng[version='>=7.5.0']\n",
            "pandas -> libstdcxx-ng[version='>=7.5.0']\n",
            "cairo -> libstdcxx-ng[version='>=7.3.0']\n",
            "toolz -> python[version='>=3.5'] -> libstdcxx-ng[version='>=7.3.0']\n",
            "libwebp -> libtiff[version='>=4.1.0,<5.0a0'] -> libstdcxx-ng[version='>=7.3.0']\n",
            "conda-package-handling==1.6.0=py37h7b6447c_0 -> python[version='>=3.7,<3.8.0a0'] -> libstdcxx-ng[version='>=7.3.0']\n",
            "numpy -> python[version='>=3.7,<3.8.0a0'] -> libstdcxx-ng[version='>=7.3.0']\n",
            "glib -> libstdcxx-ng[version='>=7.5.0']\n",
            "python-dateutil -> python -> libstdcxx-ng[version='>=7.3.0']\n",
            "cytoolz -> python[version='>=3.7,<3.8.0a0'] -> libstdcxx-ng[version='>=7.3.0']\n",
            "zstd -> lz4-c[version='>=1.9.3,<1.10.0a0'] -> libstdcxx-ng[version='>=7.5.0']\n",
            "bottleneck -> numpy[version='>=1.16.6,<2.0a0'] -> libstdcxx-ng[version='>=7.3.0|>=7.5.0']\n",
            "certifi==2019.11.28=py37_0 -> python[version='>=3.7,<3.8.0a0'] -> libstdcxx-ng[version='>=7.3.0']\n",
            "pycosat==0.6.3=py37h7b6447c_0 -> python[version='>=3.7,<3.8.0a0'] -> libstdcxx-ng[version='>=7.3.0']\n",
            "pyparsing -> python[version='>=3.6'] -> libstdcxx-ng[version='>=7.3.0']\n",
            "asn1crypto==1.3.0=py37_0 -> python[version='>=3.7,<3.8.0a0'] -> libstdcxx-ng[version='>=7.3.0']\n",
            "lcms2 -> libtiff[version='>=4.1.0,<5.0a0'] -> libstdcxx-ng[version='>=7.3.0']\n",
            "lz4-c -> libstdcxx-ng[version='>=7.5.0']\n",
            "wheel==0.34.2=py37_0 -> python[version='>=3.7,<3.8.0a0'] -> libstdcxx-ng[version='>=7.3.0']\n",
            "mkl-service -> python[version='>=3.7,<3.8.0a0'] -> libstdcxx-ng[version='>=7.3.0']\n",
            "icu -> libstdcxx-ng[version='>=7.3.0']\n",
            "python==3.7.6=h0371630_2 -> libstdcxx-ng[version='>=7.3.0']\n",
            "tqdm==4.42.1=py_0 -> python -> libstdcxx-ng[version='>=7.3.0']\n",
            "pandas -> python[version='>=3.7,<3.8.0a0'] -> libstdcxx-ng[version='>=7.3.0']\n",
            "\n",
            "Package pysocks conflicts for:\n",
            "pysocks==1.7.1=py37_0\n",
            "urllib3==1.25.8=py37_0 -> pysocks[version='>=1.5.6,<2.0,!=1.5.7']\n",
            "requests==2.22.0=py37_1 -> urllib3[version='>=1.21.1,<1.26,!=1.25.0,!=1.25.1'] -> pysocks[version='>=1.5.6,<2.0,!=1.5.7']\n",
            "\n",
            "Package freetype conflicts for:\n",
            "rdkit -> freetype[version='>=2.10.3,<3.0a0']\n",
            "cairo -> freetype[version='>=2.10.4,<3.0a0']\n",
            "pillow -> freetype[version='>=2.10.4,<3.0a0']\n",
            "fontconfig -> freetype[version='>=2.10.4,<3.0a0']\n",
            "freetype\n",
            "rdkit -> cairo[version='>=1.14.12,<2.0a0'] -> freetype[version='>=2.10.4,<3.0a0']\n",
            "\n",
            "Package libffi conflicts for:\n",
            "asn1crypto==1.3.0=py37_0 -> python[version='>=3.7,<3.8.0a0'] -> libffi[version='>=3.2.1,<4.0a0']\n",
            "cairo -> glib[version='>=2.67.4,<3.0a0'] -> libffi[version='>=3.3|>=3.3,<3.4.0a0']\n",
            "certifi==2019.11.28=py37_0 -> python[version='>=3.7,<3.8.0a0'] -> libffi[version='>=3.2.1,<4.0a0']\n",
            "pillow -> python[version='>=3.7,<3.8.0a0'] -> libffi[version='>=3.2.1,<4.0a0']\n",
            "conda==4.8.2=py37_0 -> python[version='>=3.7,<3.8.0a0'] -> libffi[version='>=3.2.1,<4.0a0']\n",
            "urllib3==1.25.8=py37_0 -> python[version='>=3.7,<3.8.0a0'] -> libffi[version='>=3.2.1,<4.0a0']\n",
            "cytoolz -> python[version='>=3.7,<3.8.0a0'] -> libffi[version='>=3.2.1,<4.0a0']\n",
            "six==1.14.0=py37_0 -> python[version='>=3.7,<3.8.0a0'] -> libffi[version='>=3.2.1,<4.0a0']\n",
            "glib -> libffi[version='>=3.3|>=3.3,<3.4.0a0']\n",
            "chardet==3.0.4=py37_1003 -> python[version='>=3.7,<3.8.0a0'] -> libffi[version='>=3.2.1,<4.0a0']\n",
            "idna==2.8=py37_0 -> python[version='>=3.7,<3.8.0a0'] -> libffi[version='>=3.2.1,<4.0a0']\n",
            "numpy-base -> python[version='>=3.7,<3.8.0a0'] -> libffi[version='>=3.2.1,<4.0a0']\n",
            "conda-package-handling==1.6.0=py37h7b6447c_0 -> python[version='>=3.7,<3.8.0a0'] -> libffi[version='>=3.2.1,<4.0a0']\n",
            "pyparsing -> python[version='>=3.6'] -> libffi[version='>=3.2.1,<4.0a0']\n",
            "mkl_fft -> python[version='>=3.7,<3.8.0a0'] -> libffi[version='>=3.2.1,<4.0a0']\n",
            "pycparser==2.19=py37_0 -> python[version='>=3.7,<3.8.0a0'] -> libffi[version='>=3.2.1,<4.0a0']\n",
            "numpy -> python[version='>=3.7,<3.8.0a0'] -> libffi[version='>=3.2.1,<4.0a0']\n",
            "python==3.7.6=h0371630_2 -> libffi[version='>=3.2.1,<4.0a0']\n",
            "tqdm==4.42.1=py_0 -> python -> libffi[version='>=3.2.1,<4.0a0']\n",
            "pysocks==1.7.1=py37_0 -> python[version='>=3.7,<3.8.0a0'] -> libffi[version='>=3.2.1,<4.0a0']\n",
            "numexpr -> python[version='>=3.7,<3.8.0a0'] -> libffi[version='>=3.2.1,<4.0a0']\n",
            "mkl-service -> python[version='>=3.7,<3.8.0a0'] -> libffi[version='>=3.2.1,<4.0a0']\n",
            "requests==2.22.0=py37_1 -> python[version='>=3.7,<3.8.0a0'] -> libffi[version='>=3.2.1,<4.0a0']\n",
            "pycosat==0.6.3=py37h7b6447c_0 -> python[version='>=3.7,<3.8.0a0'] -> libffi[version='>=3.2.1,<4.0a0']\n",
            "python-dateutil -> python -> libffi[version='>=3.2.1,<4.0a0']\n",
            "pyopenssl==19.1.0=py37_0 -> python[version='>=3.7,<3.8.0a0'] -> libffi[version='>=3.2.1,<4.0a0']\n",
            "ruamel_yaml==0.15.87=py37h7b6447c_0 -> python[version='>=3.7,<3.8.0a0'] -> libffi[version='>=3.2.1,<4.0a0']\n",
            "pandas -> python[version='>=3.7,<3.8.0a0'] -> libffi[version='>=3.2.1,<4.0a0']\n",
            "cryptography==2.8=py37h1ba5d50_0 -> cffi[version='>=1.8'] -> libffi[version='>=3.2.1,<4.0a0']\n",
            "libffi==3.2.1=hd88cf55_4\n",
            "rdkit -> python[version='>=3.7,<3.8.0a0'] -> libffi[version='>=3.2.1,<4.0a0']\n",
            "py-boost -> python[version='>=3.7,<3.8.0a0'] -> libffi[version='>=3.2.1,<4.0a0']\n",
            "cffi==1.14.0=py37h2e261b9_0 -> libffi[version='>=3.2.1,<4.0a0']\n",
            "setuptools==45.2.0=py37_0 -> python[version='>=3.7,<3.8.0a0'] -> libffi[version='>=3.2.1,<4.0a0']\n",
            "toolz -> python[version='>=3.5'] -> libffi[version='>=3.2.1,<4.0a0']\n",
            "wheel==0.34.2=py37_0 -> python[version='>=3.7,<3.8.0a0'] -> libffi[version='>=3.2.1,<4.0a0']\n",
            "pip==20.0.2=py37_1 -> python[version='>=3.7,<3.8.0a0'] -> libffi[version='>=3.2.1,<4.0a0']\n",
            "packaging -> python[version='>=3.6'] -> libffi[version='>=3.2.1,<4.0a0']\n",
            "mkl_random -> python[version='>=3.7,<3.8.0a0'] -> libffi[version='>=3.2.1,<4.0a0']\n",
            "bottleneck -> python[version='>=3.7,<3.8.0a0'] -> libffi[version='>=3.2.1,<4.0a0']\n",
            "pytz -> python[version='>=3.7,<3.8.0a0'] -> libffi[version='>=3.2.1,<4.0a0']\n",
            "\n",
            "Package mkl_random conflicts for:\n",
            "mkl_random\n",
            "mkl_fft -> numpy[version='>=1.16,<2.0a0'] -> mkl_random\n",
            "pandas -> numpy[version='>=1.19.2,<2.0a0'] -> mkl_random\n",
            "numpy -> mkl_random\n",
            "rdkit -> numpy[version='>=1.12'] -> mkl_random\n",
            "numexpr -> numpy[version='>=1.16.6,<2.0a0'] -> mkl_random\n",
            "bottleneck -> numpy[version='>=1.16.6,<2.0a0'] -> mkl_random\n",
            "\n",
            "Package libwebp conflicts for:\n",
            "rdkit -> pillow -> libwebp[version='>=0.3.0|>=1.2.0,<1.3.0a0']\n",
            "pillow -> libwebp[version='>=0.3.0|>=1.2.0,<1.3.0a0']\n",
            "libwebp\n",
            "\n",
            "Package pcre conflicts for:\n",
            "cairo -> glib[version='>=2.67.4,<3.0a0'] -> pcre[version='>=8.45,<9.0a0']\n",
            "glib -> pcre[version='>=8.45,<9.0a0']\n",
            "pcre\n",
            "\n",
            "Package libwebp-base conflicts for:\n",
            "pillow -> libtiff[version='>=4.1.0,<5.0a0'] -> libwebp-base\n",
            "libtiff -> libwebp-base\n",
            "libwebp-base\n",
            "lcms2 -> libtiff[version='>=4.1.0,<5.0a0'] -> libwebp-base\n",
            "libwebp -> libwebp-base\n",
            "\n",
            "Package asn1crypto conflicts for:\n",
            "asn1crypto==1.3.0=py37_0\n",
            "urllib3==1.25.8=py37_0 -> cryptography[version='>=1.3.4'] -> asn1crypto[version='>=0.21.0']\n",
            "pyopenssl==19.1.0=py37_0 -> cryptography[version='>=2.8'] -> asn1crypto[version='>=0.21.0']\n",
            "cryptography==2.8=py37h1ba5d50_0 -> asn1crypto[version='>=0.21.0']\n",
            "\n",
            "Package idna conflicts for:\n",
            "urllib3==1.25.8=py37_0 -> idna[version='>=2.0.0']\n",
            "requests==2.22.0=py37_1 -> idna[version='>=2.5,<2.9']\n",
            "requests==2.22.0=py37_1 -> urllib3[version='>=1.21.1,<1.26,!=1.25.0,!=1.25.1'] -> idna[version='>=2.0.0']\n",
            "pyopenssl==19.1.0=py37_0 -> cryptography[version='>=2.8'] -> idna[version='>=2.1']\n",
            "cryptography==2.8=py37h1ba5d50_0 -> idna[version='>=2.1']\n",
            "idna==2.8=py37_0\n",
            "conda==4.8.2=py37_0 -> requests[version='>=2.18.4,<3'] -> idna[version='>=2.5,<2.9']\n",
            "urllib3==1.25.8=py37_0 -> cryptography[version='>=1.3.4'] -> idna[version='>=2.1']\n",
            "\n",
            "Package libpng conflicts for:\n",
            "libpng\n",
            "libwebp -> libpng[version='>=1.6.37,<1.7.0a0']\n",
            "pillow -> freetype[version='>=2.10.4,<3.0a0'] -> libpng[version='>=1.6.37,<1.7.0a0']\n",
            "rdkit -> cairo[version='>=1.14.12,<2.0a0'] -> libpng[version='>=1.6.37,<1.7.0a0']\n",
            "fontconfig -> freetype[version='>=2.10.4,<3.0a0'] -> libpng[version='>=1.6.37,<1.7.0a0']\n",
            "cairo -> libpng[version='>=1.6.37,<1.7.0a0']\n",
            "freetype -> libpng[version='>=1.6.37,<1.7.0a0']\n",
            "\n",
            "Package cairo conflicts for:\n",
            "cairo\n",
            "rdkit -> cairo[version='>=1.14.12,<2.0a0']\n",
            "\n",
            "Package wheel conflicts for:\n",
            "pip==20.0.2=py37_1 -> wheel\n",
            "wheel==0.34.2=py37_0\n",
            "\n",
            "Package urllib3 conflicts for:\n",
            "requests==2.22.0=py37_1 -> urllib3[version='>=1.21.1,<1.26,!=1.25.0,!=1.25.1']\n",
            "conda==4.8.2=py37_0 -> requests[version='>=2.18.4,<3'] -> urllib3[version='>=1.21.1,<1.26,!=1.25.0,!=1.25.1']\n",
            "urllib3==1.25.8=py37_0\n",
            "\n",
            "Package pyparsing conflicts for:\n",
            "numexpr -> packaging -> pyparsing[version='>=2.0.2,!=3.0.5']\n",
            "pyparsing\n",
            "packaging -> pyparsing[version='>=2.0.2,!=3.0.5']\n",
            "\n",
            "Package chardet conflicts for:\n",
            "requests==2.22.0=py37_1 -> chardet[version='>=3.0.2,<3.1.0']\n",
            "conda==4.8.2=py37_0 -> requests[version='>=2.18.4,<3'] -> chardet[version='>=3.0.2,<3.1.0']\n",
            "chardet==3.0.4=py37_1003\n",
            "\n",
            "Package cffi conflicts for:\n",
            "pyopenssl==19.1.0=py37_0 -> cryptography[version='>=2.8'] -> cffi[version='>=1.8']\n",
            "cffi==1.14.0=py37h2e261b9_0\n",
            "cryptography==2.8=py37h1ba5d50_0 -> cffi[version='>=1.8']\n",
            "urllib3==1.25.8=py37_0 -> cryptography[version='>=1.3.4'] -> cffi[version='>=1.8']\n",
            "\n",
            "Package toolz conflicts for:\n",
            "cytoolz -> toolz[version='>=0.10.0']\n",
            "toolz\n",
            "\n",
            "Package certifi conflicts for:\n",
            "urllib3==1.25.8=py37_0 -> certifi\n",
            "setuptools==45.2.0=py37_0 -> certifi[version='>=2016.9.26']\n",
            "pip==20.0.2=py37_1 -> setuptools -> certifi[version='>=2016.9.26']\n",
            "conda==4.8.2=py37_0 -> requests[version='>=2.18.4,<3'] -> certifi[version='>=2016.9.26|>=2017.4.17']\n",
            "wheel==0.34.2=py37_0 -> setuptools -> certifi[version='>=2016.9.26']\n",
            "requests==2.22.0=py37_1 -> urllib3[version='>=1.21.1,<1.26,!=1.25.0,!=1.25.1'] -> certifi\n",
            "certifi==2019.11.28=py37_0\n",
            "requests==2.22.0=py37_1 -> certifi[version='>=2017.4.17']\n",
            "\n",
            "Package lcms2 conflicts for:\n",
            "pillow -> lcms2[version='>=2.12,<3.0a0']\n",
            "lcms2\n",
            "rdkit -> pillow -> lcms2[version='>=2.12,<3.0a0']\n",
            "\n",
            "Package pytz conflicts for:\n",
            "pytz\n",
            "pandas -> pytz[version='>=2017.3']\n",
            "rdkit -> pandas -> pytz[version='>=2017.3']\n",
            "\n",
            "Package bzip2 conflicts for:\n",
            "libboost -> bzip2[version='>=1.0.8,<2.0a0']\n",
            "py-boost -> libboost[version='>=1.73.0,<1.73.1.0a0',build=h3ff78a5_11] -> bzip2[version='>=1.0.8,<2.0a0']\n",
            "rdkit -> libboost[version='>=1.73.0,<1.74.0a0'] -> bzip2[version='>=1.0.8,<2.0a0']\n",
            "bzip2\n",
            "\n",
            "Package numpy-base conflicts for:\n",
            "mkl_random -> numpy[version='>=1.16,<2.0a0'] -> numpy-base==1.21.5=py37hf524024_2\n",
            "mkl_fft -> numpy[version='>=1.16,<2.0a0'] -> numpy-base==1.21.5=py37hf524024_2\n",
            "numpy -> numpy-base==1.21.5=py37hf524024_2\n",
            "numpy-base\n",
            "rdkit -> numpy[version='>=1.12'] -> numpy-base==1.21.5=py37hf524024_2\n",
            "bottleneck -> numpy[version='>=1.16.6,<2.0a0'] -> numpy-base==1.21.5=py37hf524024_2\n",
            "numexpr -> numpy[version='>=1.16.6,<2.0a0'] -> numpy-base==1.21.5=py37hf524024_2\n",
            "pandas -> numpy[version='>=1.19.2,<2.0a0'] -> numpy-base==1.21.5=py37hf524024_2\n",
            "\n",
            "Package pycparser conflicts for:\n",
            "cryptography==2.8=py37h1ba5d50_0 -> cffi[version='>=1.8'] -> pycparser\n",
            "pycparser==2.19=py37_0\n",
            "cffi==1.14.0=py37h2e261b9_0 -> pycparser\n",
            "\n",
            "Package mkl conflicts for:\n",
            "numexpr -> mkl-service[version='>=2.3.0,<3.0a0'] -> mkl[version='>=2021.2.0,<2022.0a0']\n",
            "mkl_random -> mkl[version='>=2021.2.0,<2022.0a0']\n",
            "numpy -> mkl[version='>=2021.4.0,<2022.0a0']\n",
            "numpy-base -> mkl[version='>=2021.4.0,<2022.0a0']\n",
            "rdkit -> numpy[version='>=1.12'] -> mkl[version='>=2021.4.0,<2022.0a0']\n",
            "bottleneck -> numpy[version='>=1.16.6,<2.0a0'] -> mkl[version='>=2021.4.0,<2022.0a0']\n",
            "numexpr -> mkl[version='>=2021.4.0,<2022.0a0']\n",
            "pandas -> numexpr[version='>=2.7.0'] -> mkl[version='>=2021.4.0,<2022.0a0']\n",
            "mkl\n",
            "mkl_random -> numpy[version='>=1.16,<2.0a0'] -> mkl[version='>=2021.4.0,<2022.0a0']\n",
            "numpy-base -> mkl-service[version='>=2.3.0,<3.0a0'] -> mkl[version='>=2021.2.0,<2022.0a0']\n",
            "numpy -> mkl-service[version='>=2.3.0,<3.0a0'] -> mkl[version='>=2021.2.0,<2022.0a0|>=2021.3.0,<2022.0a0']\n",
            "mkl-service -> mkl[version='>=2021.2.0,<2022.0a0']\n",
            "mkl_fft -> mkl-service[version='>=2.3.0,<3.0a0'] -> mkl[version='>=2021.2.0,<2022.0a0|>=2021.4.0,<2022.0a0']\n",
            "mkl_fft -> mkl[version='>=2021.3.0,<2022.0a0']\n",
            "\n",
            "Package lz4-c conflicts for:\n",
            "lz4-c\n",
            "libtiff -> zstd[version='>=1.4.5,<1.5.0a0'] -> lz4-c[version='>=1.9.3,<1.10.0a0']\n",
            "libboost -> zstd[version='>=1.4.5,<1.5.0a0'] -> lz4-c[version='>=1.9.3,<1.10.0a0']\n",
            "zstd -> lz4-c[version='>=1.9.3,<1.10.0a0']\n",
            "\n",
            "Package ruamel_yaml conflicts for:\n",
            "ruamel_yaml==0.15.87=py37h7b6447c_0\n",
            "conda==4.8.2=py37_0 -> ruamel_yaml[version='>=0.11.14,<0.16']\n",
            "\n",
            "Package numexpr conflicts for:\n",
            "rdkit -> pandas -> numexpr[version='>=2.7.0']\n",
            "numexpr\n",
            "pandas -> numexpr[version='>=2.7.0']\n",
            "\n",
            "Package cryptography conflicts for:\n",
            "requests==2.22.0=py37_1 -> urllib3[version='>=1.21.1,<1.26,!=1.25.0,!=1.25.1'] -> cryptography[version='>=1.3.4']\n",
            "cryptography==2.8=py37h1ba5d50_0\n",
            "urllib3==1.25.8=py37_0 -> pyopenssl[version='>=0.14'] -> cryptography[version='>=2.8']\n",
            "urllib3==1.25.8=py37_0 -> cryptography[version='>=1.3.4']\n",
            "conda==4.8.2=py37_0 -> pyopenssl[version='>=16.2.0'] -> cryptography[version='>=2.8']\n",
            "pyopenssl==19.1.0=py37_0 -> cryptography[version='>=2.8']\n",
            "\n",
            "Package glib conflicts for:\n",
            "cairo -> glib[version='>=2.67.4,<3.0a0']\n",
            "glib\n",
            "rdkit -> cairo[version='>=1.14.12,<2.0a0'] -> glib[version='>=2.67.4,<3.0a0']\n",
            "\n",
            "Package yaml conflicts for:\n",
            "conda==4.8.2=py37_0 -> ruamel_yaml[version='>=0.11.14,<0.16'] -> yaml[version='>=0.1.7,<0.2.0a0']\n",
            "ruamel_yaml==0.15.87=py37h7b6447c_0 -> yaml[version='>=0.1.7,<0.2.0a0']\n",
            "yaml==0.1.7=had09818_2\n",
            "\n",
            "Package conda-package-handling conflicts for:\n",
            "conda==4.8.2=py37_0 -> conda-package-handling[version='>=1.3.0']\n",
            "conda-package-handling==1.6.0=py37h7b6447c_0\n",
            "\n",
            "Package libxcb conflicts for:\n",
            "cairo -> libxcb[version='>=1.14,<2.0a0']\n",
            "rdkit -> cairo[version='>=1.14.12,<2.0a0'] -> libxcb[version='>=1.14,<2.0a0']\n",
            "libxcb\n",
            "\n",
            "Package pillow conflicts for:\n",
            "rdkit -> pillow\n",
            "pillow\n",
            "\n",
            "Package fontconfig conflicts for:\n",
            "cairo -> fontconfig[version='>=2.13.1,<3.0a0']\n",
            "fontconfig\n",
            "rdkit -> cairo[version='>=1.14.12,<2.0a0'] -> fontconfig[version='>=2.13.1,<3.0a0']\n",
            "\n",
            "Package bottleneck conflicts for:\n",
            "bottleneck\n",
            "pandas -> bottleneck[version='>=1.2.1']\n",
            "rdkit -> pandas -> bottleneck[version='>=1.2.1']\n",
            "\n",
            "Package py-boost conflicts for:\n",
            "rdkit -> py-boost\n",
            "py-boost\n",
            "\n",
            "Package packaging conflicts for:\n",
            "packaging\n",
            "pandas -> numexpr[version='>=2.7.0'] -> packaging\n",
            "numexpr -> packaging\n",
            "\n",
            "Package libuuid conflicts for:\n",
            "libuuid\n",
            "fontconfig -> libuuid[version='>=1.0.3,<2.0a0']\n",
            "cairo -> fontconfig[version='>=2.13.1,<3.0a0'] -> libuuid[version='>=1.0.3,<2.0a0']\n",
            "\n",
            "Package libgomp conflicts for:\n",
            "libgomp\n",
            "_openmp_mutex -> libgomp[version='>=7.5.0']\n",
            "\n",
            "Package pandas conflicts for:\n",
            "rdkit -> pandas\n",
            "pandas\n",
            "\n",
            "Package giflib conflicts for:\n",
            "pillow -> libwebp[version='>=0.3.0'] -> giflib[version='>=5.2.1,<5.3.0a0']\n",
            "libwebp -> giflib[version='>=5.2.1,<5.3.0a0']\n",
            "giflib\n",
            "\n",
            "Package requests conflicts for:\n",
            "requests==2.22.0=py37_1\n",
            "conda==4.8.2=py37_0 -> requests[version='>=2.18.4,<3']\n",
            "\n",
            "Package pixman conflicts for:\n",
            "pixman\n",
            "rdkit -> cairo[version='>=1.14.12,<2.0a0'] -> pixman[version='>=0.40.0,<1.0a0']\n",
            "cairo -> pixman[version='>=0.40.0,<1.0a0']\n",
            "\n",
            "Collecting package metadata (current_repodata.json): - \b\b\\ \b\b| \b\b/ \b\b- \b\b\\ \b\b| \b\b/ \b\b- \b\b\\ \b\b| \b\bdone\n",
            "Solving environment: - \b\b\\ \b\b| \b\b/ \b\b- \b\b\\ \b\b| \b\b/ \b\b- \b\b\\ \b\b| \b\b/ \b\b- \b\b\\ \b\b| \b\bdone\n",
            "\n",
            "# All requested packages already installed.\n",
            "\n",
            "Retrieving notices: ...working... done\n"
          ]
        }
      ],
      "source": [
        "! wget https://repo.anaconda.com/miniconda/Miniconda3-py37_4.8.2-Linux-x86_64.sh\n",
        "! chmod +x Miniconda3-py37_4.8.2-Linux-x86_64.sh\n",
        "! bash ./Miniconda3-py37_4.8.2-Linux-x86_64.sh -b -f -p /usr/local\n",
        "! conda install -c rdkit rdkit -y\n",
        "import sys\n",
        "sys.path.append('/usr/local/lib/python3.7/site-packages/')"
      ]
    },
    {
      "cell_type": "markdown",
      "source": [
        "## **Delaney's solubility dataset**\n",
        "\n",
        "The original [Delaney's dataset](https://pubs.acs.org/doi/10.1021/ci034243x) available as a [Supplementary file](https://pubs.acs.org/doi/10.1021/ci034243x). The full paper is entitled [ESOL:  Estimating Aqueous Solubility Directly from Molecular Structure](https://pubs.acs.org/doi/10.1021/ci034243x)."
      ],
      "metadata": {
        "id": "IkGFqTIdaAbc"
      }
    },
    {
      "cell_type": "markdown",
      "metadata": {
        "id": "42miuzHvO3Uf"
      },
      "source": [
        "## **Downloading Dataset**"
      ]
    },
    {
      "cell_type": "code",
      "execution_count": 8,
      "metadata": {
        "id": "ynHvZVStPYoE"
      },
      "outputs": [],
      "source": [
        "url = \"https://raw.githubusercontent.com/prateem-biswas/Data-Science-/main/solubility.csv\"\n",
        "df = pd.read_csv(url)"
      ]
    },
    {
      "cell_type": "markdown",
      "metadata": {
        "id": "38DkgHvMPr_n"
      },
      "source": [
        "## **Exploring the dataset**"
      ]
    },
    {
      "cell_type": "code",
      "source": [
        "df.head()"
      ],
      "metadata": {
        "colab": {
          "base_uri": "https://localhost:8080/",
          "height": 206
        },
        "id": "tYmMVVdsY7or",
        "outputId": "6e9e4473-40ca-4738-f296-4d753d4374ed"
      },
      "execution_count": 9,
      "outputs": [
        {
          "output_type": "execute_result",
          "data": {
            "text/plain": [
              "                      Compound ID  measured log(solubility:mol/L)  \\\n",
              "0       1,1,1,2-Tetrachloroethane                           -2.18   \n",
              "1           1,1,1-Trichloroethane                           -2.00   \n",
              "2       1,1,2,2-Tetrachloroethane                           -1.74   \n",
              "3           1,1,2-Trichloroethane                           -1.48   \n",
              "4  1,1,2-Trichlorotrifluoroethane                           -3.04   \n",
              "\n",
              "   ESOL predicted log(solubility:mol/L)               SMILES  \n",
              "0                                -2.794       ClCC(Cl)(Cl)Cl  \n",
              "1                                -2.232         CC(Cl)(Cl)Cl  \n",
              "2                                -2.549       ClC(Cl)C(Cl)Cl  \n",
              "3                                -1.961           ClCC(Cl)Cl  \n",
              "4                                -3.077  FC(F)(Cl)C(F)(Cl)Cl  "
            ],
            "text/html": [
              "\n",
              "  <div id=\"df-e311e4d8-c656-4638-b3ef-363557ad839e\">\n",
              "    <div class=\"colab-df-container\">\n",
              "      <div>\n",
              "<style scoped>\n",
              "    .dataframe tbody tr th:only-of-type {\n",
              "        vertical-align: middle;\n",
              "    }\n",
              "\n",
              "    .dataframe tbody tr th {\n",
              "        vertical-align: top;\n",
              "    }\n",
              "\n",
              "    .dataframe thead th {\n",
              "        text-align: right;\n",
              "    }\n",
              "</style>\n",
              "<table border=\"1\" class=\"dataframe\">\n",
              "  <thead>\n",
              "    <tr style=\"text-align: right;\">\n",
              "      <th></th>\n",
              "      <th>Compound ID</th>\n",
              "      <th>measured log(solubility:mol/L)</th>\n",
              "      <th>ESOL predicted log(solubility:mol/L)</th>\n",
              "      <th>SMILES</th>\n",
              "    </tr>\n",
              "  </thead>\n",
              "  <tbody>\n",
              "    <tr>\n",
              "      <th>0</th>\n",
              "      <td>1,1,1,2-Tetrachloroethane</td>\n",
              "      <td>-2.18</td>\n",
              "      <td>-2.794</td>\n",
              "      <td>ClCC(Cl)(Cl)Cl</td>\n",
              "    </tr>\n",
              "    <tr>\n",
              "      <th>1</th>\n",
              "      <td>1,1,1-Trichloroethane</td>\n",
              "      <td>-2.00</td>\n",
              "      <td>-2.232</td>\n",
              "      <td>CC(Cl)(Cl)Cl</td>\n",
              "    </tr>\n",
              "    <tr>\n",
              "      <th>2</th>\n",
              "      <td>1,1,2,2-Tetrachloroethane</td>\n",
              "      <td>-1.74</td>\n",
              "      <td>-2.549</td>\n",
              "      <td>ClC(Cl)C(Cl)Cl</td>\n",
              "    </tr>\n",
              "    <tr>\n",
              "      <th>3</th>\n",
              "      <td>1,1,2-Trichloroethane</td>\n",
              "      <td>-1.48</td>\n",
              "      <td>-1.961</td>\n",
              "      <td>ClCC(Cl)Cl</td>\n",
              "    </tr>\n",
              "    <tr>\n",
              "      <th>4</th>\n",
              "      <td>1,1,2-Trichlorotrifluoroethane</td>\n",
              "      <td>-3.04</td>\n",
              "      <td>-3.077</td>\n",
              "      <td>FC(F)(Cl)C(F)(Cl)Cl</td>\n",
              "    </tr>\n",
              "  </tbody>\n",
              "</table>\n",
              "</div>\n",
              "      <button class=\"colab-df-convert\" onclick=\"convertToInteractive('df-e311e4d8-c656-4638-b3ef-363557ad839e')\"\n",
              "              title=\"Convert this dataframe to an interactive table.\"\n",
              "              style=\"display:none;\">\n",
              "        \n",
              "  <svg xmlns=\"http://www.w3.org/2000/svg\" height=\"24px\"viewBox=\"0 0 24 24\"\n",
              "       width=\"24px\">\n",
              "    <path d=\"M0 0h24v24H0V0z\" fill=\"none\"/>\n",
              "    <path d=\"M18.56 5.44l.94 2.06.94-2.06 2.06-.94-2.06-.94-.94-2.06-.94 2.06-2.06.94zm-11 1L8.5 8.5l.94-2.06 2.06-.94-2.06-.94L8.5 2.5l-.94 2.06-2.06.94zm10 10l.94 2.06.94-2.06 2.06-.94-2.06-.94-.94-2.06-.94 2.06-2.06.94z\"/><path d=\"M17.41 7.96l-1.37-1.37c-.4-.4-.92-.59-1.43-.59-.52 0-1.04.2-1.43.59L10.3 9.45l-7.72 7.72c-.78.78-.78 2.05 0 2.83L4 21.41c.39.39.9.59 1.41.59.51 0 1.02-.2 1.41-.59l7.78-7.78 2.81-2.81c.8-.78.8-2.07 0-2.86zM5.41 20L4 18.59l7.72-7.72 1.47 1.35L5.41 20z\"/>\n",
              "  </svg>\n",
              "      </button>\n",
              "      \n",
              "  <style>\n",
              "    .colab-df-container {\n",
              "      display:flex;\n",
              "      flex-wrap:wrap;\n",
              "      gap: 12px;\n",
              "    }\n",
              "\n",
              "    .colab-df-convert {\n",
              "      background-color: #E8F0FE;\n",
              "      border: none;\n",
              "      border-radius: 50%;\n",
              "      cursor: pointer;\n",
              "      display: none;\n",
              "      fill: #1967D2;\n",
              "      height: 32px;\n",
              "      padding: 0 0 0 0;\n",
              "      width: 32px;\n",
              "    }\n",
              "\n",
              "    .colab-df-convert:hover {\n",
              "      background-color: #E2EBFA;\n",
              "      box-shadow: 0px 1px 2px rgba(60, 64, 67, 0.3), 0px 1px 3px 1px rgba(60, 64, 67, 0.15);\n",
              "      fill: #174EA6;\n",
              "    }\n",
              "\n",
              "    [theme=dark] .colab-df-convert {\n",
              "      background-color: #3B4455;\n",
              "      fill: #D2E3FC;\n",
              "    }\n",
              "\n",
              "    [theme=dark] .colab-df-convert:hover {\n",
              "      background-color: #434B5C;\n",
              "      box-shadow: 0px 1px 3px 1px rgba(0, 0, 0, 0.15);\n",
              "      filter: drop-shadow(0px 1px 2px rgba(0, 0, 0, 0.3));\n",
              "      fill: #FFFFFF;\n",
              "    }\n",
              "  </style>\n",
              "\n",
              "      <script>\n",
              "        const buttonEl =\n",
              "          document.querySelector('#df-e311e4d8-c656-4638-b3ef-363557ad839e button.colab-df-convert');\n",
              "        buttonEl.style.display =\n",
              "          google.colab.kernel.accessAllowed ? 'block' : 'none';\n",
              "\n",
              "        async function convertToInteractive(key) {\n",
              "          const element = document.querySelector('#df-e311e4d8-c656-4638-b3ef-363557ad839e');\n",
              "          const dataTable =\n",
              "            await google.colab.kernel.invokeFunction('convertToInteractive',\n",
              "                                                     [key], {});\n",
              "          if (!dataTable) return;\n",
              "\n",
              "          const docLinkHtml = 'Like what you see? Visit the ' +\n",
              "            '<a target=\"_blank\" href=https://colab.research.google.com/notebooks/data_table.ipynb>data table notebook</a>'\n",
              "            + ' to learn more about interactive tables.';\n",
              "          element.innerHTML = '';\n",
              "          dataTable['output_type'] = 'display_data';\n",
              "          await google.colab.output.renderOutput(dataTable, element);\n",
              "          const docLink = document.createElement('div');\n",
              "          docLink.innerHTML = docLinkHtml;\n",
              "          element.appendChild(docLink);\n",
              "        }\n",
              "      </script>\n",
              "    </div>\n",
              "  </div>\n",
              "  "
            ]
          },
          "metadata": {},
          "execution_count": 9
        }
      ]
    },
    {
      "cell_type": "markdown",
      "source": [
        "The second column, **measured log(solubility:mol/L)** contains the actual solubility values of the molecules, while the third column **ESOL predicted log(solubility:mol/L)** gives the solubility values obtained by Delany."
      ],
      "metadata": {
        "id": "GSgGfzLMXslx"
      }
    },
    {
      "cell_type": "code",
      "source": [
        "df.shape"
      ],
      "metadata": {
        "colab": {
          "base_uri": "https://localhost:8080/"
        },
        "id": "Vh_HdI73-1q8",
        "outputId": "7825ec20-0c1a-4872-b55f-e9c29f969aff"
      },
      "execution_count": 10,
      "outputs": [
        {
          "output_type": "execute_result",
          "data": {
            "text/plain": [
              "(1144, 4)"
            ]
          },
          "metadata": {},
          "execution_count": 10
        }
      ]
    },
    {
      "cell_type": "markdown",
      "source": [
        "The dataframe contains 1144 rows of data and 4 columns"
      ],
      "metadata": {
        "id": "JNZUX0Mm_J-5"
      }
    },
    {
      "cell_type": "code",
      "execution_count": 11,
      "metadata": {
        "id": "lqiUrOLfPi3J",
        "colab": {
          "base_uri": "https://localhost:8080/"
        },
        "outputId": "5d73058c-93cd-41d1-e6bb-e00351e64819"
      },
      "outputs": [
        {
          "output_type": "execute_result",
          "data": {
            "text/plain": [
              "Index(['Compound ID', 'measured log(solubility:mol/L)',\n",
              "       'ESOL predicted log(solubility:mol/L)', 'SMILES'],\n",
              "      dtype='object')"
            ]
          },
          "metadata": {},
          "execution_count": 11
        }
      ],
      "source": [
        "df.columns"
      ]
    },
    {
      "cell_type": "code",
      "execution_count": 12,
      "metadata": {
        "id": "pfRZjUXFPxJx",
        "colab": {
          "base_uri": "https://localhost:8080/",
          "height": 300
        },
        "outputId": "04b2054b-7eea-4d19-d8f7-04a9f6017c4a"
      },
      "outputs": [
        {
          "output_type": "execute_result",
          "data": {
            "text/plain": [
              "       measured log(solubility:mol/L)  ESOL predicted log(solubility:mol/L)\n",
              "count                     1144.000000                           1144.000000\n",
              "mean                        -3.057997                             -2.994776\n",
              "std                          2.096502                              1.686520\n",
              "min                        -11.600000                             -9.702000\n",
              "25%                         -4.332250                             -3.962250\n",
              "50%                         -2.870500                             -2.889000\n",
              "75%                         -1.600000                             -1.846750\n",
              "max                          1.580000                              1.091000"
            ],
            "text/html": [
              "\n",
              "  <div id=\"df-0cd66593-c0cd-4936-ad3f-746da6c4b134\">\n",
              "    <div class=\"colab-df-container\">\n",
              "      <div>\n",
              "<style scoped>\n",
              "    .dataframe tbody tr th:only-of-type {\n",
              "        vertical-align: middle;\n",
              "    }\n",
              "\n",
              "    .dataframe tbody tr th {\n",
              "        vertical-align: top;\n",
              "    }\n",
              "\n",
              "    .dataframe thead th {\n",
              "        text-align: right;\n",
              "    }\n",
              "</style>\n",
              "<table border=\"1\" class=\"dataframe\">\n",
              "  <thead>\n",
              "    <tr style=\"text-align: right;\">\n",
              "      <th></th>\n",
              "      <th>measured log(solubility:mol/L)</th>\n",
              "      <th>ESOL predicted log(solubility:mol/L)</th>\n",
              "    </tr>\n",
              "  </thead>\n",
              "  <tbody>\n",
              "    <tr>\n",
              "      <th>count</th>\n",
              "      <td>1144.000000</td>\n",
              "      <td>1144.000000</td>\n",
              "    </tr>\n",
              "    <tr>\n",
              "      <th>mean</th>\n",
              "      <td>-3.057997</td>\n",
              "      <td>-2.994776</td>\n",
              "    </tr>\n",
              "    <tr>\n",
              "      <th>std</th>\n",
              "      <td>2.096502</td>\n",
              "      <td>1.686520</td>\n",
              "    </tr>\n",
              "    <tr>\n",
              "      <th>min</th>\n",
              "      <td>-11.600000</td>\n",
              "      <td>-9.702000</td>\n",
              "    </tr>\n",
              "    <tr>\n",
              "      <th>25%</th>\n",
              "      <td>-4.332250</td>\n",
              "      <td>-3.962250</td>\n",
              "    </tr>\n",
              "    <tr>\n",
              "      <th>50%</th>\n",
              "      <td>-2.870500</td>\n",
              "      <td>-2.889000</td>\n",
              "    </tr>\n",
              "    <tr>\n",
              "      <th>75%</th>\n",
              "      <td>-1.600000</td>\n",
              "      <td>-1.846750</td>\n",
              "    </tr>\n",
              "    <tr>\n",
              "      <th>max</th>\n",
              "      <td>1.580000</td>\n",
              "      <td>1.091000</td>\n",
              "    </tr>\n",
              "  </tbody>\n",
              "</table>\n",
              "</div>\n",
              "      <button class=\"colab-df-convert\" onclick=\"convertToInteractive('df-0cd66593-c0cd-4936-ad3f-746da6c4b134')\"\n",
              "              title=\"Convert this dataframe to an interactive table.\"\n",
              "              style=\"display:none;\">\n",
              "        \n",
              "  <svg xmlns=\"http://www.w3.org/2000/svg\" height=\"24px\"viewBox=\"0 0 24 24\"\n",
              "       width=\"24px\">\n",
              "    <path d=\"M0 0h24v24H0V0z\" fill=\"none\"/>\n",
              "    <path d=\"M18.56 5.44l.94 2.06.94-2.06 2.06-.94-2.06-.94-.94-2.06-.94 2.06-2.06.94zm-11 1L8.5 8.5l.94-2.06 2.06-.94-2.06-.94L8.5 2.5l-.94 2.06-2.06.94zm10 10l.94 2.06.94-2.06 2.06-.94-2.06-.94-.94-2.06-.94 2.06-2.06.94z\"/><path d=\"M17.41 7.96l-1.37-1.37c-.4-.4-.92-.59-1.43-.59-.52 0-1.04.2-1.43.59L10.3 9.45l-7.72 7.72c-.78.78-.78 2.05 0 2.83L4 21.41c.39.39.9.59 1.41.59.51 0 1.02-.2 1.41-.59l7.78-7.78 2.81-2.81c.8-.78.8-2.07 0-2.86zM5.41 20L4 18.59l7.72-7.72 1.47 1.35L5.41 20z\"/>\n",
              "  </svg>\n",
              "      </button>\n",
              "      \n",
              "  <style>\n",
              "    .colab-df-container {\n",
              "      display:flex;\n",
              "      flex-wrap:wrap;\n",
              "      gap: 12px;\n",
              "    }\n",
              "\n",
              "    .colab-df-convert {\n",
              "      background-color: #E8F0FE;\n",
              "      border: none;\n",
              "      border-radius: 50%;\n",
              "      cursor: pointer;\n",
              "      display: none;\n",
              "      fill: #1967D2;\n",
              "      height: 32px;\n",
              "      padding: 0 0 0 0;\n",
              "      width: 32px;\n",
              "    }\n",
              "\n",
              "    .colab-df-convert:hover {\n",
              "      background-color: #E2EBFA;\n",
              "      box-shadow: 0px 1px 2px rgba(60, 64, 67, 0.3), 0px 1px 3px 1px rgba(60, 64, 67, 0.15);\n",
              "      fill: #174EA6;\n",
              "    }\n",
              "\n",
              "    [theme=dark] .colab-df-convert {\n",
              "      background-color: #3B4455;\n",
              "      fill: #D2E3FC;\n",
              "    }\n",
              "\n",
              "    [theme=dark] .colab-df-convert:hover {\n",
              "      background-color: #434B5C;\n",
              "      box-shadow: 0px 1px 3px 1px rgba(0, 0, 0, 0.15);\n",
              "      filter: drop-shadow(0px 1px 2px rgba(0, 0, 0, 0.3));\n",
              "      fill: #FFFFFF;\n",
              "    }\n",
              "  </style>\n",
              "\n",
              "      <script>\n",
              "        const buttonEl =\n",
              "          document.querySelector('#df-0cd66593-c0cd-4936-ad3f-746da6c4b134 button.colab-df-convert');\n",
              "        buttonEl.style.display =\n",
              "          google.colab.kernel.accessAllowed ? 'block' : 'none';\n",
              "\n",
              "        async function convertToInteractive(key) {\n",
              "          const element = document.querySelector('#df-0cd66593-c0cd-4936-ad3f-746da6c4b134');\n",
              "          const dataTable =\n",
              "            await google.colab.kernel.invokeFunction('convertToInteractive',\n",
              "                                                     [key], {});\n",
              "          if (!dataTable) return;\n",
              "\n",
              "          const docLinkHtml = 'Like what you see? Visit the ' +\n",
              "            '<a target=\"_blank\" href=https://colab.research.google.com/notebooks/data_table.ipynb>data table notebook</a>'\n",
              "            + ' to learn more about interactive tables.';\n",
              "          element.innerHTML = '';\n",
              "          dataTable['output_type'] = 'display_data';\n",
              "          await google.colab.output.renderOutput(dataTable, element);\n",
              "          const docLink = document.createElement('div');\n",
              "          docLink.innerHTML = docLinkHtml;\n",
              "          element.appendChild(docLink);\n",
              "        }\n",
              "      </script>\n",
              "    </div>\n",
              "  </div>\n",
              "  "
            ]
          },
          "metadata": {},
          "execution_count": 12
        }
      ],
      "source": [
        "df.describe()"
      ]
    },
    {
      "cell_type": "markdown",
      "metadata": {
        "id": "4EOTMFMxP8EB"
      },
      "source": [
        "## **Examining the SMILES column**\n",
        "\n",
        "The **simplified molecular-input line-entry system** **(SMILES)** is a specification in the form of a line notation for describing the structure of chemical species using short ASCII strings. SMILES strings can be imported by most molecule editors for conversion back into two-dimensional drawings or three-dimensional models of the molecules.\n",
        "\n",
        "The SMILES column in the dataset consists of the list of all the notations of the molecules in the SMILES format"
      ]
    },
    {
      "cell_type": "code",
      "execution_count": 13,
      "metadata": {
        "id": "h0qPfNEEP1du",
        "colab": {
          "base_uri": "https://localhost:8080/",
          "height": 206
        },
        "outputId": "9b3d2f43-0c72-45e5-cf04-6f5a6fe03e54"
      },
      "outputs": [
        {
          "output_type": "execute_result",
          "data": {
            "text/plain": [
              "                SMILES\n",
              "0       ClCC(Cl)(Cl)Cl\n",
              "1         CC(Cl)(Cl)Cl\n",
              "2       ClC(Cl)C(Cl)Cl\n",
              "3           ClCC(Cl)Cl\n",
              "4  FC(F)(Cl)C(F)(Cl)Cl"
            ],
            "text/html": [
              "\n",
              "  <div id=\"df-af27478c-6b06-4587-b824-18c16dad0bd2\">\n",
              "    <div class=\"colab-df-container\">\n",
              "      <div>\n",
              "<style scoped>\n",
              "    .dataframe tbody tr th:only-of-type {\n",
              "        vertical-align: middle;\n",
              "    }\n",
              "\n",
              "    .dataframe tbody tr th {\n",
              "        vertical-align: top;\n",
              "    }\n",
              "\n",
              "    .dataframe thead th {\n",
              "        text-align: right;\n",
              "    }\n",
              "</style>\n",
              "<table border=\"1\" class=\"dataframe\">\n",
              "  <thead>\n",
              "    <tr style=\"text-align: right;\">\n",
              "      <th></th>\n",
              "      <th>SMILES</th>\n",
              "    </tr>\n",
              "  </thead>\n",
              "  <tbody>\n",
              "    <tr>\n",
              "      <th>0</th>\n",
              "      <td>ClCC(Cl)(Cl)Cl</td>\n",
              "    </tr>\n",
              "    <tr>\n",
              "      <th>1</th>\n",
              "      <td>CC(Cl)(Cl)Cl</td>\n",
              "    </tr>\n",
              "    <tr>\n",
              "      <th>2</th>\n",
              "      <td>ClC(Cl)C(Cl)Cl</td>\n",
              "    </tr>\n",
              "    <tr>\n",
              "      <th>3</th>\n",
              "      <td>ClCC(Cl)Cl</td>\n",
              "    </tr>\n",
              "    <tr>\n",
              "      <th>4</th>\n",
              "      <td>FC(F)(Cl)C(F)(Cl)Cl</td>\n",
              "    </tr>\n",
              "  </tbody>\n",
              "</table>\n",
              "</div>\n",
              "      <button class=\"colab-df-convert\" onclick=\"convertToInteractive('df-af27478c-6b06-4587-b824-18c16dad0bd2')\"\n",
              "              title=\"Convert this dataframe to an interactive table.\"\n",
              "              style=\"display:none;\">\n",
              "        \n",
              "  <svg xmlns=\"http://www.w3.org/2000/svg\" height=\"24px\"viewBox=\"0 0 24 24\"\n",
              "       width=\"24px\">\n",
              "    <path d=\"M0 0h24v24H0V0z\" fill=\"none\"/>\n",
              "    <path d=\"M18.56 5.44l.94 2.06.94-2.06 2.06-.94-2.06-.94-.94-2.06-.94 2.06-2.06.94zm-11 1L8.5 8.5l.94-2.06 2.06-.94-2.06-.94L8.5 2.5l-.94 2.06-2.06.94zm10 10l.94 2.06.94-2.06 2.06-.94-2.06-.94-.94-2.06-.94 2.06-2.06.94z\"/><path d=\"M17.41 7.96l-1.37-1.37c-.4-.4-.92-.59-1.43-.59-.52 0-1.04.2-1.43.59L10.3 9.45l-7.72 7.72c-.78.78-.78 2.05 0 2.83L4 21.41c.39.39.9.59 1.41.59.51 0 1.02-.2 1.41-.59l7.78-7.78 2.81-2.81c.8-.78.8-2.07 0-2.86zM5.41 20L4 18.59l7.72-7.72 1.47 1.35L5.41 20z\"/>\n",
              "  </svg>\n",
              "      </button>\n",
              "      \n",
              "  <style>\n",
              "    .colab-df-container {\n",
              "      display:flex;\n",
              "      flex-wrap:wrap;\n",
              "      gap: 12px;\n",
              "    }\n",
              "\n",
              "    .colab-df-convert {\n",
              "      background-color: #E8F0FE;\n",
              "      border: none;\n",
              "      border-radius: 50%;\n",
              "      cursor: pointer;\n",
              "      display: none;\n",
              "      fill: #1967D2;\n",
              "      height: 32px;\n",
              "      padding: 0 0 0 0;\n",
              "      width: 32px;\n",
              "    }\n",
              "\n",
              "    .colab-df-convert:hover {\n",
              "      background-color: #E2EBFA;\n",
              "      box-shadow: 0px 1px 2px rgba(60, 64, 67, 0.3), 0px 1px 3px 1px rgba(60, 64, 67, 0.15);\n",
              "      fill: #174EA6;\n",
              "    }\n",
              "\n",
              "    [theme=dark] .colab-df-convert {\n",
              "      background-color: #3B4455;\n",
              "      fill: #D2E3FC;\n",
              "    }\n",
              "\n",
              "    [theme=dark] .colab-df-convert:hover {\n",
              "      background-color: #434B5C;\n",
              "      box-shadow: 0px 1px 3px 1px rgba(0, 0, 0, 0.15);\n",
              "      filter: drop-shadow(0px 1px 2px rgba(0, 0, 0, 0.3));\n",
              "      fill: #FFFFFF;\n",
              "    }\n",
              "  </style>\n",
              "\n",
              "      <script>\n",
              "        const buttonEl =\n",
              "          document.querySelector('#df-af27478c-6b06-4587-b824-18c16dad0bd2 button.colab-df-convert');\n",
              "        buttonEl.style.display =\n",
              "          google.colab.kernel.accessAllowed ? 'block' : 'none';\n",
              "\n",
              "        async function convertToInteractive(key) {\n",
              "          const element = document.querySelector('#df-af27478c-6b06-4587-b824-18c16dad0bd2');\n",
              "          const dataTable =\n",
              "            await google.colab.kernel.invokeFunction('convertToInteractive',\n",
              "                                                     [key], {});\n",
              "          if (!dataTable) return;\n",
              "\n",
              "          const docLinkHtml = 'Like what you see? Visit the ' +\n",
              "            '<a target=\"_blank\" href=https://colab.research.google.com/notebooks/data_table.ipynb>data table notebook</a>'\n",
              "            + ' to learn more about interactive tables.';\n",
              "          element.innerHTML = '';\n",
              "          dataTable['output_type'] = 'display_data';\n",
              "          await google.colab.output.renderOutput(dataTable, element);\n",
              "          const docLink = document.createElement('div');\n",
              "          docLink.innerHTML = docLinkHtml;\n",
              "          element.appendChild(docLink);\n",
              "        }\n",
              "      </script>\n",
              "    </div>\n",
              "  </div>\n",
              "  "
            ]
          },
          "metadata": {},
          "execution_count": 13
        }
      ],
      "source": [
        "df[['SMILES']].head(5)"
      ]
    },
    {
      "cell_type": "markdown",
      "metadata": {
        "id": "9MSomSrmQFgi"
      },
      "source": [
        "## **Calculate Molecular Descriptors in rdkit**\n",
        "\n",
        "Molecular descriptors can be defined as mathematical representations of molecules' properties that are generated by algorithms. The numerical values of molecular descriptors are used to quantitatively describe the physical and chemical information of the molecules. For calculating the SMILES data needs to be converted to rdkit object"
      ]
    },
    {
      "cell_type": "markdown",
      "metadata": {
        "id": "5zuF4jIGROau"
      },
      "source": [
        "\n",
        "###**Convert list of molecules from SMILES notation to rdkit object**"
      ]
    },
    {
      "cell_type": "code",
      "execution_count": 14,
      "metadata": {
        "id": "cBdLtpOkQAYf"
      },
      "outputs": [],
      "source": [
        "from rdkit import Chem"
      ]
    },
    {
      "cell_type": "code",
      "execution_count": 15,
      "metadata": {
        "id": "f_0C3kz3QNMY"
      },
      "outputs": [],
      "source": [
        "mol_list= []\n",
        "for element in df.SMILES:\n",
        "  mol = Chem.MolFromSmiles(element)\n",
        "  mol_list.append(mol)"
      ]
    },
    {
      "cell_type": "code",
      "execution_count": 16,
      "metadata": {
        "id": "pf9rH3MISD_A",
        "colab": {
          "base_uri": "https://localhost:8080/"
        },
        "outputId": "c98d50c1-ef3d-4b14-c323-2d2e6801d93a"
      },
      "outputs": [
        {
          "output_type": "execute_result",
          "data": {
            "text/plain": [
              "[<rdkit.Chem.rdchem.Mol at 0x7fcbf31d0bc0>,\n",
              " <rdkit.Chem.rdchem.Mol at 0x7fcbf31d0b70>,\n",
              " <rdkit.Chem.rdchem.Mol at 0x7fcbf31d0b20>,\n",
              " <rdkit.Chem.rdchem.Mol at 0x7fcbf31d0c10>,\n",
              " <rdkit.Chem.rdchem.Mol at 0x7fcbf31d0c60>,\n",
              " <rdkit.Chem.rdchem.Mol at 0x7fcbf31d0cb0>,\n",
              " <rdkit.Chem.rdchem.Mol at 0x7fcbf31d0d00>,\n",
              " <rdkit.Chem.rdchem.Mol at 0x7fcbf31d0d50>,\n",
              " <rdkit.Chem.rdchem.Mol at 0x7fcbf31d0da0>,\n",
              " <rdkit.Chem.rdchem.Mol at 0x7fcbf31d0df0>]"
            ]
          },
          "metadata": {},
          "execution_count": 16
        }
      ],
      "source": [
        "mol_list[:10]"
      ]
    },
    {
      "cell_type": "code",
      "execution_count": 17,
      "metadata": {
        "id": "e5O6ilZzSOdq",
        "colab": {
          "base_uri": "https://localhost:8080/"
        },
        "outputId": "e1b36010-3f2d-49d2-cafc-fc8f33b1c906"
      },
      "outputs": [
        {
          "output_type": "execute_result",
          "data": {
            "text/plain": [
              "1144"
            ]
          },
          "metadata": {},
          "execution_count": 17
        }
      ],
      "source": [
        "len(mol_list)"
      ]
    },
    {
      "cell_type": "markdown",
      "metadata": {
        "id": "WFCz8uovVBm8"
      },
      "source": [
        "###**Calculating molecular descriptors**\n",
        "\n",
        "To predict LogS (log of the aqueous solubility), the study by Delaney makes use of 4 molecular descriptors:\n",
        "\n",
        "\n",
        "1.   **cLogP** (Octanol-water partition coefficient)\n",
        "2.   **MW** (Molecular weight)\n",
        "3.   **RB** (Number of rotatable bonds)\n",
        "4.    **AP** (Aromatic proportion = number of aromatic atoms / total number of heavy atoms)\n",
        "\n",
        "rdkit has functions to compute the first 3 descritors. As for the AP descriptor, we will calculate this by manually computing the ratio of the number of aromatic atoms to the total number of heavy atoms which rdkit can compute.\n"
      ]
    },
    {
      "cell_type": "code",
      "execution_count": 18,
      "metadata": {
        "id": "VdBAcqJYSad9"
      },
      "outputs": [],
      "source": [
        "from rdkit.Chem import Descriptors"
      ]
    },
    {
      "cell_type": "code",
      "execution_count": 19,
      "metadata": {
        "id": "am18Dx7ZtM3A"
      },
      "outputs": [],
      "source": [
        "moldata= []\n",
        "for element in df.SMILES:\n",
        "  mol=Chem.MolFromSmiles(element) \n",
        "  moldata.append(mol)\n",
        "\n",
        "desc_MolLogP = []\n",
        "desc_MolWt = []\n",
        "desc_Rotatable_Bonds = []\n",
        "\n",
        "for mol in moldata :\n",
        "  desc_MolLogP.append(Descriptors.MolLogP(mol))\n",
        "  desc_MolWt.append(Descriptors.MolWt(mol))\n",
        "  desc_Rotatable_Bonds.append(Descriptors.NumRotatableBonds(mol))\n",
        "\n",
        "\n",
        "table = {\"MolLogP\" : desc_MolLogP , \"MolWt\" : desc_MolWt , \"RotatableBonds\": desc_Rotatable_Bonds}\n",
        "\n",
        "descriptors = pd.DataFrame(table)\n",
        "    "
      ]
    },
    {
      "cell_type": "code",
      "execution_count": 20,
      "metadata": {
        "id": "YVHNSIlvzf5g",
        "colab": {
          "base_uri": "https://localhost:8080/",
          "height": 206
        },
        "outputId": "caa8e90a-439e-4eba-aa98-576695eed270"
      },
      "outputs": [
        {
          "output_type": "execute_result",
          "data": {
            "text/plain": [
              "   MolLogP    MolWt  RotatableBonds\n",
              "0   2.5954  167.850               0\n",
              "1   2.3765  133.405               0\n",
              "2   2.5938  167.850               1\n",
              "3   2.0289  133.405               1\n",
              "4   2.9189  187.375               1"
            ],
            "text/html": [
              "\n",
              "  <div id=\"df-6dbe07b7-953e-44bc-97c0-3f245763b21d\">\n",
              "    <div class=\"colab-df-container\">\n",
              "      <div>\n",
              "<style scoped>\n",
              "    .dataframe tbody tr th:only-of-type {\n",
              "        vertical-align: middle;\n",
              "    }\n",
              "\n",
              "    .dataframe tbody tr th {\n",
              "        vertical-align: top;\n",
              "    }\n",
              "\n",
              "    .dataframe thead th {\n",
              "        text-align: right;\n",
              "    }\n",
              "</style>\n",
              "<table border=\"1\" class=\"dataframe\">\n",
              "  <thead>\n",
              "    <tr style=\"text-align: right;\">\n",
              "      <th></th>\n",
              "      <th>MolLogP</th>\n",
              "      <th>MolWt</th>\n",
              "      <th>RotatableBonds</th>\n",
              "    </tr>\n",
              "  </thead>\n",
              "  <tbody>\n",
              "    <tr>\n",
              "      <th>0</th>\n",
              "      <td>2.5954</td>\n",
              "      <td>167.850</td>\n",
              "      <td>0</td>\n",
              "    </tr>\n",
              "    <tr>\n",
              "      <th>1</th>\n",
              "      <td>2.3765</td>\n",
              "      <td>133.405</td>\n",
              "      <td>0</td>\n",
              "    </tr>\n",
              "    <tr>\n",
              "      <th>2</th>\n",
              "      <td>2.5938</td>\n",
              "      <td>167.850</td>\n",
              "      <td>1</td>\n",
              "    </tr>\n",
              "    <tr>\n",
              "      <th>3</th>\n",
              "      <td>2.0289</td>\n",
              "      <td>133.405</td>\n",
              "      <td>1</td>\n",
              "    </tr>\n",
              "    <tr>\n",
              "      <th>4</th>\n",
              "      <td>2.9189</td>\n",
              "      <td>187.375</td>\n",
              "      <td>1</td>\n",
              "    </tr>\n",
              "  </tbody>\n",
              "</table>\n",
              "</div>\n",
              "      <button class=\"colab-df-convert\" onclick=\"convertToInteractive('df-6dbe07b7-953e-44bc-97c0-3f245763b21d')\"\n",
              "              title=\"Convert this dataframe to an interactive table.\"\n",
              "              style=\"display:none;\">\n",
              "        \n",
              "  <svg xmlns=\"http://www.w3.org/2000/svg\" height=\"24px\"viewBox=\"0 0 24 24\"\n",
              "       width=\"24px\">\n",
              "    <path d=\"M0 0h24v24H0V0z\" fill=\"none\"/>\n",
              "    <path d=\"M18.56 5.44l.94 2.06.94-2.06 2.06-.94-2.06-.94-.94-2.06-.94 2.06-2.06.94zm-11 1L8.5 8.5l.94-2.06 2.06-.94-2.06-.94L8.5 2.5l-.94 2.06-2.06.94zm10 10l.94 2.06.94-2.06 2.06-.94-2.06-.94-.94-2.06-.94 2.06-2.06.94z\"/><path d=\"M17.41 7.96l-1.37-1.37c-.4-.4-.92-.59-1.43-.59-.52 0-1.04.2-1.43.59L10.3 9.45l-7.72 7.72c-.78.78-.78 2.05 0 2.83L4 21.41c.39.39.9.59 1.41.59.51 0 1.02-.2 1.41-.59l7.78-7.78 2.81-2.81c.8-.78.8-2.07 0-2.86zM5.41 20L4 18.59l7.72-7.72 1.47 1.35L5.41 20z\"/>\n",
              "  </svg>\n",
              "      </button>\n",
              "      \n",
              "  <style>\n",
              "    .colab-df-container {\n",
              "      display:flex;\n",
              "      flex-wrap:wrap;\n",
              "      gap: 12px;\n",
              "    }\n",
              "\n",
              "    .colab-df-convert {\n",
              "      background-color: #E8F0FE;\n",
              "      border: none;\n",
              "      border-radius: 50%;\n",
              "      cursor: pointer;\n",
              "      display: none;\n",
              "      fill: #1967D2;\n",
              "      height: 32px;\n",
              "      padding: 0 0 0 0;\n",
              "      width: 32px;\n",
              "    }\n",
              "\n",
              "    .colab-df-convert:hover {\n",
              "      background-color: #E2EBFA;\n",
              "      box-shadow: 0px 1px 2px rgba(60, 64, 67, 0.3), 0px 1px 3px 1px rgba(60, 64, 67, 0.15);\n",
              "      fill: #174EA6;\n",
              "    }\n",
              "\n",
              "    [theme=dark] .colab-df-convert {\n",
              "      background-color: #3B4455;\n",
              "      fill: #D2E3FC;\n",
              "    }\n",
              "\n",
              "    [theme=dark] .colab-df-convert:hover {\n",
              "      background-color: #434B5C;\n",
              "      box-shadow: 0px 1px 3px 1px rgba(0, 0, 0, 0.15);\n",
              "      filter: drop-shadow(0px 1px 2px rgba(0, 0, 0, 0.3));\n",
              "      fill: #FFFFFF;\n",
              "    }\n",
              "  </style>\n",
              "\n",
              "      <script>\n",
              "        const buttonEl =\n",
              "          document.querySelector('#df-6dbe07b7-953e-44bc-97c0-3f245763b21d button.colab-df-convert');\n",
              "        buttonEl.style.display =\n",
              "          google.colab.kernel.accessAllowed ? 'block' : 'none';\n",
              "\n",
              "        async function convertToInteractive(key) {\n",
              "          const element = document.querySelector('#df-6dbe07b7-953e-44bc-97c0-3f245763b21d');\n",
              "          const dataTable =\n",
              "            await google.colab.kernel.invokeFunction('convertToInteractive',\n",
              "                                                     [key], {});\n",
              "          if (!dataTable) return;\n",
              "\n",
              "          const docLinkHtml = 'Like what you see? Visit the ' +\n",
              "            '<a target=\"_blank\" href=https://colab.research.google.com/notebooks/data_table.ipynb>data table notebook</a>'\n",
              "            + ' to learn more about interactive tables.';\n",
              "          element.innerHTML = '';\n",
              "          dataTable['output_type'] = 'display_data';\n",
              "          await google.colab.output.renderOutput(dataTable, element);\n",
              "          const docLink = document.createElement('div');\n",
              "          docLink.innerHTML = docLinkHtml;\n",
              "          element.appendChild(docLink);\n",
              "        }\n",
              "      </script>\n",
              "    </div>\n",
              "  </div>\n",
              "  "
            ]
          },
          "metadata": {},
          "execution_count": 20
        }
      ],
      "source": [
        "descriptors.head()"
      ]
    },
    {
      "cell_type": "code",
      "execution_count": 21,
      "metadata": {
        "id": "kVkOLBpo0LMI",
        "colab": {
          "base_uri": "https://localhost:8080/"
        },
        "outputId": "e8678918-fe91-44f3-baa3-7a1d2476e01c"
      },
      "outputs": [
        {
          "output_type": "execute_result",
          "data": {
            "text/plain": [
              "1144"
            ]
          },
          "metadata": {},
          "execution_count": 21
        }
      ],
      "source": [
        "len(descriptors.index)"
      ]
    },
    {
      "cell_type": "markdown",
      "metadata": {
        "id": "HyClci6eR8Lt"
      },
      "source": [
        "### **Aromatic Proportion**\n",
        "\n",
        "It is simply the ratio of the number of aromatic atoms to that of the total number of heavy atoms. To get the aromatic proportion, we first need to get the data for the number of aromatic atoms and number of heavy atoms for each molecule."
      ]
    },
    {
      "cell_type": "markdown",
      "metadata": {
        "id": "qWH4_ZPdS6Pp"
      },
      "source": [
        "### **Number of Aromatic Atoms**\n",
        "\n",
        "The number of aromatic atoms determines the total number of atoms in a molecule that constitute to its aromaticity"
      ]
    },
    {
      "cell_type": "markdown",
      "metadata": {
        "id": "2EJ6XMFB6C4A"
      },
      "source": [
        "**Calculating Number of Aromatic Atoms for a single molecule**"
      ]
    },
    {
      "cell_type": "code",
      "execution_count": 22,
      "metadata": {
        "id": "08HCiP9qQ6ZY"
      },
      "outputs": [],
      "source": [
        "m = Chem.MolFromSmiles('COc1cccc2cc(C(=O)NCCCCN3CCN(c4cccc5nccnc54)CC3)oc21')\n",
        "aromatic_atoms = []\n",
        "for i in range (m.GetNumAtoms()):\n",
        "  aromatic_atoms.append(m.GetAtomWithIdx(i).GetIsAromatic())"
      ]
    },
    {
      "cell_type": "code",
      "execution_count": 23,
      "metadata": {
        "id": "u_xOmWG7UuFC",
        "colab": {
          "base_uri": "https://localhost:8080/"
        },
        "outputId": "453bf5a7-b66d-48fa-cd29-53be7ebb1cb3"
      },
      "outputs": [
        {
          "output_type": "execute_result",
          "data": {
            "text/plain": [
              "[False, False, True, True, True, True, True, True, True, False]"
            ]
          },
          "metadata": {},
          "execution_count": 23
        }
      ],
      "source": [
        "aromatic_atoms[:10]"
      ]
    },
    {
      "cell_type": "markdown",
      "metadata": {
        "id": "31d7jycWZXCv"
      },
      "source": [
        "This gives us a list consisting of boolean values. To get the numerical value , we use the sum function. This returns counts all the positions where the value is True."
      ]
    },
    {
      "cell_type": "code",
      "execution_count": 24,
      "metadata": {
        "id": "Qdr9NOYGYJpD",
        "colab": {
          "base_uri": "https://localhost:8080/"
        },
        "outputId": "6109b09c-323c-4473-850d-49d136a9f205"
      },
      "outputs": [
        {
          "output_type": "stream",
          "name": "stdout",
          "text": [
            "19\n"
          ]
        }
      ],
      "source": [
        "print(sum(aromatic_atoms))"
      ]
    },
    {
      "cell_type": "markdown",
      "metadata": {
        "id": "h2v7eGT565nk"
      },
      "source": [
        "### **Calculating Number of Aromatic Atoms for the complete Dataset**"
      ]
    },
    {
      "cell_type": "code",
      "execution_count": 25,
      "metadata": {
        "id": "T5AKIYA6cKVk"
      },
      "outputs": [],
      "source": [
        "def NumAromaticAtom(m):\n",
        "  aromatic_atoms = []\n",
        "  for i in range (m.GetNumAtoms()):\n",
        "    aromatic_atoms.append(m.GetAtomWithIdx(i).GetIsAromatic())\n",
        "\n",
        "  return sum(aromatic_atoms)\n",
        "  "
      ]
    },
    {
      "cell_type": "code",
      "execution_count": 26,
      "metadata": {
        "id": "DIuwoHAndgpp"
      },
      "outputs": [],
      "source": [
        "Desc_AromaticAtoms = []\n",
        "for element in moldata :\n",
        "  Desc_AromaticAtoms.append(NumAromaticAtom(element))"
      ]
    },
    {
      "cell_type": "code",
      "execution_count": 27,
      "metadata": {
        "id": "DFf3cP9ofDDQ",
        "colab": {
          "base_uri": "https://localhost:8080/"
        },
        "outputId": "15fb0c92-cf00-4fb3-a334-7b3f542e82fc"
      },
      "outputs": [
        {
          "output_type": "execute_result",
          "data": {
            "text/plain": [
              "[0, 0, 0, 0, 0, 0, 0, 0, 6, 6, 6, 6, 6, 6, 6, 6, 6, 6, 6, 6]"
            ]
          },
          "metadata": {},
          "execution_count": 27
        }
      ],
      "source": [
        "Desc_AromaticAtoms[:20] #The number of aromatic atoms for the first 20 molecules"
      ]
    },
    {
      "cell_type": "code",
      "execution_count": 28,
      "metadata": {
        "id": "fbnJgCH1DcXX",
        "colab": {
          "base_uri": "https://localhost:8080/"
        },
        "outputId": "6203b736-fbc0-483b-e03b-e51500ae8a15"
      },
      "outputs": [
        {
          "output_type": "execute_result",
          "data": {
            "text/plain": [
              "1144"
            ]
          },
          "metadata": {},
          "execution_count": 28
        }
      ],
      "source": [
        "len(Desc_AromaticAtoms)"
      ]
    },
    {
      "cell_type": "markdown",
      "metadata": {
        "id": "neekJR2k7eEl"
      },
      "source": [
        "**Calculating the Number of Heavy Atoms**\n",
        "\n",
        "Heavy atom refers to any atom that is not hydrogen. Here, we will use an existing function for calculating the Number of heavy atoms."
      ]
    },
    {
      "cell_type": "markdown",
      "metadata": {
        "id": "J4GeGQ3a_tL-"
      },
      "source": [
        "**Computing for a single molecule.**"
      ]
    },
    {
      "cell_type": "code",
      "execution_count": 29,
      "metadata": {
        "id": "Llx5qnOj7d6E",
        "colab": {
          "base_uri": "https://localhost:8080/"
        },
        "outputId": "c77fbf91-119a-4da0-8e32-65c5a15b7b56"
      },
      "outputs": [
        {
          "output_type": "execute_result",
          "data": {
            "text/plain": [
              "34"
            ]
          },
          "metadata": {},
          "execution_count": 29
        }
      ],
      "source": [
        "m = Chem.MolFromSmiles('COc1cccc2cc(C(=O)NCCCCN3CCN(c4cccc5nccnc54)CC3)oc21')\n",
        "Descriptors.HeavyAtomCount(m)"
      ]
    },
    {
      "cell_type": "markdown",
      "metadata": {
        "id": "jvc4SRelAD_c"
      },
      "source": [
        "**Calculating Number of Heavy Atoms for the complete Dataset**"
      ]
    },
    {
      "cell_type": "code",
      "execution_count": 30,
      "metadata": {
        "id": "J0m6rL1R607S"
      },
      "outputs": [],
      "source": [
        "desc_HeavyAtomCount = []\n",
        "for element in moldata :\n",
        "  desc_HeavyAtomCount.append(Descriptors.HeavyAtomCount(element))"
      ]
    },
    {
      "cell_type": "code",
      "execution_count": 31,
      "metadata": {
        "id": "B4cVkwo4BMPT",
        "colab": {
          "base_uri": "https://localhost:8080/"
        },
        "outputId": "976fe824-e883-4cd6-b3db-9cef967846ca"
      },
      "outputs": [
        {
          "output_type": "execute_result",
          "data": {
            "text/plain": [
              "[6, 5, 6, 5, 8, 4, 4, 8, 10, 10, 10, 9, 9, 10, 10, 10, 9, 9, 9, 8]"
            ]
          },
          "metadata": {},
          "execution_count": 31
        }
      ],
      "source": [
        "desc_HeavyAtomCount[:20] #The number of Heavy atoms for the first 20 molecules"
      ]
    },
    {
      "cell_type": "code",
      "execution_count": 32,
      "metadata": {
        "id": "HBrpKE1iDe-H",
        "colab": {
          "base_uri": "https://localhost:8080/"
        },
        "outputId": "f1bc8a7e-f4b3-4a76-f844-ddbd7a07eea9"
      },
      "outputs": [
        {
          "output_type": "execute_result",
          "data": {
            "text/plain": [
              "1144"
            ]
          },
          "metadata": {},
          "execution_count": 32
        }
      ],
      "source": [
        "len(desc_HeavyAtomCount)"
      ]
    },
    {
      "cell_type": "markdown",
      "metadata": {
        "id": "RS69xJ3IAzN3"
      },
      "source": [
        "###**Computing the Aromatic Proportion (AP) descriptor**"
      ]
    },
    {
      "cell_type": "code",
      "execution_count": 33,
      "metadata": {
        "id": "QI7jY6GTBjO1"
      },
      "outputs": [],
      "source": [
        "desc_AromaticProportion = [i / j for i, j in zip(Desc_AromaticAtoms, desc_HeavyAtomCount)]"
      ]
    },
    {
      "cell_type": "code",
      "execution_count": 34,
      "metadata": {
        "id": "9rY35RkuC-w3",
        "colab": {
          "base_uri": "https://localhost:8080/"
        },
        "outputId": "e66e06cd-608e-4fa5-a4dc-870cf4c3c3d4"
      },
      "outputs": [
        {
          "output_type": "execute_result",
          "data": {
            "text/plain": [
              "[0.0,\n",
              " 0.0,\n",
              " 0.0,\n",
              " 0.0,\n",
              " 0.0,\n",
              " 0.0,\n",
              " 0.0,\n",
              " 0.0,\n",
              " 0.6,\n",
              " 0.6,\n",
              " 0.6,\n",
              " 0.6666666666666666,\n",
              " 0.6666666666666666,\n",
              " 0.6,\n",
              " 0.6,\n",
              " 0.6,\n",
              " 0.6666666666666666,\n",
              " 0.6666666666666666,\n",
              " 0.6666666666666666,\n",
              " 0.75]"
            ]
          },
          "metadata": {},
          "execution_count": 34
        }
      ],
      "source": [
        "desc_AromaticProportion[:20]"
      ]
    },
    {
      "cell_type": "code",
      "execution_count": 35,
      "metadata": {
        "id": "NP-4fwiiDAAr",
        "colab": {
          "base_uri": "https://localhost:8080/"
        },
        "outputId": "8d0dc67c-4925-4f35-fb0c-d7f8c07f9ab0"
      },
      "outputs": [
        {
          "output_type": "execute_result",
          "data": {
            "text/plain": [
              "1144"
            ]
          },
          "metadata": {},
          "execution_count": 35
        }
      ],
      "source": [
        "len(desc_AromaticProportion)"
      ]
    },
    {
      "cell_type": "code",
      "execution_count": 36,
      "metadata": {
        "id": "496TXRjKDPd6",
        "colab": {
          "base_uri": "https://localhost:8080/",
          "height": 423
        },
        "outputId": "d71c2a37-674a-49f6-f208-236fd5cd945b"
      },
      "outputs": [
        {
          "output_type": "execute_result",
          "data": {
            "text/plain": [
              "      AromaticProportion\n",
              "0               0.000000\n",
              "1               0.000000\n",
              "2               0.000000\n",
              "3               0.000000\n",
              "4               0.000000\n",
              "...                  ...\n",
              "1139            0.000000\n",
              "1140            0.333333\n",
              "1141            0.695652\n",
              "1142            0.521739\n",
              "1143            0.461538\n",
              "\n",
              "[1144 rows x 1 columns]"
            ],
            "text/html": [
              "\n",
              "  <div id=\"df-7d260fb9-ba86-41be-93c0-28f24952078a\">\n",
              "    <div class=\"colab-df-container\">\n",
              "      <div>\n",
              "<style scoped>\n",
              "    .dataframe tbody tr th:only-of-type {\n",
              "        vertical-align: middle;\n",
              "    }\n",
              "\n",
              "    .dataframe tbody tr th {\n",
              "        vertical-align: top;\n",
              "    }\n",
              "\n",
              "    .dataframe thead th {\n",
              "        text-align: right;\n",
              "    }\n",
              "</style>\n",
              "<table border=\"1\" class=\"dataframe\">\n",
              "  <thead>\n",
              "    <tr style=\"text-align: right;\">\n",
              "      <th></th>\n",
              "      <th>AromaticProportion</th>\n",
              "    </tr>\n",
              "  </thead>\n",
              "  <tbody>\n",
              "    <tr>\n",
              "      <th>0</th>\n",
              "      <td>0.000000</td>\n",
              "    </tr>\n",
              "    <tr>\n",
              "      <th>1</th>\n",
              "      <td>0.000000</td>\n",
              "    </tr>\n",
              "    <tr>\n",
              "      <th>2</th>\n",
              "      <td>0.000000</td>\n",
              "    </tr>\n",
              "    <tr>\n",
              "      <th>3</th>\n",
              "      <td>0.000000</td>\n",
              "    </tr>\n",
              "    <tr>\n",
              "      <th>4</th>\n",
              "      <td>0.000000</td>\n",
              "    </tr>\n",
              "    <tr>\n",
              "      <th>...</th>\n",
              "      <td>...</td>\n",
              "    </tr>\n",
              "    <tr>\n",
              "      <th>1139</th>\n",
              "      <td>0.000000</td>\n",
              "    </tr>\n",
              "    <tr>\n",
              "      <th>1140</th>\n",
              "      <td>0.333333</td>\n",
              "    </tr>\n",
              "    <tr>\n",
              "      <th>1141</th>\n",
              "      <td>0.695652</td>\n",
              "    </tr>\n",
              "    <tr>\n",
              "      <th>1142</th>\n",
              "      <td>0.521739</td>\n",
              "    </tr>\n",
              "    <tr>\n",
              "      <th>1143</th>\n",
              "      <td>0.461538</td>\n",
              "    </tr>\n",
              "  </tbody>\n",
              "</table>\n",
              "<p>1144 rows × 1 columns</p>\n",
              "</div>\n",
              "      <button class=\"colab-df-convert\" onclick=\"convertToInteractive('df-7d260fb9-ba86-41be-93c0-28f24952078a')\"\n",
              "              title=\"Convert this dataframe to an interactive table.\"\n",
              "              style=\"display:none;\">\n",
              "        \n",
              "  <svg xmlns=\"http://www.w3.org/2000/svg\" height=\"24px\"viewBox=\"0 0 24 24\"\n",
              "       width=\"24px\">\n",
              "    <path d=\"M0 0h24v24H0V0z\" fill=\"none\"/>\n",
              "    <path d=\"M18.56 5.44l.94 2.06.94-2.06 2.06-.94-2.06-.94-.94-2.06-.94 2.06-2.06.94zm-11 1L8.5 8.5l.94-2.06 2.06-.94-2.06-.94L8.5 2.5l-.94 2.06-2.06.94zm10 10l.94 2.06.94-2.06 2.06-.94-2.06-.94-.94-2.06-.94 2.06-2.06.94z\"/><path d=\"M17.41 7.96l-1.37-1.37c-.4-.4-.92-.59-1.43-.59-.52 0-1.04.2-1.43.59L10.3 9.45l-7.72 7.72c-.78.78-.78 2.05 0 2.83L4 21.41c.39.39.9.59 1.41.59.51 0 1.02-.2 1.41-.59l7.78-7.78 2.81-2.81c.8-.78.8-2.07 0-2.86zM5.41 20L4 18.59l7.72-7.72 1.47 1.35L5.41 20z\"/>\n",
              "  </svg>\n",
              "      </button>\n",
              "      \n",
              "  <style>\n",
              "    .colab-df-container {\n",
              "      display:flex;\n",
              "      flex-wrap:wrap;\n",
              "      gap: 12px;\n",
              "    }\n",
              "\n",
              "    .colab-df-convert {\n",
              "      background-color: #E8F0FE;\n",
              "      border: none;\n",
              "      border-radius: 50%;\n",
              "      cursor: pointer;\n",
              "      display: none;\n",
              "      fill: #1967D2;\n",
              "      height: 32px;\n",
              "      padding: 0 0 0 0;\n",
              "      width: 32px;\n",
              "    }\n",
              "\n",
              "    .colab-df-convert:hover {\n",
              "      background-color: #E2EBFA;\n",
              "      box-shadow: 0px 1px 2px rgba(60, 64, 67, 0.3), 0px 1px 3px 1px rgba(60, 64, 67, 0.15);\n",
              "      fill: #174EA6;\n",
              "    }\n",
              "\n",
              "    [theme=dark] .colab-df-convert {\n",
              "      background-color: #3B4455;\n",
              "      fill: #D2E3FC;\n",
              "    }\n",
              "\n",
              "    [theme=dark] .colab-df-convert:hover {\n",
              "      background-color: #434B5C;\n",
              "      box-shadow: 0px 1px 3px 1px rgba(0, 0, 0, 0.15);\n",
              "      filter: drop-shadow(0px 1px 2px rgba(0, 0, 0, 0.3));\n",
              "      fill: #FFFFFF;\n",
              "    }\n",
              "  </style>\n",
              "\n",
              "      <script>\n",
              "        const buttonEl =\n",
              "          document.querySelector('#df-7d260fb9-ba86-41be-93c0-28f24952078a button.colab-df-convert');\n",
              "        buttonEl.style.display =\n",
              "          google.colab.kernel.accessAllowed ? 'block' : 'none';\n",
              "\n",
              "        async function convertToInteractive(key) {\n",
              "          const element = document.querySelector('#df-7d260fb9-ba86-41be-93c0-28f24952078a');\n",
              "          const dataTable =\n",
              "            await google.colab.kernel.invokeFunction('convertToInteractive',\n",
              "                                                     [key], {});\n",
              "          if (!dataTable) return;\n",
              "\n",
              "          const docLinkHtml = 'Like what you see? Visit the ' +\n",
              "            '<a target=\"_blank\" href=https://colab.research.google.com/notebooks/data_table.ipynb>data table notebook</a>'\n",
              "            + ' to learn more about interactive tables.';\n",
              "          element.innerHTML = '';\n",
              "          dataTable['output_type'] = 'display_data';\n",
              "          await google.colab.output.renderOutput(dataTable, element);\n",
              "          const docLink = document.createElement('div');\n",
              "          docLink.innerHTML = docLinkHtml;\n",
              "          element.appendChild(docLink);\n",
              "        }\n",
              "      </script>\n",
              "    </div>\n",
              "  </div>\n",
              "  "
            ]
          },
          "metadata": {},
          "execution_count": 36
        }
      ],
      "source": [
        "df_AromaticProportion = pd.DataFrame(desc_AromaticProportion, columns=['AromaticProportion'])\n",
        "df_AromaticProportion"
      ]
    },
    {
      "cell_type": "markdown",
      "metadata": {
        "id": "K3IGDmp_E_y5"
      },
      "source": [
        "##**Combining all computed descriptors into 1 dataframe   (X Matrix)**\n",
        "\n",
        "\n",
        "\n",
        "\n"
      ]
    },
    {
      "cell_type": "code",
      "execution_count": 37,
      "metadata": {
        "id": "72vyK3RWEgEt",
        "colab": {
          "base_uri": "https://localhost:8080/",
          "height": 423
        },
        "outputId": "b7aa0802-e89f-441d-8eaf-f7769abb17be"
      },
      "outputs": [
        {
          "output_type": "execute_result",
          "data": {
            "text/plain": [
              "      MolLogP    MolWt  RotatableBonds\n",
              "0     2.59540  167.850               0\n",
              "1     2.37650  133.405               0\n",
              "2     2.59380  167.850               1\n",
              "3     2.02890  133.405               1\n",
              "4     2.91890  187.375               1\n",
              "...       ...      ...             ...\n",
              "1139  1.98820  287.343               8\n",
              "1140  3.42130  286.114               2\n",
              "1141  3.60960  308.333               4\n",
              "1142  2.56214  354.815               3\n",
              "1143  2.02164  179.219               1\n",
              "\n",
              "[1144 rows x 3 columns]"
            ],
            "text/html": [
              "\n",
              "  <div id=\"df-a769d988-4d50-4760-8cc7-56259628e4b0\">\n",
              "    <div class=\"colab-df-container\">\n",
              "      <div>\n",
              "<style scoped>\n",
              "    .dataframe tbody tr th:only-of-type {\n",
              "        vertical-align: middle;\n",
              "    }\n",
              "\n",
              "    .dataframe tbody tr th {\n",
              "        vertical-align: top;\n",
              "    }\n",
              "\n",
              "    .dataframe thead th {\n",
              "        text-align: right;\n",
              "    }\n",
              "</style>\n",
              "<table border=\"1\" class=\"dataframe\">\n",
              "  <thead>\n",
              "    <tr style=\"text-align: right;\">\n",
              "      <th></th>\n",
              "      <th>MolLogP</th>\n",
              "      <th>MolWt</th>\n",
              "      <th>RotatableBonds</th>\n",
              "    </tr>\n",
              "  </thead>\n",
              "  <tbody>\n",
              "    <tr>\n",
              "      <th>0</th>\n",
              "      <td>2.59540</td>\n",
              "      <td>167.850</td>\n",
              "      <td>0</td>\n",
              "    </tr>\n",
              "    <tr>\n",
              "      <th>1</th>\n",
              "      <td>2.37650</td>\n",
              "      <td>133.405</td>\n",
              "      <td>0</td>\n",
              "    </tr>\n",
              "    <tr>\n",
              "      <th>2</th>\n",
              "      <td>2.59380</td>\n",
              "      <td>167.850</td>\n",
              "      <td>1</td>\n",
              "    </tr>\n",
              "    <tr>\n",
              "      <th>3</th>\n",
              "      <td>2.02890</td>\n",
              "      <td>133.405</td>\n",
              "      <td>1</td>\n",
              "    </tr>\n",
              "    <tr>\n",
              "      <th>4</th>\n",
              "      <td>2.91890</td>\n",
              "      <td>187.375</td>\n",
              "      <td>1</td>\n",
              "    </tr>\n",
              "    <tr>\n",
              "      <th>...</th>\n",
              "      <td>...</td>\n",
              "      <td>...</td>\n",
              "      <td>...</td>\n",
              "    </tr>\n",
              "    <tr>\n",
              "      <th>1139</th>\n",
              "      <td>1.98820</td>\n",
              "      <td>287.343</td>\n",
              "      <td>8</td>\n",
              "    </tr>\n",
              "    <tr>\n",
              "      <th>1140</th>\n",
              "      <td>3.42130</td>\n",
              "      <td>286.114</td>\n",
              "      <td>2</td>\n",
              "    </tr>\n",
              "    <tr>\n",
              "      <th>1141</th>\n",
              "      <td>3.60960</td>\n",
              "      <td>308.333</td>\n",
              "      <td>4</td>\n",
              "    </tr>\n",
              "    <tr>\n",
              "      <th>1142</th>\n",
              "      <td>2.56214</td>\n",
              "      <td>354.815</td>\n",
              "      <td>3</td>\n",
              "    </tr>\n",
              "    <tr>\n",
              "      <th>1143</th>\n",
              "      <td>2.02164</td>\n",
              "      <td>179.219</td>\n",
              "      <td>1</td>\n",
              "    </tr>\n",
              "  </tbody>\n",
              "</table>\n",
              "<p>1144 rows × 3 columns</p>\n",
              "</div>\n",
              "      <button class=\"colab-df-convert\" onclick=\"convertToInteractive('df-a769d988-4d50-4760-8cc7-56259628e4b0')\"\n",
              "              title=\"Convert this dataframe to an interactive table.\"\n",
              "              style=\"display:none;\">\n",
              "        \n",
              "  <svg xmlns=\"http://www.w3.org/2000/svg\" height=\"24px\"viewBox=\"0 0 24 24\"\n",
              "       width=\"24px\">\n",
              "    <path d=\"M0 0h24v24H0V0z\" fill=\"none\"/>\n",
              "    <path d=\"M18.56 5.44l.94 2.06.94-2.06 2.06-.94-2.06-.94-.94-2.06-.94 2.06-2.06.94zm-11 1L8.5 8.5l.94-2.06 2.06-.94-2.06-.94L8.5 2.5l-.94 2.06-2.06.94zm10 10l.94 2.06.94-2.06 2.06-.94-2.06-.94-.94-2.06-.94 2.06-2.06.94z\"/><path d=\"M17.41 7.96l-1.37-1.37c-.4-.4-.92-.59-1.43-.59-.52 0-1.04.2-1.43.59L10.3 9.45l-7.72 7.72c-.78.78-.78 2.05 0 2.83L4 21.41c.39.39.9.59 1.41.59.51 0 1.02-.2 1.41-.59l7.78-7.78 2.81-2.81c.8-.78.8-2.07 0-2.86zM5.41 20L4 18.59l7.72-7.72 1.47 1.35L5.41 20z\"/>\n",
              "  </svg>\n",
              "      </button>\n",
              "      \n",
              "  <style>\n",
              "    .colab-df-container {\n",
              "      display:flex;\n",
              "      flex-wrap:wrap;\n",
              "      gap: 12px;\n",
              "    }\n",
              "\n",
              "    .colab-df-convert {\n",
              "      background-color: #E8F0FE;\n",
              "      border: none;\n",
              "      border-radius: 50%;\n",
              "      cursor: pointer;\n",
              "      display: none;\n",
              "      fill: #1967D2;\n",
              "      height: 32px;\n",
              "      padding: 0 0 0 0;\n",
              "      width: 32px;\n",
              "    }\n",
              "\n",
              "    .colab-df-convert:hover {\n",
              "      background-color: #E2EBFA;\n",
              "      box-shadow: 0px 1px 2px rgba(60, 64, 67, 0.3), 0px 1px 3px 1px rgba(60, 64, 67, 0.15);\n",
              "      fill: #174EA6;\n",
              "    }\n",
              "\n",
              "    [theme=dark] .colab-df-convert {\n",
              "      background-color: #3B4455;\n",
              "      fill: #D2E3FC;\n",
              "    }\n",
              "\n",
              "    [theme=dark] .colab-df-convert:hover {\n",
              "      background-color: #434B5C;\n",
              "      box-shadow: 0px 1px 3px 1px rgba(0, 0, 0, 0.15);\n",
              "      filter: drop-shadow(0px 1px 2px rgba(0, 0, 0, 0.3));\n",
              "      fill: #FFFFFF;\n",
              "    }\n",
              "  </style>\n",
              "\n",
              "      <script>\n",
              "        const buttonEl =\n",
              "          document.querySelector('#df-a769d988-4d50-4760-8cc7-56259628e4b0 button.colab-df-convert');\n",
              "        buttonEl.style.display =\n",
              "          google.colab.kernel.accessAllowed ? 'block' : 'none';\n",
              "\n",
              "        async function convertToInteractive(key) {\n",
              "          const element = document.querySelector('#df-a769d988-4d50-4760-8cc7-56259628e4b0');\n",
              "          const dataTable =\n",
              "            await google.colab.kernel.invokeFunction('convertToInteractive',\n",
              "                                                     [key], {});\n",
              "          if (!dataTable) return;\n",
              "\n",
              "          const docLinkHtml = 'Like what you see? Visit the ' +\n",
              "            '<a target=\"_blank\" href=https://colab.research.google.com/notebooks/data_table.ipynb>data table notebook</a>'\n",
              "            + ' to learn more about interactive tables.';\n",
              "          element.innerHTML = '';\n",
              "          dataTable['output_type'] = 'display_data';\n",
              "          await google.colab.output.renderOutput(dataTable, element);\n",
              "          const docLink = document.createElement('div');\n",
              "          docLink.innerHTML = docLinkHtml;\n",
              "          element.appendChild(docLink);\n",
              "        }\n",
              "      </script>\n",
              "    </div>\n",
              "  </div>\n",
              "  "
            ]
          },
          "metadata": {},
          "execution_count": 37
        }
      ],
      "source": [
        "descriptors"
      ]
    },
    {
      "cell_type": "code",
      "execution_count": 38,
      "metadata": {
        "id": "OKBsh_OiFXpW",
        "colab": {
          "base_uri": "https://localhost:8080/",
          "height": 423
        },
        "outputId": "31df47ef-3c27-496f-eb0a-9d42288bf6d6"
      },
      "outputs": [
        {
          "output_type": "execute_result",
          "data": {
            "text/plain": [
              "      AromaticProportion\n",
              "0               0.000000\n",
              "1               0.000000\n",
              "2               0.000000\n",
              "3               0.000000\n",
              "4               0.000000\n",
              "...                  ...\n",
              "1139            0.000000\n",
              "1140            0.333333\n",
              "1141            0.695652\n",
              "1142            0.521739\n",
              "1143            0.461538\n",
              "\n",
              "[1144 rows x 1 columns]"
            ],
            "text/html": [
              "\n",
              "  <div id=\"df-4ef33d30-cff4-47ae-bdcf-c9bf01d0516f\">\n",
              "    <div class=\"colab-df-container\">\n",
              "      <div>\n",
              "<style scoped>\n",
              "    .dataframe tbody tr th:only-of-type {\n",
              "        vertical-align: middle;\n",
              "    }\n",
              "\n",
              "    .dataframe tbody tr th {\n",
              "        vertical-align: top;\n",
              "    }\n",
              "\n",
              "    .dataframe thead th {\n",
              "        text-align: right;\n",
              "    }\n",
              "</style>\n",
              "<table border=\"1\" class=\"dataframe\">\n",
              "  <thead>\n",
              "    <tr style=\"text-align: right;\">\n",
              "      <th></th>\n",
              "      <th>AromaticProportion</th>\n",
              "    </tr>\n",
              "  </thead>\n",
              "  <tbody>\n",
              "    <tr>\n",
              "      <th>0</th>\n",
              "      <td>0.000000</td>\n",
              "    </tr>\n",
              "    <tr>\n",
              "      <th>1</th>\n",
              "      <td>0.000000</td>\n",
              "    </tr>\n",
              "    <tr>\n",
              "      <th>2</th>\n",
              "      <td>0.000000</td>\n",
              "    </tr>\n",
              "    <tr>\n",
              "      <th>3</th>\n",
              "      <td>0.000000</td>\n",
              "    </tr>\n",
              "    <tr>\n",
              "      <th>4</th>\n",
              "      <td>0.000000</td>\n",
              "    </tr>\n",
              "    <tr>\n",
              "      <th>...</th>\n",
              "      <td>...</td>\n",
              "    </tr>\n",
              "    <tr>\n",
              "      <th>1139</th>\n",
              "      <td>0.000000</td>\n",
              "    </tr>\n",
              "    <tr>\n",
              "      <th>1140</th>\n",
              "      <td>0.333333</td>\n",
              "    </tr>\n",
              "    <tr>\n",
              "      <th>1141</th>\n",
              "      <td>0.695652</td>\n",
              "    </tr>\n",
              "    <tr>\n",
              "      <th>1142</th>\n",
              "      <td>0.521739</td>\n",
              "    </tr>\n",
              "    <tr>\n",
              "      <th>1143</th>\n",
              "      <td>0.461538</td>\n",
              "    </tr>\n",
              "  </tbody>\n",
              "</table>\n",
              "<p>1144 rows × 1 columns</p>\n",
              "</div>\n",
              "      <button class=\"colab-df-convert\" onclick=\"convertToInteractive('df-4ef33d30-cff4-47ae-bdcf-c9bf01d0516f')\"\n",
              "              title=\"Convert this dataframe to an interactive table.\"\n",
              "              style=\"display:none;\">\n",
              "        \n",
              "  <svg xmlns=\"http://www.w3.org/2000/svg\" height=\"24px\"viewBox=\"0 0 24 24\"\n",
              "       width=\"24px\">\n",
              "    <path d=\"M0 0h24v24H0V0z\" fill=\"none\"/>\n",
              "    <path d=\"M18.56 5.44l.94 2.06.94-2.06 2.06-.94-2.06-.94-.94-2.06-.94 2.06-2.06.94zm-11 1L8.5 8.5l.94-2.06 2.06-.94-2.06-.94L8.5 2.5l-.94 2.06-2.06.94zm10 10l.94 2.06.94-2.06 2.06-.94-2.06-.94-.94-2.06-.94 2.06-2.06.94z\"/><path d=\"M17.41 7.96l-1.37-1.37c-.4-.4-.92-.59-1.43-.59-.52 0-1.04.2-1.43.59L10.3 9.45l-7.72 7.72c-.78.78-.78 2.05 0 2.83L4 21.41c.39.39.9.59 1.41.59.51 0 1.02-.2 1.41-.59l7.78-7.78 2.81-2.81c.8-.78.8-2.07 0-2.86zM5.41 20L4 18.59l7.72-7.72 1.47 1.35L5.41 20z\"/>\n",
              "  </svg>\n",
              "      </button>\n",
              "      \n",
              "  <style>\n",
              "    .colab-df-container {\n",
              "      display:flex;\n",
              "      flex-wrap:wrap;\n",
              "      gap: 12px;\n",
              "    }\n",
              "\n",
              "    .colab-df-convert {\n",
              "      background-color: #E8F0FE;\n",
              "      border: none;\n",
              "      border-radius: 50%;\n",
              "      cursor: pointer;\n",
              "      display: none;\n",
              "      fill: #1967D2;\n",
              "      height: 32px;\n",
              "      padding: 0 0 0 0;\n",
              "      width: 32px;\n",
              "    }\n",
              "\n",
              "    .colab-df-convert:hover {\n",
              "      background-color: #E2EBFA;\n",
              "      box-shadow: 0px 1px 2px rgba(60, 64, 67, 0.3), 0px 1px 3px 1px rgba(60, 64, 67, 0.15);\n",
              "      fill: #174EA6;\n",
              "    }\n",
              "\n",
              "    [theme=dark] .colab-df-convert {\n",
              "      background-color: #3B4455;\n",
              "      fill: #D2E3FC;\n",
              "    }\n",
              "\n",
              "    [theme=dark] .colab-df-convert:hover {\n",
              "      background-color: #434B5C;\n",
              "      box-shadow: 0px 1px 3px 1px rgba(0, 0, 0, 0.15);\n",
              "      filter: drop-shadow(0px 1px 2px rgba(0, 0, 0, 0.3));\n",
              "      fill: #FFFFFF;\n",
              "    }\n",
              "  </style>\n",
              "\n",
              "      <script>\n",
              "        const buttonEl =\n",
              "          document.querySelector('#df-4ef33d30-cff4-47ae-bdcf-c9bf01d0516f button.colab-df-convert');\n",
              "        buttonEl.style.display =\n",
              "          google.colab.kernel.accessAllowed ? 'block' : 'none';\n",
              "\n",
              "        async function convertToInteractive(key) {\n",
              "          const element = document.querySelector('#df-4ef33d30-cff4-47ae-bdcf-c9bf01d0516f');\n",
              "          const dataTable =\n",
              "            await google.colab.kernel.invokeFunction('convertToInteractive',\n",
              "                                                     [key], {});\n",
              "          if (!dataTable) return;\n",
              "\n",
              "          const docLinkHtml = 'Like what you see? Visit the ' +\n",
              "            '<a target=\"_blank\" href=https://colab.research.google.com/notebooks/data_table.ipynb>data table notebook</a>'\n",
              "            + ' to learn more about interactive tables.';\n",
              "          element.innerHTML = '';\n",
              "          dataTable['output_type'] = 'display_data';\n",
              "          await google.colab.output.renderOutput(dataTable, element);\n",
              "          const docLink = document.createElement('div');\n",
              "          docLink.innerHTML = docLinkHtml;\n",
              "          element.appendChild(docLink);\n",
              "        }\n",
              "      </script>\n",
              "    </div>\n",
              "  </div>\n",
              "  "
            ]
          },
          "metadata": {},
          "execution_count": 38
        }
      ],
      "source": [
        "df_AromaticProportion"
      ]
    },
    {
      "cell_type": "code",
      "execution_count": 39,
      "metadata": {
        "id": "4S3StlONFgUk"
      },
      "outputs": [],
      "source": [
        "X = pd.concat([descriptors,df_AromaticProportion], axis=1)"
      ]
    },
    {
      "cell_type": "code",
      "execution_count": 40,
      "metadata": {
        "id": "2WO6Ui_sFzNz",
        "colab": {
          "base_uri": "https://localhost:8080/",
          "height": 423
        },
        "outputId": "98e0c14f-330d-41f6-ab72-75c9ab698e9e"
      },
      "outputs": [
        {
          "output_type": "execute_result",
          "data": {
            "text/plain": [
              "      MolLogP    MolWt  RotatableBonds  AromaticProportion\n",
              "0     2.59540  167.850               0            0.000000\n",
              "1     2.37650  133.405               0            0.000000\n",
              "2     2.59380  167.850               1            0.000000\n",
              "3     2.02890  133.405               1            0.000000\n",
              "4     2.91890  187.375               1            0.000000\n",
              "...       ...      ...             ...                 ...\n",
              "1139  1.98820  287.343               8            0.000000\n",
              "1140  3.42130  286.114               2            0.333333\n",
              "1141  3.60960  308.333               4            0.695652\n",
              "1142  2.56214  354.815               3            0.521739\n",
              "1143  2.02164  179.219               1            0.461538\n",
              "\n",
              "[1144 rows x 4 columns]"
            ],
            "text/html": [
              "\n",
              "  <div id=\"df-4f728a29-6e15-462f-9543-43ce2be06729\">\n",
              "    <div class=\"colab-df-container\">\n",
              "      <div>\n",
              "<style scoped>\n",
              "    .dataframe tbody tr th:only-of-type {\n",
              "        vertical-align: middle;\n",
              "    }\n",
              "\n",
              "    .dataframe tbody tr th {\n",
              "        vertical-align: top;\n",
              "    }\n",
              "\n",
              "    .dataframe thead th {\n",
              "        text-align: right;\n",
              "    }\n",
              "</style>\n",
              "<table border=\"1\" class=\"dataframe\">\n",
              "  <thead>\n",
              "    <tr style=\"text-align: right;\">\n",
              "      <th></th>\n",
              "      <th>MolLogP</th>\n",
              "      <th>MolWt</th>\n",
              "      <th>RotatableBonds</th>\n",
              "      <th>AromaticProportion</th>\n",
              "    </tr>\n",
              "  </thead>\n",
              "  <tbody>\n",
              "    <tr>\n",
              "      <th>0</th>\n",
              "      <td>2.59540</td>\n",
              "      <td>167.850</td>\n",
              "      <td>0</td>\n",
              "      <td>0.000000</td>\n",
              "    </tr>\n",
              "    <tr>\n",
              "      <th>1</th>\n",
              "      <td>2.37650</td>\n",
              "      <td>133.405</td>\n",
              "      <td>0</td>\n",
              "      <td>0.000000</td>\n",
              "    </tr>\n",
              "    <tr>\n",
              "      <th>2</th>\n",
              "      <td>2.59380</td>\n",
              "      <td>167.850</td>\n",
              "      <td>1</td>\n",
              "      <td>0.000000</td>\n",
              "    </tr>\n",
              "    <tr>\n",
              "      <th>3</th>\n",
              "      <td>2.02890</td>\n",
              "      <td>133.405</td>\n",
              "      <td>1</td>\n",
              "      <td>0.000000</td>\n",
              "    </tr>\n",
              "    <tr>\n",
              "      <th>4</th>\n",
              "      <td>2.91890</td>\n",
              "      <td>187.375</td>\n",
              "      <td>1</td>\n",
              "      <td>0.000000</td>\n",
              "    </tr>\n",
              "    <tr>\n",
              "      <th>...</th>\n",
              "      <td>...</td>\n",
              "      <td>...</td>\n",
              "      <td>...</td>\n",
              "      <td>...</td>\n",
              "    </tr>\n",
              "    <tr>\n",
              "      <th>1139</th>\n",
              "      <td>1.98820</td>\n",
              "      <td>287.343</td>\n",
              "      <td>8</td>\n",
              "      <td>0.000000</td>\n",
              "    </tr>\n",
              "    <tr>\n",
              "      <th>1140</th>\n",
              "      <td>3.42130</td>\n",
              "      <td>286.114</td>\n",
              "      <td>2</td>\n",
              "      <td>0.333333</td>\n",
              "    </tr>\n",
              "    <tr>\n",
              "      <th>1141</th>\n",
              "      <td>3.60960</td>\n",
              "      <td>308.333</td>\n",
              "      <td>4</td>\n",
              "      <td>0.695652</td>\n",
              "    </tr>\n",
              "    <tr>\n",
              "      <th>1142</th>\n",
              "      <td>2.56214</td>\n",
              "      <td>354.815</td>\n",
              "      <td>3</td>\n",
              "      <td>0.521739</td>\n",
              "    </tr>\n",
              "    <tr>\n",
              "      <th>1143</th>\n",
              "      <td>2.02164</td>\n",
              "      <td>179.219</td>\n",
              "      <td>1</td>\n",
              "      <td>0.461538</td>\n",
              "    </tr>\n",
              "  </tbody>\n",
              "</table>\n",
              "<p>1144 rows × 4 columns</p>\n",
              "</div>\n",
              "      <button class=\"colab-df-convert\" onclick=\"convertToInteractive('df-4f728a29-6e15-462f-9543-43ce2be06729')\"\n",
              "              title=\"Convert this dataframe to an interactive table.\"\n",
              "              style=\"display:none;\">\n",
              "        \n",
              "  <svg xmlns=\"http://www.w3.org/2000/svg\" height=\"24px\"viewBox=\"0 0 24 24\"\n",
              "       width=\"24px\">\n",
              "    <path d=\"M0 0h24v24H0V0z\" fill=\"none\"/>\n",
              "    <path d=\"M18.56 5.44l.94 2.06.94-2.06 2.06-.94-2.06-.94-.94-2.06-.94 2.06-2.06.94zm-11 1L8.5 8.5l.94-2.06 2.06-.94-2.06-.94L8.5 2.5l-.94 2.06-2.06.94zm10 10l.94 2.06.94-2.06 2.06-.94-2.06-.94-.94-2.06-.94 2.06-2.06.94z\"/><path d=\"M17.41 7.96l-1.37-1.37c-.4-.4-.92-.59-1.43-.59-.52 0-1.04.2-1.43.59L10.3 9.45l-7.72 7.72c-.78.78-.78 2.05 0 2.83L4 21.41c.39.39.9.59 1.41.59.51 0 1.02-.2 1.41-.59l7.78-7.78 2.81-2.81c.8-.78.8-2.07 0-2.86zM5.41 20L4 18.59l7.72-7.72 1.47 1.35L5.41 20z\"/>\n",
              "  </svg>\n",
              "      </button>\n",
              "      \n",
              "  <style>\n",
              "    .colab-df-container {\n",
              "      display:flex;\n",
              "      flex-wrap:wrap;\n",
              "      gap: 12px;\n",
              "    }\n",
              "\n",
              "    .colab-df-convert {\n",
              "      background-color: #E8F0FE;\n",
              "      border: none;\n",
              "      border-radius: 50%;\n",
              "      cursor: pointer;\n",
              "      display: none;\n",
              "      fill: #1967D2;\n",
              "      height: 32px;\n",
              "      padding: 0 0 0 0;\n",
              "      width: 32px;\n",
              "    }\n",
              "\n",
              "    .colab-df-convert:hover {\n",
              "      background-color: #E2EBFA;\n",
              "      box-shadow: 0px 1px 2px rgba(60, 64, 67, 0.3), 0px 1px 3px 1px rgba(60, 64, 67, 0.15);\n",
              "      fill: #174EA6;\n",
              "    }\n",
              "\n",
              "    [theme=dark] .colab-df-convert {\n",
              "      background-color: #3B4455;\n",
              "      fill: #D2E3FC;\n",
              "    }\n",
              "\n",
              "    [theme=dark] .colab-df-convert:hover {\n",
              "      background-color: #434B5C;\n",
              "      box-shadow: 0px 1px 3px 1px rgba(0, 0, 0, 0.15);\n",
              "      filter: drop-shadow(0px 1px 2px rgba(0, 0, 0, 0.3));\n",
              "      fill: #FFFFFF;\n",
              "    }\n",
              "  </style>\n",
              "\n",
              "      <script>\n",
              "        const buttonEl =\n",
              "          document.querySelector('#df-4f728a29-6e15-462f-9543-43ce2be06729 button.colab-df-convert');\n",
              "        buttonEl.style.display =\n",
              "          google.colab.kernel.accessAllowed ? 'block' : 'none';\n",
              "\n",
              "        async function convertToInteractive(key) {\n",
              "          const element = document.querySelector('#df-4f728a29-6e15-462f-9543-43ce2be06729');\n",
              "          const dataTable =\n",
              "            await google.colab.kernel.invokeFunction('convertToInteractive',\n",
              "                                                     [key], {});\n",
              "          if (!dataTable) return;\n",
              "\n",
              "          const docLinkHtml = 'Like what you see? Visit the ' +\n",
              "            '<a target=\"_blank\" href=https://colab.research.google.com/notebooks/data_table.ipynb>data table notebook</a>'\n",
              "            + ' to learn more about interactive tables.';\n",
              "          element.innerHTML = '';\n",
              "          dataTable['output_type'] = 'display_data';\n",
              "          await google.colab.output.renderOutput(dataTable, element);\n",
              "          const docLink = document.createElement('div');\n",
              "          docLink.innerHTML = docLinkHtml;\n",
              "          element.appendChild(docLink);\n",
              "        }\n",
              "      </script>\n",
              "    </div>\n",
              "  </div>\n",
              "  "
            ]
          },
          "metadata": {},
          "execution_count": 40
        }
      ],
      "source": [
        "X"
      ]
    },
    {
      "cell_type": "markdown",
      "metadata": {
        "id": "ajBCOGDjGu2C"
      },
      "source": [
        "##**Solubility Data (Y Matrix)**"
      ]
    },
    {
      "cell_type": "code",
      "execution_count": 41,
      "metadata": {
        "id": "btCfMKa5F6OM",
        "colab": {
          "base_uri": "https://localhost:8080/",
          "height": 206
        },
        "outputId": "118400b3-f41c-4165-b459-15c358daa458"
      },
      "outputs": [
        {
          "output_type": "execute_result",
          "data": {
            "text/plain": [
              "                      Compound ID  measured log(solubility:mol/L)  \\\n",
              "0       1,1,1,2-Tetrachloroethane                           -2.18   \n",
              "1           1,1,1-Trichloroethane                           -2.00   \n",
              "2       1,1,2,2-Tetrachloroethane                           -1.74   \n",
              "3           1,1,2-Trichloroethane                           -1.48   \n",
              "4  1,1,2-Trichlorotrifluoroethane                           -3.04   \n",
              "\n",
              "   ESOL predicted log(solubility:mol/L)               SMILES  \n",
              "0                                -2.794       ClCC(Cl)(Cl)Cl  \n",
              "1                                -2.232         CC(Cl)(Cl)Cl  \n",
              "2                                -2.549       ClC(Cl)C(Cl)Cl  \n",
              "3                                -1.961           ClCC(Cl)Cl  \n",
              "4                                -3.077  FC(F)(Cl)C(F)(Cl)Cl  "
            ],
            "text/html": [
              "\n",
              "  <div id=\"df-1357ac24-3e97-4966-968d-ab045c80c0df\">\n",
              "    <div class=\"colab-df-container\">\n",
              "      <div>\n",
              "<style scoped>\n",
              "    .dataframe tbody tr th:only-of-type {\n",
              "        vertical-align: middle;\n",
              "    }\n",
              "\n",
              "    .dataframe tbody tr th {\n",
              "        vertical-align: top;\n",
              "    }\n",
              "\n",
              "    .dataframe thead th {\n",
              "        text-align: right;\n",
              "    }\n",
              "</style>\n",
              "<table border=\"1\" class=\"dataframe\">\n",
              "  <thead>\n",
              "    <tr style=\"text-align: right;\">\n",
              "      <th></th>\n",
              "      <th>Compound ID</th>\n",
              "      <th>measured log(solubility:mol/L)</th>\n",
              "      <th>ESOL predicted log(solubility:mol/L)</th>\n",
              "      <th>SMILES</th>\n",
              "    </tr>\n",
              "  </thead>\n",
              "  <tbody>\n",
              "    <tr>\n",
              "      <th>0</th>\n",
              "      <td>1,1,1,2-Tetrachloroethane</td>\n",
              "      <td>-2.18</td>\n",
              "      <td>-2.794</td>\n",
              "      <td>ClCC(Cl)(Cl)Cl</td>\n",
              "    </tr>\n",
              "    <tr>\n",
              "      <th>1</th>\n",
              "      <td>1,1,1-Trichloroethane</td>\n",
              "      <td>-2.00</td>\n",
              "      <td>-2.232</td>\n",
              "      <td>CC(Cl)(Cl)Cl</td>\n",
              "    </tr>\n",
              "    <tr>\n",
              "      <th>2</th>\n",
              "      <td>1,1,2,2-Tetrachloroethane</td>\n",
              "      <td>-1.74</td>\n",
              "      <td>-2.549</td>\n",
              "      <td>ClC(Cl)C(Cl)Cl</td>\n",
              "    </tr>\n",
              "    <tr>\n",
              "      <th>3</th>\n",
              "      <td>1,1,2-Trichloroethane</td>\n",
              "      <td>-1.48</td>\n",
              "      <td>-1.961</td>\n",
              "      <td>ClCC(Cl)Cl</td>\n",
              "    </tr>\n",
              "    <tr>\n",
              "      <th>4</th>\n",
              "      <td>1,1,2-Trichlorotrifluoroethane</td>\n",
              "      <td>-3.04</td>\n",
              "      <td>-3.077</td>\n",
              "      <td>FC(F)(Cl)C(F)(Cl)Cl</td>\n",
              "    </tr>\n",
              "  </tbody>\n",
              "</table>\n",
              "</div>\n",
              "      <button class=\"colab-df-convert\" onclick=\"convertToInteractive('df-1357ac24-3e97-4966-968d-ab045c80c0df')\"\n",
              "              title=\"Convert this dataframe to an interactive table.\"\n",
              "              style=\"display:none;\">\n",
              "        \n",
              "  <svg xmlns=\"http://www.w3.org/2000/svg\" height=\"24px\"viewBox=\"0 0 24 24\"\n",
              "       width=\"24px\">\n",
              "    <path d=\"M0 0h24v24H0V0z\" fill=\"none\"/>\n",
              "    <path d=\"M18.56 5.44l.94 2.06.94-2.06 2.06-.94-2.06-.94-.94-2.06-.94 2.06-2.06.94zm-11 1L8.5 8.5l.94-2.06 2.06-.94-2.06-.94L8.5 2.5l-.94 2.06-2.06.94zm10 10l.94 2.06.94-2.06 2.06-.94-2.06-.94-.94-2.06-.94 2.06-2.06.94z\"/><path d=\"M17.41 7.96l-1.37-1.37c-.4-.4-.92-.59-1.43-.59-.52 0-1.04.2-1.43.59L10.3 9.45l-7.72 7.72c-.78.78-.78 2.05 0 2.83L4 21.41c.39.39.9.59 1.41.59.51 0 1.02-.2 1.41-.59l7.78-7.78 2.81-2.81c.8-.78.8-2.07 0-2.86zM5.41 20L4 18.59l7.72-7.72 1.47 1.35L5.41 20z\"/>\n",
              "  </svg>\n",
              "      </button>\n",
              "      \n",
              "  <style>\n",
              "    .colab-df-container {\n",
              "      display:flex;\n",
              "      flex-wrap:wrap;\n",
              "      gap: 12px;\n",
              "    }\n",
              "\n",
              "    .colab-df-convert {\n",
              "      background-color: #E8F0FE;\n",
              "      border: none;\n",
              "      border-radius: 50%;\n",
              "      cursor: pointer;\n",
              "      display: none;\n",
              "      fill: #1967D2;\n",
              "      height: 32px;\n",
              "      padding: 0 0 0 0;\n",
              "      width: 32px;\n",
              "    }\n",
              "\n",
              "    .colab-df-convert:hover {\n",
              "      background-color: #E2EBFA;\n",
              "      box-shadow: 0px 1px 2px rgba(60, 64, 67, 0.3), 0px 1px 3px 1px rgba(60, 64, 67, 0.15);\n",
              "      fill: #174EA6;\n",
              "    }\n",
              "\n",
              "    [theme=dark] .colab-df-convert {\n",
              "      background-color: #3B4455;\n",
              "      fill: #D2E3FC;\n",
              "    }\n",
              "\n",
              "    [theme=dark] .colab-df-convert:hover {\n",
              "      background-color: #434B5C;\n",
              "      box-shadow: 0px 1px 3px 1px rgba(0, 0, 0, 0.15);\n",
              "      filter: drop-shadow(0px 1px 2px rgba(0, 0, 0, 0.3));\n",
              "      fill: #FFFFFF;\n",
              "    }\n",
              "  </style>\n",
              "\n",
              "      <script>\n",
              "        const buttonEl =\n",
              "          document.querySelector('#df-1357ac24-3e97-4966-968d-ab045c80c0df button.colab-df-convert');\n",
              "        buttonEl.style.display =\n",
              "          google.colab.kernel.accessAllowed ? 'block' : 'none';\n",
              "\n",
              "        async function convertToInteractive(key) {\n",
              "          const element = document.querySelector('#df-1357ac24-3e97-4966-968d-ab045c80c0df');\n",
              "          const dataTable =\n",
              "            await google.colab.kernel.invokeFunction('convertToInteractive',\n",
              "                                                     [key], {});\n",
              "          if (!dataTable) return;\n",
              "\n",
              "          const docLinkHtml = 'Like what you see? Visit the ' +\n",
              "            '<a target=\"_blank\" href=https://colab.research.google.com/notebooks/data_table.ipynb>data table notebook</a>'\n",
              "            + ' to learn more about interactive tables.';\n",
              "          element.innerHTML = '';\n",
              "          dataTable['output_type'] = 'display_data';\n",
              "          await google.colab.output.renderOutput(dataTable, element);\n",
              "          const docLink = document.createElement('div');\n",
              "          docLink.innerHTML = docLinkHtml;\n",
              "          element.appendChild(docLink);\n",
              "        }\n",
              "      </script>\n",
              "    </div>\n",
              "  </div>\n",
              "  "
            ]
          },
          "metadata": {},
          "execution_count": 41
        }
      ],
      "source": [
        "df.head()"
      ]
    },
    {
      "cell_type": "markdown",
      "metadata": {
        "id": "UqjUycxqHLWu"
      },
      "source": [
        "The second column, ie, the measured solubility data is taken as the feature\n"
      ]
    },
    {
      "cell_type": "code",
      "execution_count": 42,
      "metadata": {
        "id": "1DprTvXYHAlS"
      },
      "outputs": [],
      "source": [
        "Y = df.iloc[:,1]"
      ]
    },
    {
      "cell_type": "code",
      "execution_count": 43,
      "metadata": {
        "id": "m3m_6PjcGGXy",
        "colab": {
          "base_uri": "https://localhost:8080/"
        },
        "outputId": "81682947-78f6-48a1-a7f0-5f903eac5ddc"
      },
      "outputs": [
        {
          "output_type": "execute_result",
          "data": {
            "text/plain": [
              "0   -2.18\n",
              "1   -2.00\n",
              "2   -1.74\n",
              "3   -1.48\n",
              "4   -3.04\n",
              "Name: measured log(solubility:mol/L), dtype: float64"
            ]
          },
          "metadata": {},
          "execution_count": 43
        }
      ],
      "source": [
        "Y.head()"
      ]
    },
    {
      "cell_type": "markdown",
      "source": [
        "## **Exporting the Dataset containing the features and target vaiable**\n",
        "\n"
      ],
      "metadata": {
        "id": "mWIS9XNG4-1Z"
      }
    },
    {
      "cell_type": "code",
      "source": [
        "dataframe = X.join(df[\"measured log(solubility:mol/L)\"])"
      ],
      "metadata": {
        "id": "I0ImfJIe5Z9J"
      },
      "execution_count": 44,
      "outputs": []
    },
    {
      "cell_type": "code",
      "source": [
        "dataframe.rename(columns ={'measured log(solubility:mol/L)': 'LogS(mol/L)'}, inplace=True)\n",
        "dataframe.head(5)"
      ],
      "metadata": {
        "colab": {
          "base_uri": "https://localhost:8080/",
          "height": 206
        },
        "id": "2ICJt8W85ZiW",
        "outputId": "943cce4b-6af6-4d20-f9fc-1cdb373ea357"
      },
      "execution_count": 45,
      "outputs": [
        {
          "output_type": "execute_result",
          "data": {
            "text/plain": [
              "   MolLogP    MolWt  RotatableBonds  AromaticProportion  LogS(mol/L)\n",
              "0   2.5954  167.850               0                 0.0        -2.18\n",
              "1   2.3765  133.405               0                 0.0        -2.00\n",
              "2   2.5938  167.850               1                 0.0        -1.74\n",
              "3   2.0289  133.405               1                 0.0        -1.48\n",
              "4   2.9189  187.375               1                 0.0        -3.04"
            ],
            "text/html": [
              "\n",
              "  <div id=\"df-07b5187a-e009-4c6f-ae9f-5a37d2f68847\">\n",
              "    <div class=\"colab-df-container\">\n",
              "      <div>\n",
              "<style scoped>\n",
              "    .dataframe tbody tr th:only-of-type {\n",
              "        vertical-align: middle;\n",
              "    }\n",
              "\n",
              "    .dataframe tbody tr th {\n",
              "        vertical-align: top;\n",
              "    }\n",
              "\n",
              "    .dataframe thead th {\n",
              "        text-align: right;\n",
              "    }\n",
              "</style>\n",
              "<table border=\"1\" class=\"dataframe\">\n",
              "  <thead>\n",
              "    <tr style=\"text-align: right;\">\n",
              "      <th></th>\n",
              "      <th>MolLogP</th>\n",
              "      <th>MolWt</th>\n",
              "      <th>RotatableBonds</th>\n",
              "      <th>AromaticProportion</th>\n",
              "      <th>LogS(mol/L)</th>\n",
              "    </tr>\n",
              "  </thead>\n",
              "  <tbody>\n",
              "    <tr>\n",
              "      <th>0</th>\n",
              "      <td>2.5954</td>\n",
              "      <td>167.850</td>\n",
              "      <td>0</td>\n",
              "      <td>0.0</td>\n",
              "      <td>-2.18</td>\n",
              "    </tr>\n",
              "    <tr>\n",
              "      <th>1</th>\n",
              "      <td>2.3765</td>\n",
              "      <td>133.405</td>\n",
              "      <td>0</td>\n",
              "      <td>0.0</td>\n",
              "      <td>-2.00</td>\n",
              "    </tr>\n",
              "    <tr>\n",
              "      <th>2</th>\n",
              "      <td>2.5938</td>\n",
              "      <td>167.850</td>\n",
              "      <td>1</td>\n",
              "      <td>0.0</td>\n",
              "      <td>-1.74</td>\n",
              "    </tr>\n",
              "    <tr>\n",
              "      <th>3</th>\n",
              "      <td>2.0289</td>\n",
              "      <td>133.405</td>\n",
              "      <td>1</td>\n",
              "      <td>0.0</td>\n",
              "      <td>-1.48</td>\n",
              "    </tr>\n",
              "    <tr>\n",
              "      <th>4</th>\n",
              "      <td>2.9189</td>\n",
              "      <td>187.375</td>\n",
              "      <td>1</td>\n",
              "      <td>0.0</td>\n",
              "      <td>-3.04</td>\n",
              "    </tr>\n",
              "  </tbody>\n",
              "</table>\n",
              "</div>\n",
              "      <button class=\"colab-df-convert\" onclick=\"convertToInteractive('df-07b5187a-e009-4c6f-ae9f-5a37d2f68847')\"\n",
              "              title=\"Convert this dataframe to an interactive table.\"\n",
              "              style=\"display:none;\">\n",
              "        \n",
              "  <svg xmlns=\"http://www.w3.org/2000/svg\" height=\"24px\"viewBox=\"0 0 24 24\"\n",
              "       width=\"24px\">\n",
              "    <path d=\"M0 0h24v24H0V0z\" fill=\"none\"/>\n",
              "    <path d=\"M18.56 5.44l.94 2.06.94-2.06 2.06-.94-2.06-.94-.94-2.06-.94 2.06-2.06.94zm-11 1L8.5 8.5l.94-2.06 2.06-.94-2.06-.94L8.5 2.5l-.94 2.06-2.06.94zm10 10l.94 2.06.94-2.06 2.06-.94-2.06-.94-.94-2.06-.94 2.06-2.06.94z\"/><path d=\"M17.41 7.96l-1.37-1.37c-.4-.4-.92-.59-1.43-.59-.52 0-1.04.2-1.43.59L10.3 9.45l-7.72 7.72c-.78.78-.78 2.05 0 2.83L4 21.41c.39.39.9.59 1.41.59.51 0 1.02-.2 1.41-.59l7.78-7.78 2.81-2.81c.8-.78.8-2.07 0-2.86zM5.41 20L4 18.59l7.72-7.72 1.47 1.35L5.41 20z\"/>\n",
              "  </svg>\n",
              "      </button>\n",
              "      \n",
              "  <style>\n",
              "    .colab-df-container {\n",
              "      display:flex;\n",
              "      flex-wrap:wrap;\n",
              "      gap: 12px;\n",
              "    }\n",
              "\n",
              "    .colab-df-convert {\n",
              "      background-color: #E8F0FE;\n",
              "      border: none;\n",
              "      border-radius: 50%;\n",
              "      cursor: pointer;\n",
              "      display: none;\n",
              "      fill: #1967D2;\n",
              "      height: 32px;\n",
              "      padding: 0 0 0 0;\n",
              "      width: 32px;\n",
              "    }\n",
              "\n",
              "    .colab-df-convert:hover {\n",
              "      background-color: #E2EBFA;\n",
              "      box-shadow: 0px 1px 2px rgba(60, 64, 67, 0.3), 0px 1px 3px 1px rgba(60, 64, 67, 0.15);\n",
              "      fill: #174EA6;\n",
              "    }\n",
              "\n",
              "    [theme=dark] .colab-df-convert {\n",
              "      background-color: #3B4455;\n",
              "      fill: #D2E3FC;\n",
              "    }\n",
              "\n",
              "    [theme=dark] .colab-df-convert:hover {\n",
              "      background-color: #434B5C;\n",
              "      box-shadow: 0px 1px 3px 1px rgba(0, 0, 0, 0.15);\n",
              "      filter: drop-shadow(0px 1px 2px rgba(0, 0, 0, 0.3));\n",
              "      fill: #FFFFFF;\n",
              "    }\n",
              "  </style>\n",
              "\n",
              "      <script>\n",
              "        const buttonEl =\n",
              "          document.querySelector('#df-07b5187a-e009-4c6f-ae9f-5a37d2f68847 button.colab-df-convert');\n",
              "        buttonEl.style.display =\n",
              "          google.colab.kernel.accessAllowed ? 'block' : 'none';\n",
              "\n",
              "        async function convertToInteractive(key) {\n",
              "          const element = document.querySelector('#df-07b5187a-e009-4c6f-ae9f-5a37d2f68847');\n",
              "          const dataTable =\n",
              "            await google.colab.kernel.invokeFunction('convertToInteractive',\n",
              "                                                     [key], {});\n",
              "          if (!dataTable) return;\n",
              "\n",
              "          const docLinkHtml = 'Like what you see? Visit the ' +\n",
              "            '<a target=\"_blank\" href=https://colab.research.google.com/notebooks/data_table.ipynb>data table notebook</a>'\n",
              "            + ' to learn more about interactive tables.';\n",
              "          element.innerHTML = '';\n",
              "          dataTable['output_type'] = 'display_data';\n",
              "          await google.colab.output.renderOutput(dataTable, element);\n",
              "          const docLink = document.createElement('div');\n",
              "          docLink.innerHTML = docLinkHtml;\n",
              "          element.appendChild(docLink);\n",
              "        }\n",
              "      </script>\n",
              "    </div>\n",
              "  </div>\n",
              "  "
            ]
          },
          "metadata": {},
          "execution_count": 45
        }
      ]
    },
    {
      "cell_type": "code",
      "source": [
        "dataframe.to_csv(\"ML_ready.csv\", index = False )"
      ],
      "metadata": {
        "id": "if3p2mUq9tNS"
      },
      "execution_count": 46,
      "outputs": []
    },
    {
      "cell_type": "markdown",
      "metadata": {
        "id": "luIUZKdPHatf"
      },
      "source": [
        "##**Splitting data for Training and Testing**"
      ]
    },
    {
      "cell_type": "code",
      "execution_count": 47,
      "metadata": {
        "id": "42fp8e8PHPtO"
      },
      "outputs": [],
      "source": [
        "from sklearn.model_selection import train_test_split"
      ]
    },
    {
      "cell_type": "code",
      "execution_count": 48,
      "metadata": {
        "id": "ahRlXjF7H6SH"
      },
      "outputs": [],
      "source": [
        "X_train, X_test, Y_train, Y_test = train_test_split(X, Y, test_size=0.2,random_state=42)"
      ]
    },
    {
      "cell_type": "code",
      "execution_count": 49,
      "metadata": {
        "id": "4e_79LqxIBin",
        "colab": {
          "base_uri": "https://localhost:8080/",
          "height": 423
        },
        "outputId": "d3f8c92f-1141-4019-99e5-c443f52bffcf"
      },
      "outputs": [
        {
          "output_type": "execute_result",
          "data": {
            "text/plain": [
              "      MolLogP    MolWt  RotatableBonds  AromaticProportion\n",
              "643   3.61260  296.410               0            0.272727\n",
              "722   6.48760  226.448              13            0.000000\n",
              "570   3.15380  284.746               1            0.600000\n",
              "66    0.77880   74.123               2            0.000000\n",
              "1002  1.82140  102.177               3            0.000000\n",
              "...       ...      ...             ...                 ...\n",
              "1044  2.82960  253.305               1            0.631579\n",
              "1095  2.10750  218.322               3            0.000000\n",
              "1130  4.14820  335.282               7            0.260870\n",
              "860   4.25720  275.179               4            0.352941\n",
              "1126  6.25676  368.369               6            0.692308\n",
              "\n",
              "[915 rows x 4 columns]"
            ],
            "text/html": [
              "\n",
              "  <div id=\"df-4ceae30c-efc2-4d86-8bbe-7e128c598b14\">\n",
              "    <div class=\"colab-df-container\">\n",
              "      <div>\n",
              "<style scoped>\n",
              "    .dataframe tbody tr th:only-of-type {\n",
              "        vertical-align: middle;\n",
              "    }\n",
              "\n",
              "    .dataframe tbody tr th {\n",
              "        vertical-align: top;\n",
              "    }\n",
              "\n",
              "    .dataframe thead th {\n",
              "        text-align: right;\n",
              "    }\n",
              "</style>\n",
              "<table border=\"1\" class=\"dataframe\">\n",
              "  <thead>\n",
              "    <tr style=\"text-align: right;\">\n",
              "      <th></th>\n",
              "      <th>MolLogP</th>\n",
              "      <th>MolWt</th>\n",
              "      <th>RotatableBonds</th>\n",
              "      <th>AromaticProportion</th>\n",
              "    </tr>\n",
              "  </thead>\n",
              "  <tbody>\n",
              "    <tr>\n",
              "      <th>643</th>\n",
              "      <td>3.61260</td>\n",
              "      <td>296.410</td>\n",
              "      <td>0</td>\n",
              "      <td>0.272727</td>\n",
              "    </tr>\n",
              "    <tr>\n",
              "      <th>722</th>\n",
              "      <td>6.48760</td>\n",
              "      <td>226.448</td>\n",
              "      <td>13</td>\n",
              "      <td>0.000000</td>\n",
              "    </tr>\n",
              "    <tr>\n",
              "      <th>570</th>\n",
              "      <td>3.15380</td>\n",
              "      <td>284.746</td>\n",
              "      <td>1</td>\n",
              "      <td>0.600000</td>\n",
              "    </tr>\n",
              "    <tr>\n",
              "      <th>66</th>\n",
              "      <td>0.77880</td>\n",
              "      <td>74.123</td>\n",
              "      <td>2</td>\n",
              "      <td>0.000000</td>\n",
              "    </tr>\n",
              "    <tr>\n",
              "      <th>1002</th>\n",
              "      <td>1.82140</td>\n",
              "      <td>102.177</td>\n",
              "      <td>3</td>\n",
              "      <td>0.000000</td>\n",
              "    </tr>\n",
              "    <tr>\n",
              "      <th>...</th>\n",
              "      <td>...</td>\n",
              "      <td>...</td>\n",
              "      <td>...</td>\n",
              "      <td>...</td>\n",
              "    </tr>\n",
              "    <tr>\n",
              "      <th>1044</th>\n",
              "      <td>2.82960</td>\n",
              "      <td>253.305</td>\n",
              "      <td>1</td>\n",
              "      <td>0.631579</td>\n",
              "    </tr>\n",
              "    <tr>\n",
              "      <th>1095</th>\n",
              "      <td>2.10750</td>\n",
              "      <td>218.322</td>\n",
              "      <td>3</td>\n",
              "      <td>0.000000</td>\n",
              "    </tr>\n",
              "    <tr>\n",
              "      <th>1130</th>\n",
              "      <td>4.14820</td>\n",
              "      <td>335.282</td>\n",
              "      <td>7</td>\n",
              "      <td>0.260870</td>\n",
              "    </tr>\n",
              "    <tr>\n",
              "      <th>860</th>\n",
              "      <td>4.25720</td>\n",
              "      <td>275.179</td>\n",
              "      <td>4</td>\n",
              "      <td>0.352941</td>\n",
              "    </tr>\n",
              "    <tr>\n",
              "      <th>1126</th>\n",
              "      <td>6.25676</td>\n",
              "      <td>368.369</td>\n",
              "      <td>6</td>\n",
              "      <td>0.692308</td>\n",
              "    </tr>\n",
              "  </tbody>\n",
              "</table>\n",
              "<p>915 rows × 4 columns</p>\n",
              "</div>\n",
              "      <button class=\"colab-df-convert\" onclick=\"convertToInteractive('df-4ceae30c-efc2-4d86-8bbe-7e128c598b14')\"\n",
              "              title=\"Convert this dataframe to an interactive table.\"\n",
              "              style=\"display:none;\">\n",
              "        \n",
              "  <svg xmlns=\"http://www.w3.org/2000/svg\" height=\"24px\"viewBox=\"0 0 24 24\"\n",
              "       width=\"24px\">\n",
              "    <path d=\"M0 0h24v24H0V0z\" fill=\"none\"/>\n",
              "    <path d=\"M18.56 5.44l.94 2.06.94-2.06 2.06-.94-2.06-.94-.94-2.06-.94 2.06-2.06.94zm-11 1L8.5 8.5l.94-2.06 2.06-.94-2.06-.94L8.5 2.5l-.94 2.06-2.06.94zm10 10l.94 2.06.94-2.06 2.06-.94-2.06-.94-.94-2.06-.94 2.06-2.06.94z\"/><path d=\"M17.41 7.96l-1.37-1.37c-.4-.4-.92-.59-1.43-.59-.52 0-1.04.2-1.43.59L10.3 9.45l-7.72 7.72c-.78.78-.78 2.05 0 2.83L4 21.41c.39.39.9.59 1.41.59.51 0 1.02-.2 1.41-.59l7.78-7.78 2.81-2.81c.8-.78.8-2.07 0-2.86zM5.41 20L4 18.59l7.72-7.72 1.47 1.35L5.41 20z\"/>\n",
              "  </svg>\n",
              "      </button>\n",
              "      \n",
              "  <style>\n",
              "    .colab-df-container {\n",
              "      display:flex;\n",
              "      flex-wrap:wrap;\n",
              "      gap: 12px;\n",
              "    }\n",
              "\n",
              "    .colab-df-convert {\n",
              "      background-color: #E8F0FE;\n",
              "      border: none;\n",
              "      border-radius: 50%;\n",
              "      cursor: pointer;\n",
              "      display: none;\n",
              "      fill: #1967D2;\n",
              "      height: 32px;\n",
              "      padding: 0 0 0 0;\n",
              "      width: 32px;\n",
              "    }\n",
              "\n",
              "    .colab-df-convert:hover {\n",
              "      background-color: #E2EBFA;\n",
              "      box-shadow: 0px 1px 2px rgba(60, 64, 67, 0.3), 0px 1px 3px 1px rgba(60, 64, 67, 0.15);\n",
              "      fill: #174EA6;\n",
              "    }\n",
              "\n",
              "    [theme=dark] .colab-df-convert {\n",
              "      background-color: #3B4455;\n",
              "      fill: #D2E3FC;\n",
              "    }\n",
              "\n",
              "    [theme=dark] .colab-df-convert:hover {\n",
              "      background-color: #434B5C;\n",
              "      box-shadow: 0px 1px 3px 1px rgba(0, 0, 0, 0.15);\n",
              "      filter: drop-shadow(0px 1px 2px rgba(0, 0, 0, 0.3));\n",
              "      fill: #FFFFFF;\n",
              "    }\n",
              "  </style>\n",
              "\n",
              "      <script>\n",
              "        const buttonEl =\n",
              "          document.querySelector('#df-4ceae30c-efc2-4d86-8bbe-7e128c598b14 button.colab-df-convert');\n",
              "        buttonEl.style.display =\n",
              "          google.colab.kernel.accessAllowed ? 'block' : 'none';\n",
              "\n",
              "        async function convertToInteractive(key) {\n",
              "          const element = document.querySelector('#df-4ceae30c-efc2-4d86-8bbe-7e128c598b14');\n",
              "          const dataTable =\n",
              "            await google.colab.kernel.invokeFunction('convertToInteractive',\n",
              "                                                     [key], {});\n",
              "          if (!dataTable) return;\n",
              "\n",
              "          const docLinkHtml = 'Like what you see? Visit the ' +\n",
              "            '<a target=\"_blank\" href=https://colab.research.google.com/notebooks/data_table.ipynb>data table notebook</a>'\n",
              "            + ' to learn more about interactive tables.';\n",
              "          element.innerHTML = '';\n",
              "          dataTable['output_type'] = 'display_data';\n",
              "          await google.colab.output.renderOutput(dataTable, element);\n",
              "          const docLink = document.createElement('div');\n",
              "          docLink.innerHTML = docLinkHtml;\n",
              "          element.appendChild(docLink);\n",
              "        }\n",
              "      </script>\n",
              "    </div>\n",
              "  </div>\n",
              "  "
            ]
          },
          "metadata": {},
          "execution_count": 49
        }
      ],
      "source": [
        "X_train"
      ]
    },
    {
      "cell_type": "code",
      "execution_count": 50,
      "metadata": {
        "id": "FSH_KwZIIJK7",
        "colab": {
          "base_uri": "https://localhost:8080/"
        },
        "outputId": "8fdd3d14-910e-4c8b-e495-54b866f4c4dd"
      },
      "outputs": [
        {
          "output_type": "execute_result",
          "data": {
            "text/plain": [
              "643    -4.300\n",
              "722    -8.400\n",
              "570    -3.754\n",
              "66      0.000\n",
              "1002   -1.340\n",
              "        ...  \n",
              "1044   -3.324\n",
              "1095   -1.620\n",
              "1130   -5.680\n",
              "860    -4.770\n",
              "1126   -6.010\n",
              "Name: measured log(solubility:mol/L), Length: 915, dtype: float64"
            ]
          },
          "metadata": {},
          "execution_count": 50
        }
      ],
      "source": [
        "Y_train"
      ]
    },
    {
      "cell_type": "code",
      "execution_count": 51,
      "metadata": {
        "colab": {
          "base_uri": "https://localhost:8080/",
          "height": 423
        },
        "id": "7Y17vpkeJv5i",
        "outputId": "492d270f-d074-4cf7-eb92-eb02902d534b"
      },
      "outputs": [
        {
          "output_type": "execute_result",
          "data": {
            "text/plain": [
              "      MolLogP    MolWt  RotatableBonds  AromaticProportion\n",
              "218   1.55740  102.177               3            0.000000\n",
              "809   5.20590  345.653               4            0.571429\n",
              "501   4.18090  339.218               4            0.545455\n",
              "649   2.05760  286.349               4            0.315789\n",
              "323   0.72822  146.153               0            0.909091\n",
              "...       ...      ...             ...                 ...\n",
              "361  -0.50840   59.068               0            0.000000\n",
              "292   1.94750  116.204               3            0.000000\n",
              "1119  2.16090  257.437               3            0.000000\n",
              "557   3.36680  138.254               0            0.000000\n",
              "448   1.40120  108.966               0            0.000000\n",
              "\n",
              "[229 rows x 4 columns]"
            ],
            "text/html": [
              "\n",
              "  <div id=\"df-e6379bde-0031-4cd9-8983-82c14516c1a1\">\n",
              "    <div class=\"colab-df-container\">\n",
              "      <div>\n",
              "<style scoped>\n",
              "    .dataframe tbody tr th:only-of-type {\n",
              "        vertical-align: middle;\n",
              "    }\n",
              "\n",
              "    .dataframe tbody tr th {\n",
              "        vertical-align: top;\n",
              "    }\n",
              "\n",
              "    .dataframe thead th {\n",
              "        text-align: right;\n",
              "    }\n",
              "</style>\n",
              "<table border=\"1\" class=\"dataframe\">\n",
              "  <thead>\n",
              "    <tr style=\"text-align: right;\">\n",
              "      <th></th>\n",
              "      <th>MolLogP</th>\n",
              "      <th>MolWt</th>\n",
              "      <th>RotatableBonds</th>\n",
              "      <th>AromaticProportion</th>\n",
              "    </tr>\n",
              "  </thead>\n",
              "  <tbody>\n",
              "    <tr>\n",
              "      <th>218</th>\n",
              "      <td>1.55740</td>\n",
              "      <td>102.177</td>\n",
              "      <td>3</td>\n",
              "      <td>0.000000</td>\n",
              "    </tr>\n",
              "    <tr>\n",
              "      <th>809</th>\n",
              "      <td>5.20590</td>\n",
              "      <td>345.653</td>\n",
              "      <td>4</td>\n",
              "      <td>0.571429</td>\n",
              "    </tr>\n",
              "    <tr>\n",
              "      <th>501</th>\n",
              "      <td>4.18090</td>\n",
              "      <td>339.218</td>\n",
              "      <td>4</td>\n",
              "      <td>0.545455</td>\n",
              "    </tr>\n",
              "    <tr>\n",
              "      <th>649</th>\n",
              "      <td>2.05760</td>\n",
              "      <td>286.349</td>\n",
              "      <td>4</td>\n",
              "      <td>0.315789</td>\n",
              "    </tr>\n",
              "    <tr>\n",
              "      <th>323</th>\n",
              "      <td>0.72822</td>\n",
              "      <td>146.153</td>\n",
              "      <td>0</td>\n",
              "      <td>0.909091</td>\n",
              "    </tr>\n",
              "    <tr>\n",
              "      <th>...</th>\n",
              "      <td>...</td>\n",
              "      <td>...</td>\n",
              "      <td>...</td>\n",
              "      <td>...</td>\n",
              "    </tr>\n",
              "    <tr>\n",
              "      <th>361</th>\n",
              "      <td>-0.50840</td>\n",
              "      <td>59.068</td>\n",
              "      <td>0</td>\n",
              "      <td>0.000000</td>\n",
              "    </tr>\n",
              "    <tr>\n",
              "      <th>292</th>\n",
              "      <td>1.94750</td>\n",
              "      <td>116.204</td>\n",
              "      <td>3</td>\n",
              "      <td>0.000000</td>\n",
              "    </tr>\n",
              "    <tr>\n",
              "      <th>1119</th>\n",
              "      <td>2.16090</td>\n",
              "      <td>257.437</td>\n",
              "      <td>3</td>\n",
              "      <td>0.000000</td>\n",
              "    </tr>\n",
              "    <tr>\n",
              "      <th>557</th>\n",
              "      <td>3.36680</td>\n",
              "      <td>138.254</td>\n",
              "      <td>0</td>\n",
              "      <td>0.000000</td>\n",
              "    </tr>\n",
              "    <tr>\n",
              "      <th>448</th>\n",
              "      <td>1.40120</td>\n",
              "      <td>108.966</td>\n",
              "      <td>0</td>\n",
              "      <td>0.000000</td>\n",
              "    </tr>\n",
              "  </tbody>\n",
              "</table>\n",
              "<p>229 rows × 4 columns</p>\n",
              "</div>\n",
              "      <button class=\"colab-df-convert\" onclick=\"convertToInteractive('df-e6379bde-0031-4cd9-8983-82c14516c1a1')\"\n",
              "              title=\"Convert this dataframe to an interactive table.\"\n",
              "              style=\"display:none;\">\n",
              "        \n",
              "  <svg xmlns=\"http://www.w3.org/2000/svg\" height=\"24px\"viewBox=\"0 0 24 24\"\n",
              "       width=\"24px\">\n",
              "    <path d=\"M0 0h24v24H0V0z\" fill=\"none\"/>\n",
              "    <path d=\"M18.56 5.44l.94 2.06.94-2.06 2.06-.94-2.06-.94-.94-2.06-.94 2.06-2.06.94zm-11 1L8.5 8.5l.94-2.06 2.06-.94-2.06-.94L8.5 2.5l-.94 2.06-2.06.94zm10 10l.94 2.06.94-2.06 2.06-.94-2.06-.94-.94-2.06-.94 2.06-2.06.94z\"/><path d=\"M17.41 7.96l-1.37-1.37c-.4-.4-.92-.59-1.43-.59-.52 0-1.04.2-1.43.59L10.3 9.45l-7.72 7.72c-.78.78-.78 2.05 0 2.83L4 21.41c.39.39.9.59 1.41.59.51 0 1.02-.2 1.41-.59l7.78-7.78 2.81-2.81c.8-.78.8-2.07 0-2.86zM5.41 20L4 18.59l7.72-7.72 1.47 1.35L5.41 20z\"/>\n",
              "  </svg>\n",
              "      </button>\n",
              "      \n",
              "  <style>\n",
              "    .colab-df-container {\n",
              "      display:flex;\n",
              "      flex-wrap:wrap;\n",
              "      gap: 12px;\n",
              "    }\n",
              "\n",
              "    .colab-df-convert {\n",
              "      background-color: #E8F0FE;\n",
              "      border: none;\n",
              "      border-radius: 50%;\n",
              "      cursor: pointer;\n",
              "      display: none;\n",
              "      fill: #1967D2;\n",
              "      height: 32px;\n",
              "      padding: 0 0 0 0;\n",
              "      width: 32px;\n",
              "    }\n",
              "\n",
              "    .colab-df-convert:hover {\n",
              "      background-color: #E2EBFA;\n",
              "      box-shadow: 0px 1px 2px rgba(60, 64, 67, 0.3), 0px 1px 3px 1px rgba(60, 64, 67, 0.15);\n",
              "      fill: #174EA6;\n",
              "    }\n",
              "\n",
              "    [theme=dark] .colab-df-convert {\n",
              "      background-color: #3B4455;\n",
              "      fill: #D2E3FC;\n",
              "    }\n",
              "\n",
              "    [theme=dark] .colab-df-convert:hover {\n",
              "      background-color: #434B5C;\n",
              "      box-shadow: 0px 1px 3px 1px rgba(0, 0, 0, 0.15);\n",
              "      filter: drop-shadow(0px 1px 2px rgba(0, 0, 0, 0.3));\n",
              "      fill: #FFFFFF;\n",
              "    }\n",
              "  </style>\n",
              "\n",
              "      <script>\n",
              "        const buttonEl =\n",
              "          document.querySelector('#df-e6379bde-0031-4cd9-8983-82c14516c1a1 button.colab-df-convert');\n",
              "        buttonEl.style.display =\n",
              "          google.colab.kernel.accessAllowed ? 'block' : 'none';\n",
              "\n",
              "        async function convertToInteractive(key) {\n",
              "          const element = document.querySelector('#df-e6379bde-0031-4cd9-8983-82c14516c1a1');\n",
              "          const dataTable =\n",
              "            await google.colab.kernel.invokeFunction('convertToInteractive',\n",
              "                                                     [key], {});\n",
              "          if (!dataTable) return;\n",
              "\n",
              "          const docLinkHtml = 'Like what you see? Visit the ' +\n",
              "            '<a target=\"_blank\" href=https://colab.research.google.com/notebooks/data_table.ipynb>data table notebook</a>'\n",
              "            + ' to learn more about interactive tables.';\n",
              "          element.innerHTML = '';\n",
              "          dataTable['output_type'] = 'display_data';\n",
              "          await google.colab.output.renderOutput(dataTable, element);\n",
              "          const docLink = document.createElement('div');\n",
              "          docLink.innerHTML = docLinkHtml;\n",
              "          element.appendChild(docLink);\n",
              "        }\n",
              "      </script>\n",
              "    </div>\n",
              "  </div>\n",
              "  "
            ]
          },
          "metadata": {},
          "execution_count": 51
        }
      ],
      "source": [
        "X_test"
      ]
    },
    {
      "cell_type": "code",
      "execution_count": 52,
      "metadata": {
        "colab": {
          "base_uri": "https://localhost:8080/"
        },
        "id": "7ydqVO1uJ4FX",
        "outputId": "e1a342ae-2ecf-4ce1-9a36-43b0a53ef631"
      },
      "outputs": [
        {
          "output_type": "execute_result",
          "data": {
            "text/plain": [
              "218    -0.890\n",
              "809    -6.890\n",
              "501    -4.530\n",
              "649    -3.420\n",
              "323    -0.466\n",
              "        ...  \n",
              "361     1.580\n",
              "292    -0.980\n",
              "1119   -0.220\n",
              "557    -5.190\n",
              "448    -1.090\n",
              "Name: measured log(solubility:mol/L), Length: 229, dtype: float64"
            ]
          },
          "metadata": {},
          "execution_count": 52
        }
      ],
      "source": [
        "Y_test"
      ]
    },
    {
      "cell_type": "markdown",
      "metadata": {
        "id": "X_xDG4DoKCE9"
      },
      "source": [
        "##**Building the Linear Model**"
      ]
    },
    {
      "cell_type": "code",
      "execution_count": 53,
      "metadata": {
        "id": "oKKAXZ00J8zb"
      },
      "outputs": [],
      "source": [
        "from sklearn import linear_model\n",
        "from sklearn.metrics import mean_squared_error, r2_score, mean_absolute_error"
      ]
    },
    {
      "cell_type": "code",
      "execution_count": 54,
      "metadata": {
        "colab": {
          "base_uri": "https://localhost:8080/"
        },
        "id": "UaKfStn3Kp6e",
        "outputId": "f5971f57-cbec-4d5c-fc75-77e5cabad9fb"
      },
      "outputs": [
        {
          "output_type": "execute_result",
          "data": {
            "text/plain": [
              "LinearRegression()"
            ]
          },
          "metadata": {},
          "execution_count": 54
        }
      ],
      "source": [
        "regr = linear_model.LinearRegression()\n",
        "regr.fit(X_train, Y_train)"
      ]
    },
    {
      "cell_type": "code",
      "execution_count": 55,
      "metadata": {
        "id": "em8ch7XvKvO9"
      },
      "outputs": [],
      "source": [
        "Y_pred_train = regr.predict(X_train)"
      ]
    },
    {
      "cell_type": "code",
      "execution_count": 56,
      "metadata": {
        "colab": {
          "base_uri": "https://localhost:8080/"
        },
        "id": "NiQ-6zrjKwFi",
        "outputId": "4214c632-3bfe-4c4e-c9f8-a1ca8703b7f8"
      },
      "outputs": [
        {
          "output_type": "execute_result",
          "data": {
            "text/plain": [
              "array([-4.47026156, -5.88839323, -4.22029229, -0.79352323, -1.73062942,\n",
              "       -1.26187649, -1.43969557, -2.36087206, -2.77481055, -2.23755209])"
            ]
          },
          "metadata": {},
          "execution_count": 56
        }
      ],
      "source": [
        "Y_pred_train[:10] # The first 10 values predicted by the model"
      ]
    },
    {
      "cell_type": "code",
      "execution_count": 57,
      "metadata": {
        "colab": {
          "base_uri": "https://localhost:8080/"
        },
        "id": "EJpWolK2KZin",
        "outputId": "69f0563e-fe92-4bad-e8bf-9f430e814ab9"
      },
      "outputs": [
        {
          "output_type": "execute_result",
          "data": {
            "text/plain": [
              "643    -4.300\n",
              "722    -8.400\n",
              "570    -3.754\n",
              "66      0.000\n",
              "1002   -1.340\n",
              "67     -1.940\n",
              "319    -0.800\n",
              "442    -2.320\n",
              "12     -3.200\n",
              "1105   -2.210\n",
              "Name: measured log(solubility:mol/L), dtype: float64"
            ]
          },
          "metadata": {},
          "execution_count": 57
        }
      ],
      "source": [
        "Y_train.head(10) # The actual first 10 valus from the train set"
      ]
    },
    {
      "cell_type": "markdown",
      "metadata": {
        "id": "sJWyBKR53d73"
      },
      "source": [
        "##**Model Evaluation**"
      ]
    },
    {
      "cell_type": "markdown",
      "metadata": {
        "id": "qJG7nYOuCxYZ"
      },
      "source": [
        "The Evaluation metrics is important for evaluating the performance of a  model. It aims to estimate the generalization accuracy of a model on the future data.\n",
        "Here the evaluation metrics are :\n",
        "\n",
        "*   Mean Absolute Error\n",
        "*   Mean Squared Error\n",
        "*   R2 Score \n"
      ]
    },
    {
      "cell_type": "code",
      "execution_count": 58,
      "metadata": {
        "colab": {
          "base_uri": "https://localhost:8080/"
        },
        "id": "uCmI6TiVAU9j",
        "outputId": "eb9644fe-6d68-4856-8486-df3f6aa793b7"
      },
      "outputs": [
        {
          "output_type": "stream",
          "name": "stdout",
          "text": [
            "Coefficient values :  [-0.72521491 -0.00663091  0.00502635 -0.50455953]\n",
            "Intercept value :  0.2527241796315507\n",
            "Mean squared error (MSE): 1.01\n",
            "Coefficient of determination (R^2): 0.77\n",
            "Mean absolute Error : 0.76\n"
          ]
        }
      ],
      "source": [
        "print(\"Coefficient values : \" ,regr.coef_)\n",
        "print(\"Intercept value : \", regr.intercept_)\n",
        "print(\"Mean squared error (MSE): %.2f\"% mean_squared_error(Y_train, Y_pred_train))\n",
        "print(\"Coefficient of determination (R^2): %.2f\"% r2_score(Y_train, Y_pred_train))\n",
        "print(\"Mean absolute Error : %.2f\"%mean_absolute_error(Y_train, Y_pred_train))"
      ]
    },
    {
      "cell_type": "markdown",
      "metadata": {
        "id": "puUcWeiNI1si"
      },
      "source": [
        "## **Performance on the test set**"
      ]
    },
    {
      "cell_type": "markdown",
      "metadata": {
        "id": "nNvikXHBJVJs"
      },
      "source": [
        "using the model to predict the values of the test set and then evaluating the results :"
      ]
    },
    {
      "cell_type": "code",
      "execution_count": 59,
      "metadata": {
        "id": "Oqtbc9QyLU5G"
      },
      "outputs": [],
      "source": [
        "Y_pred_test = regr.predict(X_test)"
      ]
    },
    {
      "cell_type": "code",
      "execution_count": 60,
      "metadata": {
        "colab": {
          "base_uri": "https://localhost:8080/"
        },
        "id": "RXVJrfidJh60",
        "outputId": "df294db2-e618-463e-e074-151b4cd2425d"
      },
      "outputs": [
        {
          "output_type": "execute_result",
          "data": {
            "text/plain": [
              "array([-1.53917269, -6.08287944, -5.28375883, -3.27746087, -1.70320929,\n",
              "       -5.63167711, -1.43239582, -2.74544339, -3.43274443, -3.79048137])"
            ]
          },
          "metadata": {},
          "execution_count": 60
        }
      ],
      "source": [
        "Y_pred_test[:10] # The first 10 values predicted by the model"
      ]
    },
    {
      "cell_type": "code",
      "execution_count": 61,
      "metadata": {
        "colab": {
          "base_uri": "https://localhost:8080/"
        },
        "id": "StFv3E3SJvIP",
        "outputId": "fc968fcd-8ee7-4f57-9051-29c7a5f1e227"
      },
      "outputs": [
        {
          "output_type": "execute_result",
          "data": {
            "text/plain": [
              "218    -0.890\n",
              "809    -6.890\n",
              "501    -4.530\n",
              "649    -3.420\n",
              "323    -0.466\n",
              "506    -5.670\n",
              "1005    0.020\n",
              "107    -4.440\n",
              "731    -3.090\n",
              "170    -2.340\n",
              "Name: measured log(solubility:mol/L), dtype: float64"
            ]
          },
          "metadata": {},
          "execution_count": 61
        }
      ],
      "source": [
        "Y_test.head(10) # The actual first 10 valus from the test set"
      ]
    },
    {
      "cell_type": "code",
      "execution_count": 62,
      "metadata": {
        "colab": {
          "base_uri": "https://localhost:8080/"
        },
        "id": "37GxSetuKQa3",
        "outputId": "29bc37d3-84d5-4d40-d8d6-18c14a75aab2"
      },
      "outputs": [
        {
          "output_type": "stream",
          "name": "stdout",
          "text": [
            "Mean squared error (MSE): 1.00\n",
            "Coefficient of determination (R^2): 0.77\n",
            "Mean absolute Error : 0.80\n"
          ]
        }
      ],
      "source": [
        "print(\"Mean squared error (MSE): %.2f\"% mean_squared_error(Y_test, Y_pred_test))\n",
        "print(\"Coefficient of determination (R^2): %.2f\"% r2_score(Y_test, Y_pred_test))\n",
        "print(\"Mean absolute Error : %.2f\"%mean_absolute_error(Y_test, Y_pred_test))"
      ]
    },
    {
      "cell_type": "markdown",
      "metadata": {
        "id": "XRVxq5RqM9Sf"
      },
      "source": [
        "## **Linear Regression Equation**"
      ]
    },
    {
      "cell_type": "code",
      "execution_count": 63,
      "metadata": {
        "colab": {
          "base_uri": "https://localhost:8080/"
        },
        "id": "dXxCjS-PNjAw",
        "outputId": "1117bd9d-ae4f-472f-ab88-efe99e1f33c1"
      },
      "outputs": [
        {
          "output_type": "stream",
          "name": "stdout",
          "text": [
            "LogS = 0.25 -0.73 LogP -0.0066 MW 0.0050 RB -0.50 AP\n"
          ]
        }
      ],
      "source": [
        "print('LogS = %.2f %.2f LogP %.4f MW %.4f RB %.2f AP' % (regr.intercept_, regr.coef_[0], regr.coef_[1], regr.coef_[2], regr.coef_[3] ) )"
      ]
    },
    {
      "cell_type": "markdown",
      "metadata": {
        "id": "ZAiVMbj0NML2"
      },
      "source": [
        "The work of Delaney provided the following linear regression equation:\n",
        "\n",
        "> LogS = **0.16 -  0.63** cLogP  **- 0.0062** MW **+ 0.066** RB **- 0.74** AP\n",
        "\n",
        "The reproduction by Pat Walters  provided the following:\n",
        "\n",
        "> LogS = **0.26 - 0.74** LogP **- 0.0066** MW + **0.0034** RB **- 0.42** AP\n",
        "\n",
        "\n",
        " Our reproduction of the project gave the following equation :\n",
        "\n",
        " > LogS = **0.25** **- 0.73** LogP **- 0.0066** MW **+ 0.0050** RB **- 0.50** AP"
      ]
    },
    {
      "cell_type": "markdown",
      "metadata": {
        "id": "KLz-R5F_nGJn"
      },
      "source": [
        "##**Scatter plot of experimental vs. predicted LogS :**"
      ]
    },
    {
      "cell_type": "code",
      "execution_count": 64,
      "metadata": {
        "id": "s7G2A-TLnLLD"
      },
      "outputs": [],
      "source": [
        "import numpy as np\n",
        "import matplotlib.pyplot as plt\n",
        "%matplotlib inline"
      ]
    },
    {
      "cell_type": "code",
      "execution_count": 65,
      "metadata": {
        "colab": {
          "base_uri": "https://localhost:8080/",
          "height": 295
        },
        "id": "1fAGaEjHnFRd",
        "outputId": "ad691075-9518-429d-975a-a30b290bb974"
      },
      "outputs": [
        {
          "output_type": "display_data",
          "data": {
            "text/plain": [
              "<Figure size 864x288 with 2 Axes>"
            ],
            "image/png": "[encoded data removed]"
          },
          "metadata": {
            "needs_background": "light"
          }
        }
      ],
      "source": [
        "plt.figure(figsize=(12,4))\n",
        "\n",
        "# plot 1 (Y train vs Y train predicted)\n",
        "plt.subplot(1,2,1)\n",
        "\n",
        "plt.scatter(Y_train, Y_pred_train, c=\"#7CAE50\", alpha=0.4, edgecolor = \"black\")\n",
        "\n",
        "z = np.polyfit(Y_train, Y_pred_train, 1)\n",
        "p = np.poly1d(z)\n",
        "plt.plot(Y_train,p(Y_train),\"-r\")\n",
        "\n",
        "plt.ylabel('Predicted LogS')\n",
        "plt.xlabel('Experimental LogS')\n",
        "plt.title (\"Train set\")\n",
        "\n",
        "# plot 2 (Y test vs Y test predicted)\n",
        "plt.subplot(1,2,2)\n",
        "\n",
        "plt.scatter(Y_test, Y_pred_test, c=\"#7CAE99\", alpha=0.4, edgecolor = \"black\")\n",
        "\n",
        "z = np.polyfit(Y_test, Y_pred_test, 1)\n",
        "p = np.poly1d(z)\n",
        "plt.plot(Y_test,p(Y_test),\"r\")\n",
        "\n",
        "plt.ylabel('Predicted LogS')\n",
        "plt.xlabel('Experimental LogS')\n",
        "plt.title(\"Test Set\")\n",
        "\n",
        "plt.show()"
      ]
    },
    {
      "cell_type": "markdown",
      "metadata": {
        "id": "KZJqWuMIQmI_"
      },
      "source": [
        "## **Using the entire dataset for model training**"
      ]
    },
    {
      "cell_type": "markdown",
      "metadata": {
        "id": "F8eakg3sRaXW"
      },
      "source": [
        "Since the total number of datapoints are low, the more datapoints that are used for training the model, the better it performs. Also, Delaney as well as Pat Walters used the complete dataset for arriving at the above result. So, for comparision, we too use the entire dataset for model building, and compare the results."
      ]
    },
    {
      "cell_type": "code",
      "execution_count": 66,
      "metadata": {
        "id": "mYY3COzrM6BK"
      },
      "outputs": [],
      "source": [
        "full = linear_model.LinearRegression()\n",
        "full.fit(X, Y)\n",
        "full_pred = full.predict(X)"
      ]
    },
    {
      "cell_type": "code",
      "execution_count": 67,
      "metadata": {
        "colab": {
          "base_uri": "https://localhost:8080/"
        },
        "id": "4M9mz60vUOAm",
        "outputId": "5055ded1-fa8e-4066-bbba-51da064abc1d"
      },
      "outputs": [
        {
          "output_type": "stream",
          "name": "stdout",
          "text": [
            "Coefficients: [-0.74173609 -0.00659927  0.00320051 -0.42316387]\n",
            "Intercept: 0.2565006830997185\n",
            "Mean squared error (MSE): 1.01\n",
            "Coefficient of determination (R^2): 0.77\n"
          ]
        }
      ],
      "source": [
        "print('Coefficients:', full.coef_)\n",
        "print('Intercept:', full.intercept_)\n",
        "print('Mean squared error (MSE): %.2f'\n",
        "      % mean_squared_error(Y, full_pred))\n",
        "print('Coefficient of determination (R^2): %.2f'\n",
        "      % r2_score(Y, full_pred))"
      ]
    },
    {
      "cell_type": "code",
      "execution_count": 68,
      "metadata": {
        "colab": {
          "base_uri": "https://localhost:8080/"
        },
        "id": "wVZHSitpU2gX",
        "outputId": "03892428-9f70-4993-ef23-a57910ba2ae9"
      },
      "outputs": [
        {
          "output_type": "stream",
          "name": "stdout",
          "text": [
            "LogS = 0.26 -0.74 LogP -0.0066 MW 0.0032 RB -0.42 AP\n"
          ]
        }
      ],
      "source": [
        "print('LogS = %.2f %.2f LogP %.4f MW %.4f RB %.2f AP' % (full.intercept_, full.coef_[0], full.coef_[1], full.coef_[2], full.coef_[3] ) )"
      ]
    },
    {
      "cell_type": "markdown",
      "metadata": {
        "id": "FVnGd5cWZf0z"
      },
      "source": [
        "Equation from Delany :\n",
        "\n",
        "> LogS = **0.16 -  0.63** cLogP  **- 0.0062** MW **+ 0.066** RB **- 0.74** AP\n",
        "\n",
        "The reproduction by Pat Walters  provided the following:\n",
        "\n",
        "> LogS = **0.26 - 0.74** LogP **- 0.0066** MW + **0.0034** RB **- 0.42** AP\n",
        "\n",
        " Equation using train dataset :\n",
        "\n",
        " > LogS = **0.25** **- 0.73** LogP **- 0.0066** MW **+ 0.0050** RB **- 0.50** AP\n",
        "\n",
        " Equation using the entire dataset :\n",
        "\n",
        " > LogS = **0.26** **- 0.74** LogP **- 0.0066** MW **+ 0.0032** RB **- 0.42** AP"
      ]
    },
    {
      "cell_type": "markdown",
      "metadata": {
        "id": "I0upR8Ogn6yl"
      },
      "source": [
        "So, by using the entire dataset, we have built a model that comes close to replicating the work done by Pat Walters  "
      ]
    },
    {
      "cell_type": "markdown",
      "source": [
        "## **References**\n",
        "\n",
        "1. John S. Delaney. [ESOL:  Estimating Aqueous Solubility Directly from Molecular Structure](https://pubs.acs.org/doi/10.1021/ci034243x). ***J. Chem. Inf. Comput. Sci.*** 2004, 44, 3, 1000-1005.\n",
        "\n",
        "2. Pat Walters. [Predicting Aqueous Solubility - It's Harder Than It Looks](http://practicalcheminformatics.blogspot.com/2018/09/predicting-aqueous-solubility-its.html). ***Practical Cheminformatics Blog***\n",
        "\n",
        "3. [Supplementary file](https://pubs.acs.org/doi/10.1021/ci034243x) from Delaney's ESOL:  Estimating Aqueous Solubility Directly from Molecular Structure."
      ],
      "metadata": {
        "id": "7s2zZYDSA4v8"
      }
    }
  ],
  "metadata": {
    "colab": {
      "collapsed_sections": [],
      "name": "Predicting_solubity_of_molecules.ipynb",
      "provenance": [],
      "authorship_tag": "ABX9TyNe3kTFItwYvHDYbHJ/Shch",
      "include_colab_link": true
    },
    "kernelspec": {
      "display_name": "Python 3",
      "name": "python3"
    },
    "language_info": {
      "name": "python"
    }
  },
  "nbformat": 4,
  "nbformat_minor": 0
}